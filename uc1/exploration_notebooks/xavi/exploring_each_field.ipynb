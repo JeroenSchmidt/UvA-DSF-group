{
 "cells": [
  {
   "cell_type": "markdown",
   "metadata": {},
   "source": [
    "## Exploring the data in each field"
   ]
  },
  {
   "cell_type": "markdown",
   "metadata": {},
   "source": [
    "The purpose of this notebook is exploring each field, looking at the data. These are the conclusions I observed:\n",
    "\n",
    "* Include *user_id* in the dataset: If *user_id* is not included, we won't be able to compare users, for example with the field *user_verified*, as there may be many tweets from one user and the field *user_verified* will be all the same and we won't know if it comes from the same user.\n",
    "\n",
    "* Irrelevant columns:\n",
    "\t* favorite_count: All 0\n",
    "\t* retweet_count: All 0\n",
    "\t* retweeted: All False\n",
    "\t* user_following: All NaN\n",
    "\n",
    "* The data goes from Aug 12th to Sept 12th, 2016. This data is 2~3 months approx before the elections (Nov 8th). It will be difficult to compare data over the time as the gap is only 1 month.\n",
    "\n",
    "* There are only 5705 verified users\n",
    "\n",
    "* Unstructured data:\n",
    "\t* country: We have tweets that come from 'México' and 'Mexico', or 'Nederland' and 'The Netherlands'. If we want to explore data crossing the country, we should use 'place_country_code' as this field is unstructured\n",
    "\t* user_location: location can be a city, country, home, etc."
   ]
  },
  {
   "cell_type": "code",
   "execution_count": 88,
   "metadata": {},
   "outputs": [],
   "source": [
    "import pandas as pd\n",
    "import numpy as np\n",
    "\n",
    "tweets = pd.read_pickle(\"../../data/cp_tweets.pkl\")"
   ]
  },
  {
   "cell_type": "code",
   "execution_count": 89,
   "metadata": {},
   "outputs": [
    {
     "data": {
      "text/plain": [
       "657307"
      ]
     },
     "execution_count": 89,
     "metadata": {},
     "output_type": "execute_result"
    }
   ],
   "source": [
    "len(tweets)"
   ]
  },
  {
   "cell_type": "code",
   "execution_count": 90,
   "metadata": {},
   "outputs": [
    {
     "data": {
      "text/plain": [
       "Index(['tweet_id', 'created_at', 'entities_hashtags', 'place_bounding_box',\n",
       "       'country', 'place_country_code', 'place_full_name', 'place_id',\n",
       "       'place_name', 'place_place_type', 'place_url', 'favorite_count',\n",
       "       'geo_coordinates', 'geo_type', 'text', 'lang', 'retweet_count',\n",
       "       'retweeted', 'source', 'timestamp_ms', 'user_created_at',\n",
       "       'user_favourites_count', 'user_followers_count', 'user_following',\n",
       "       'user_friends_count', 'user_location', 'user_screen_name',\n",
       "       'user_statuses_count', 'user_time_zone', 'user_url', 'user_verified'],\n",
       "      dtype='object')"
      ]
     },
     "execution_count": 90,
     "metadata": {},
     "output_type": "execute_result"
    }
   ],
   "source": [
    "tweets.keys()"
   ]
  },
  {
   "cell_type": "code",
   "execution_count": 92,
   "metadata": {},
   "outputs": [
    {
     "data": {
      "text/plain": [
       "766452532084342788    3\n",
       "767841456241410048    3\n",
       "773872651718815744    2\n",
       "773809373646692353    2\n",
       "764898321483739137    2\n",
       "Name: tweet_id, dtype: int64"
      ]
     },
     "execution_count": 92,
     "metadata": {},
     "output_type": "execute_result"
    }
   ],
   "source": [
    "tweets.tweet_id.value_counts().head()"
   ]
  },
  {
   "cell_type": "markdown",
   "metadata": {},
   "source": [
    "It's interesting that there are repeated tweets. We should probably delete them."
   ]
  },
  {
   "cell_type": "code",
   "execution_count": 3,
   "metadata": {},
   "outputs": [
    {
     "data": {
      "text/plain": [
       "count                  657307\n",
       "unique                 562062\n",
       "top       2016-09-01 01:55:48\n",
       "freq                        8\n",
       "first     2016-08-12 10:04:00\n",
       "last      2016-09-12 13:20:48\n",
       "Name: created_at, dtype: object"
      ]
     },
     "execution_count": 3,
     "metadata": {},
     "output_type": "execute_result"
    }
   ],
   "source": [
    "tweets['created_at'].describe()"
   ]
  },
  {
   "cell_type": "markdown",
   "metadata": {},
   "source": [
    "The data goes from Aug 12th to Sept 12th, 2016. This data is 2~3 months approx before the elections (Nov 8th). It will be difficult to compare data over the time as the gap is only 1 month."
   ]
  },
  {
   "cell_type": "code",
   "execution_count": 4,
   "metadata": {},
   "outputs": [
    {
     "name": "stdout",
     "output_type": "stream",
     "text": [
      "[[[48, 63], 'socialservices']]\n",
      "But people WAIT! It's for \"women and children!\" #socialservices https://t.co/1bog9XaQp8\n"
     ]
    }
   ],
   "source": [
    "print(tweets['entities_hashtags'].at[99998])\n",
    "print(tweets.at[99998,'text'])"
   ]
  },
  {
   "cell_type": "markdown",
   "metadata": {},
   "source": [
    "This field indicates where exactly are the hashtags in the tweet. This could be interesting in case we want to remove hashtags."
   ]
  },
  {
   "cell_type": "code",
   "execution_count": 23,
   "metadata": {},
   "outputs": [
    {
     "name": "stdout",
     "output_type": "stream",
     "text": [
      "99.9952837867237 %\n"
     ]
    }
   ],
   "source": [
    "t = tweets.place_bounding_box.count(level=None)\n",
    "print(t/len(tweets)*100,'%')"
   ]
  },
  {
   "cell_type": "markdown",
   "metadata": {},
   "source": [
    "We have value in this field for almost all the tweets."
   ]
  },
  {
   "cell_type": "code",
   "execution_count": 9,
   "metadata": {},
   "outputs": [
    {
     "data": {
      "text/plain": [
       "count            657276\n",
       "unique              350\n",
       "top       United States\n",
       "freq             591990\n",
       "Name: country, dtype: object"
      ]
     },
     "execution_count": 9,
     "metadata": {},
     "output_type": "execute_result"
    }
   ],
   "source": [
    "tweets.country.describe()"
   ]
  },
  {
   "cell_type": "code",
   "execution_count": 93,
   "metadata": {},
   "outputs": [
    {
     "data": {
      "text/plain": [
       "United States      591990\n",
       "Canada              17228\n",
       "United Kingdom       8599\n",
       "México               7830\n",
       "Australia            2613\n",
       "Mexico               2439\n",
       "India                1593\n",
       "France               1257\n",
       "Estados Unidos       1041\n",
       "Ireland               915\n",
       "Singapore             906\n",
       "Colombia              804\n",
       "Germany               800\n",
       "Japan                 646\n",
       "South Africa          633\n",
       "Deutschland           623\n",
       "Nederland             561\n",
       "Italia                559\n",
       "Vietnam               531\n",
       "Spain                 497\n",
       "Armenia               476\n",
       "New Zealand           470\n",
       "Brasil                468\n",
       "Pakistan              436\n",
       "Thailand              424\n",
       "Nigeria               410\n",
       "Venezuela             382\n",
       "España                358\n",
       "The Netherlands       337\n",
       "Mauritania            319\n",
       "Name: country, dtype: int64"
      ]
     },
     "execution_count": 93,
     "metadata": {},
     "output_type": "execute_result"
    }
   ],
   "source": [
    "tweets.country.value_counts().head(30)"
   ]
  },
  {
   "cell_type": "markdown",
   "metadata": {},
   "source": [
    "We have tweets that come from 'México' and 'Mexico', or 'Nederland' and 'The Netherlands'. If we want to explore data crossing the country, we should use 'place_country_code'. So this field would be irrelevant."
   ]
  },
  {
   "cell_type": "code",
   "execution_count": 95,
   "metadata": {},
   "outputs": [
    {
     "data": {
      "text/plain": [
       "US    593268\n",
       "CA     17249\n",
       "MX     10293\n",
       "GB      8637\n",
       "AU      2613\n",
       "IN      1625\n",
       "DE      1448\n",
       "FR      1293\n",
       "SG      1039\n",
       "IE       921\n",
       "Name: place_country_code, dtype: int64"
      ]
     },
     "execution_count": 95,
     "metadata": {},
     "output_type": "execute_result"
    }
   ],
   "source": [
    "tweets.place_country_code.value_counts().head(10)"
   ]
  },
  {
   "cell_type": "code",
   "execution_count": 106,
   "metadata": {},
   "outputs": [
    {
     "data": {
      "text/plain": [
       "Florida, USA           17582\n",
       "Los Angeles, CA        12917\n",
       "Pennsylvania, USA      12640\n",
       "Manhattan, NY          12423\n",
       "Georgia, USA           10121\n",
       "Chicago, IL             9880\n",
       "Kentucky, USA           9119\n",
       "North Carolina, USA     7443\n",
       "New York, USA           7290\n",
       "Texas, USA              7218\n",
       "Name: place_full_name, dtype: int64"
      ]
     },
     "execution_count": 106,
     "metadata": {},
     "output_type": "execute_result"
    }
   ],
   "source": [
    "tweets.place_full_name.value_counts().head(10)"
   ]
  },
  {
   "cell_type": "code",
   "execution_count": 107,
   "metadata": {},
   "outputs": [
    {
     "data": {
      "text/plain": [
       "0       29a119f18820c3ad\n",
       "1       c7ef5f3368b68777\n",
       "10      faef11a3eaa8abdb\n",
       "100     dd9c503d6c35364b\n",
       "1000    49a6be2d1d5284d1\n",
       "Name: place_id, dtype: object"
      ]
     },
     "execution_count": 107,
     "metadata": {},
     "output_type": "execute_result"
    }
   ],
   "source": [
    "tweets.place_id.head()"
   ]
  },
  {
   "cell_type": "code",
   "execution_count": 108,
   "metadata": {},
   "outputs": [
    {
     "data": {
      "text/plain": [
       "0              Frontenac\n",
       "1            Baton Rouge\n",
       "10      Chesapeake Beach\n",
       "100         Pennsylvania\n",
       "1000          Flemington\n",
       "Name: place_name, dtype: object"
      ]
     },
     "execution_count": 108,
     "metadata": {},
     "output_type": "execute_result"
    }
   ],
   "source": [
    "tweets.place_name.head()"
   ]
  },
  {
   "cell_type": "code",
   "execution_count": 109,
   "metadata": {},
   "outputs": [
    {
     "data": {
      "text/plain": [
       "city            489275\n",
       "admin           156311\n",
       "country           8082\n",
       "poi               2218\n",
       "neighborhood      1390\n",
       "Name: place_place_type, dtype: int64"
      ]
     },
     "execution_count": 109,
     "metadata": {},
     "output_type": "execute_result"
    }
   ],
   "source": [
    "tweets.place_place_type.value_counts()"
   ]
  },
  {
   "cell_type": "code",
   "execution_count": 12,
   "metadata": {},
   "outputs": [
    {
     "data": {
      "text/plain": [
       "0       https://api.twitter.com/1.1/geo/id/29a119f1882...\n",
       "1       https://api.twitter.com/1.1/geo/id/c7ef5f3368b...\n",
       "10      https://api.twitter.com/1.1/geo/id/faef11a3eaa...\n",
       "100     https://api.twitter.com/1.1/geo/id/dd9c503d6c3...\n",
       "1000    https://api.twitter.com/1.1/geo/id/49a6be2d1d5...\n",
       "Name: place_url, dtype: object"
      ]
     },
     "execution_count": 12,
     "metadata": {},
     "output_type": "execute_result"
    }
   ],
   "source": [
    "tweets.place_url.head()"
   ]
  },
  {
   "cell_type": "code",
   "execution_count": 14,
   "metadata": {},
   "outputs": [
    {
     "data": {
      "text/plain": [
       "count    657307.0\n",
       "mean          0.0\n",
       "std           0.0\n",
       "min           0.0\n",
       "25%           0.0\n",
       "50%           0.0\n",
       "75%           0.0\n",
       "max           0.0\n",
       "Name: favorite_count, dtype: float64"
      ]
     },
     "execution_count": 14,
     "metadata": {},
     "output_type": "execute_result"
    }
   ],
   "source": [
    "tweets.favorite_count.describe()"
   ]
  },
  {
   "cell_type": "markdown",
   "metadata": {},
   "source": [
    "This is another field that we can skip."
   ]
  },
  {
   "cell_type": "code",
   "execution_count": 24,
   "metadata": {},
   "outputs": [
    {
     "name": "stdout",
     "output_type": "stream",
     "text": [
      "2.130967721323522 %\n"
     ]
    }
   ],
   "source": [
    "t = tweets.geo_coordinates.count(level=None)\n",
    "print(t/len(tweets)*100,'%')"
   ]
  },
  {
   "cell_type": "markdown",
   "metadata": {},
   "source": [
    "Only 2.13% of the data contains geo coordinates. It could be irrelevant"
   ]
  },
  {
   "cell_type": "code",
   "execution_count": 25,
   "metadata": {},
   "outputs": [
    {
     "data": {
      "text/plain": [
       "Point    14007\n",
       "Name: geo_type, dtype: int64"
      ]
     },
     "execution_count": 25,
     "metadata": {},
     "output_type": "execute_result"
    }
   ],
   "source": [
    "tweets.geo_type.value_counts()"
   ]
  },
  {
   "cell_type": "markdown",
   "metadata": {},
   "source": [
    "This field is related to geo_coordinates"
   ]
  },
  {
   "cell_type": "code",
   "execution_count": 26,
   "metadata": {},
   "outputs": [
    {
     "data": {
      "text/plain": [
       "count               657307\n",
       "unique              649107\n",
       "top       @realDonaldTrump\n",
       "freq                   506\n",
       "Name: text, dtype: object"
      ]
     },
     "execution_count": 26,
     "metadata": {},
     "output_type": "execute_result"
    }
   ],
   "source": [
    "tweets.text.describe()"
   ]
  },
  {
   "cell_type": "code",
   "execution_count": 96,
   "metadata": {},
   "outputs": [
    {
     "data": {
      "text/plain": [
       "@realDonaldTrump                                                                                                                     506\n",
       "@HillaryClinton                                                                                                                      142\n",
       "@realDonaldTrump https://t.co/pVTNPKABtg #MakeAmericaGreatAgain #NoSacredCows #noPC #nomoresocialexperiments #TeamTrump #Breaking    117\n",
       "@greta @realDonaldTrump yes                                                                                                          104\n",
       "@greta @HillaryClinton yes                                                                                                            68\n",
       "Name: text, dtype: int64"
      ]
     },
     "execution_count": 96,
     "metadata": {},
     "output_type": "execute_result"
    }
   ],
   "source": [
    "tweets.text.value_counts().head()"
   ]
  },
  {
   "cell_type": "code",
   "execution_count": 28,
   "metadata": {},
   "outputs": [
    {
     "data": {
      "text/plain": [
       "657307"
      ]
     },
     "execution_count": 28,
     "metadata": {},
     "output_type": "execute_result"
    }
   ],
   "source": [
    "tweets.text.count(level=None)"
   ]
  },
  {
   "cell_type": "markdown",
   "metadata": {},
   "source": [
    "We have not Null tweets."
   ]
  },
  {
   "cell_type": "code",
   "execution_count": 97,
   "metadata": {},
   "outputs": [
    {
     "data": {
      "text/plain": [
       "en     563329\n",
       "und     72178\n",
       "es      12881\n",
       "fr       1959\n",
       "tl       1013\n",
       "Name: lang, dtype: int64"
      ]
     },
     "execution_count": 97,
     "metadata": {},
     "output_type": "execute_result"
    }
   ],
   "source": [
    "tweets.lang.value_counts().head()"
   ]
  },
  {
   "cell_type": "markdown",
   "metadata": {},
   "source": [
    "There are 72178 tweets that the language cannot be determined. This could happen because there is no text in the tweet, just tags."
   ]
  },
  {
   "cell_type": "code",
   "execution_count": 58,
   "metadata": {},
   "outputs": [
    {
     "data": {
      "text/plain": [
       "['@theblaze @realDonaldTrump https://t.co/TY9DlZ584c',\n",
       " '@bfraser747 @WinnaWinna2016 @HillaryClinton @RedNationRising #Alinsky #Soros #Hill #Barry IAF https://t.co/7eLCaMLcs9',\n",
       " '@FoxNews @realDonaldTrump @seanhannity  LOL',\n",
       " '#Obamasucks  https://t.co/JhQRJTyuez',\n",
       " '#USA #MAGA #Vets4Trump #ElvisPresley https://t.co/1LyiF6Kind',\n",
       " '@FoxNews @realDonaldTrump @seanhannity https://t.co/g1qKPfwwRQ',\n",
       " '@HillaryClinton @JoeBiden @realDonaldTrump https://t.co/j0GlnPnV1R',\n",
       " '@realDonaldTrump @maddow @Morning_Joe @JohnCleese https://t.co/ADcoFGaz2i',\n",
       " '@SarahKSilverman @realDonaldTrump https://t.co/l27ZvNA7sJ',\n",
       " '@realDonaldTrump']"
      ]
     },
     "execution_count": 58,
     "metadata": {},
     "output_type": "execute_result"
    }
   ],
   "source": [
    "tweets[tweets['lang'] == 'und']['text'].head(10).tolist()"
   ]
  },
  {
   "cell_type": "code",
   "execution_count": 60,
   "metadata": {},
   "outputs": [
    {
     "data": {
      "text/plain": [
       "count    657307.0\n",
       "mean          0.0\n",
       "std           0.0\n",
       "min           0.0\n",
       "25%           0.0\n",
       "50%           0.0\n",
       "75%           0.0\n",
       "max           0.0\n",
       "Name: retweet_count, dtype: float64"
      ]
     },
     "execution_count": 60,
     "metadata": {},
     "output_type": "execute_result"
    }
   ],
   "source": [
    "tweets.retweet_count.describe()"
   ]
  },
  {
   "cell_type": "markdown",
   "metadata": {},
   "source": [
    "This is another field we can skip"
   ]
  },
  {
   "cell_type": "code",
   "execution_count": 62,
   "metadata": {},
   "outputs": [
    {
     "data": {
      "text/plain": [
       "count     657307\n",
       "unique         1\n",
       "top        False\n",
       "freq      657307\n",
       "Name: retweeted, dtype: object"
      ]
     },
     "execution_count": 62,
     "metadata": {},
     "output_type": "execute_result"
    }
   ],
   "source": [
    "tweets.retweeted.describe()"
   ]
  },
  {
   "cell_type": "markdown",
   "metadata": {},
   "source": [
    "This is another field we can skip"
   ]
  },
  {
   "cell_type": "code",
   "execution_count": 67,
   "metadata": {},
   "outputs": [
    {
     "data": {
      "text/plain": [
       "['<a href=\"http://twitter.com/download/iphone\" rel=\"nofollow\">Twitter for iPhone</a>',\n",
       " '<a href=\"http://twitter.com/download/android\" rel=\"nofollow\">Twitter for Android</a>',\n",
       " '<a href=\"http://twitter.com/download/iphone\" rel=\"nofollow\">Twitter for iPhone</a>',\n",
       " '<a href=\"http://twitter.com\" rel=\"nofollow\">Twitter Web Client</a>',\n",
       " '<a href=\"http://twitter.com/download/android\" rel=\"nofollow\">Twitter for Android</a>',\n",
       " '<a href=\"http://twitter.com/download/android\" rel=\"nofollow\">Twitter for Android</a>',\n",
       " '<a href=\"http://twitter.com/download/android\" rel=\"nofollow\">Twitter for Android</a>',\n",
       " '<a href=\"http://twitter.com\" rel=\"nofollow\">Twitter Web Client</a>',\n",
       " '<a href=\"http://twitter.com/download/iphone\" rel=\"nofollow\">Twitter for iPhone</a>',\n",
       " '<a href=\"http://twitter.com/download/android\" rel=\"nofollow\">Twitter for Android</a>']"
      ]
     },
     "execution_count": 67,
     "metadata": {},
     "output_type": "execute_result"
    }
   ],
   "source": [
    "tweets.source.head(10).tolist()"
   ]
  },
  {
   "cell_type": "markdown",
   "metadata": {},
   "source": [
    "It tells us where is the tweet coming from"
   ]
  },
  {
   "cell_type": "code",
   "execution_count": 68,
   "metadata": {},
   "outputs": [
    {
     "data": {
      "text/plain": [
       "count                         657307\n",
       "unique                        656947\n",
       "top       2016-08-19 01:51:38.305000\n",
       "freq                               3\n",
       "first     2016-08-12 10:04:00.225000\n",
       "last      2016-09-12 13:20:48.096000\n",
       "Name: timestamp_ms, dtype: object"
      ]
     },
     "execution_count": 68,
     "metadata": {},
     "output_type": "execute_result"
    }
   ],
   "source": [
    "tweets.timestamp_ms.describe()"
   ]
  },
  {
   "cell_type": "markdown",
   "metadata": {},
   "source": [
    "It gives us more accuracy about when the tweet was created."
   ]
  },
  {
   "cell_type": "code",
   "execution_count": 76,
   "metadata": {},
   "outputs": [
    {
     "data": {
      "text/plain": [
       "count                  657307\n",
       "unique                  86398\n",
       "top       2010-02-17 16:55:49\n",
       "freq                     6244\n",
       "first     2006-07-05 19:52:46\n",
       "last      2016-09-12 00:13:33\n",
       "Name: user_created_at, dtype: object"
      ]
     },
     "execution_count": 76,
     "metadata": {},
     "output_type": "execute_result"
    }
   ],
   "source": [
    "tweets.user_created_at.describe()"
   ]
  },
  {
   "cell_type": "code",
   "execution_count": 81,
   "metadata": {},
   "outputs": [
    {
     "data": {
      "text/plain": [
       "count    657307.000000\n",
       "mean       8988.641432\n",
       "std       21316.855890\n",
       "min           0.000000\n",
       "25%         369.000000\n",
       "50%        2196.000000\n",
       "75%        7876.000000\n",
       "max      743534.000000\n",
       "Name: user_favourites_count, dtype: float64"
      ]
     },
     "execution_count": 81,
     "metadata": {},
     "output_type": "execute_result"
    }
   ],
   "source": [
    "tweets.user_favourites_count.describe()"
   ]
  },
  {
   "cell_type": "code",
   "execution_count": 82,
   "metadata": {},
   "outputs": [
    {
     "data": {
      "text/plain": [
       "count    6.573070e+05\n",
       "mean     3.179759e+03\n",
       "std      4.478260e+04\n",
       "min      0.000000e+00\n",
       "25%      9.700000e+01\n",
       "50%      4.270000e+02\n",
       "75%      1.615000e+03\n",
       "max      1.136233e+07\n",
       "Name: user_followers_count, dtype: float64"
      ]
     },
     "execution_count": 82,
     "metadata": {},
     "output_type": "execute_result"
    }
   ],
   "source": [
    "tweets.user_followers_count.describe()"
   ]
  },
  {
   "cell_type": "code",
   "execution_count": 83,
   "metadata": {},
   "outputs": [
    {
     "data": {
      "text/plain": [
       "count    0.0\n",
       "mean     NaN\n",
       "std      NaN\n",
       "min      NaN\n",
       "25%      NaN\n",
       "50%      NaN\n",
       "75%      NaN\n",
       "max      NaN\n",
       "Name: user_following, dtype: float64"
      ]
     },
     "execution_count": 83,
     "metadata": {},
     "output_type": "execute_result"
    }
   ],
   "source": [
    "tweets.user_following.describe()"
   ]
  },
  {
   "cell_type": "code",
   "execution_count": 84,
   "metadata": {},
   "outputs": [
    {
     "data": {
      "text/plain": [
       "count    657307.000000\n",
       "mean       1843.207267\n",
       "std        6521.584588\n",
       "min           0.000000\n",
       "25%         151.000000\n",
       "50%         543.000000\n",
       "75%        1896.000000\n",
       "max      945156.000000\n",
       "Name: user_friends_count, dtype: float64"
      ]
     },
     "execution_count": 84,
     "metadata": {},
     "output_type": "execute_result"
    }
   ],
   "source": [
    "tweets.user_friends_count.describe()"
   ]
  },
  {
   "cell_type": "code",
   "execution_count": 98,
   "metadata": {},
   "outputs": [
    {
     "data": {
      "text/plain": [
       "United States          15892\n",
       "USA                     9447\n",
       "Crab Orchard, Ky.       6244\n",
       "Florida, USA            6049\n",
       "Chicago, IL             5680\n",
       "California, USA         4456\n",
       "Austin, TX              3805\n",
       "Washington, DC          3580\n",
       "longville La            3470\n",
       "Los Angeles, CA         3359\n",
       "North Carolina, USA     3094\n",
       "New York, NY            3043\n",
       "Texas, USA              2906\n",
       "New Jersey, USA         2801\n",
       "Alabama, USA            2778\n",
       "home                    2776\n",
       "San Diego, CA           2611\n",
       "NYC                     2586\n",
       "Pennsylvania, USA       2465\n",
       "New York                2292\n",
       "Name: user_location, dtype: int64"
      ]
     },
     "execution_count": 98,
     "metadata": {},
     "output_type": "execute_result"
    }
   ],
   "source": [
    "tweets.user_location.value_counts().head(20)"
   ]
  },
  {
   "cell_type": "markdown",
   "metadata": {},
   "source": [
    "This field is unstructured as location can be a city, country, home, etc."
   ]
  },
  {
   "cell_type": "code",
   "execution_count": 100,
   "metadata": {},
   "outputs": [
    {
     "data": {
      "text/plain": [
       "AppaloosaGuy     6244\n",
       "sunnyherring1    4541\n",
       "ofarther         3470\n",
       "chigobiker       3006\n",
       "pvtbonehead      2707\n",
       "Unclerojelio     2184\n",
       "Non_MSM_News     2074\n",
       "Kegan05          1692\n",
       "djcaldwelldmd    1640\n",
       "purdycan         1439\n",
       "Name: user_screen_name, dtype: int64"
      ]
     },
     "execution_count": 100,
     "metadata": {},
     "output_type": "execute_result"
    }
   ],
   "source": [
    "tweets.user_screen_name.value_counts().head(10)"
   ]
  },
  {
   "cell_type": "code",
   "execution_count": 101,
   "metadata": {},
   "outputs": [
    {
     "data": {
      "text/plain": [
       "0       17620\n",
       "1        5046\n",
       "10        277\n",
       "100     10294\n",
       "1000      944\n",
       "Name: user_statuses_count, dtype: int64"
      ]
     },
     "execution_count": 101,
     "metadata": {},
     "output_type": "execute_result"
    }
   ],
   "source": [
    "tweets.user_statuses_count.head()"
   ]
  },
  {
   "cell_type": "markdown",
   "metadata": {},
   "source": [
    "The number of Tweets (including retweets) issued by the user."
   ]
  },
  {
   "cell_type": "code",
   "execution_count": 104,
   "metadata": {},
   "outputs": [
    {
     "data": {
      "text/plain": [
       "Eastern Time (US & Canada)     113807\n",
       "Pacific Time (US & Canada)      84910\n",
       "Central Time (US & Canada)      58968\n",
       "Atlantic Time (Canada)          18142\n",
       "Quito                           14165\n",
       "Mountain Time (US & Canada)     10806\n",
       "Arizona                          9875\n",
       "America/New_York                 4832\n",
       "London                           4702\n",
       "Hawaii                           4678\n",
       "Name: user_time_zone, dtype: int64"
      ]
     },
     "execution_count": 104,
     "metadata": {},
     "output_type": "execute_result"
    }
   ],
   "source": [
    "tweets.user_time_zone.value_counts().head(10)"
   ]
  },
  {
   "cell_type": "code",
   "execution_count": 111,
   "metadata": {},
   "outputs": [
    {
     "data": {
      "text/plain": [
       "False    651602\n",
       "True       5705\n",
       "Name: user_verified, dtype: int64"
      ]
     },
     "execution_count": 111,
     "metadata": {},
     "output_type": "execute_result"
    }
   ],
   "source": [
    "tweets.user_verified.value_counts()"
   ]
  },
  {
   "cell_type": "code",
   "execution_count": null,
   "metadata": {},
   "outputs": [],
   "source": []
  }
 ],
 "metadata": {
  "kernelspec": {
   "display_name": "Python 3",
   "language": "python",
   "name": "python3"
  },
  "language_info": {
   "codemirror_mode": {
    "name": "ipython",
    "version": 3
   },
   "file_extension": ".py",
   "mimetype": "text/x-python",
   "name": "python",
   "nbconvert_exporter": "python",
   "pygments_lexer": "ipython3",
   "version": "3.6.5"
  }
 },
 "nbformat": 4,
 "nbformat_minor": 2
}
