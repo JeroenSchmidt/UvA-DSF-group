{
 "cells": [
  {
   "cell_type": "code",
   "execution_count": 1,
   "metadata": {},
   "outputs": [
    {
     "data": {
      "text/html": [
       "<script>requirejs.config({paths: { 'plotly': ['https://cdn.plot.ly/plotly-latest.min']},});if(!window.Plotly) {{require(['plotly'],function(plotly) {window.Plotly=plotly;});}}</script>"
      ],
      "text/vnd.plotly.v1+html": [
       "<script>requirejs.config({paths: { 'plotly': ['https://cdn.plot.ly/plotly-latest.min']},});if(!window.Plotly) {{require(['plotly'],function(plotly) {window.Plotly=plotly;});}}</script>"
      ]
     },
     "metadata": {},
     "output_type": "display_data"
    }
   ],
   "source": [
    "import pandas as pd\n",
    "import numpy as np\n",
    "import matplotlib.pyplot as plt\n",
    "import seaborn as sns\n",
    "\n",
    "from textblob import TextBlob\n",
    "from textblob.sentiments import PatternAnalyzer, NaiveBayesAnalyzer\n",
    "\n",
    "import sys\n",
    "lib_dir = \"../../libs/\"\n",
    "if lib_dir not in sys.path:\n",
    "    sys.path.append(lib_dir)\n",
    "\n",
    "import DSF_helpers\n",
    "\n",
    "from plotly.offline import iplot,init_notebook_mode\n",
    "init_notebook_mode(connected=True)\n",
    "\n",
    "%matplotlib inline"
   ]
  },
  {
   "cell_type": "code",
   "execution_count": 2,
   "metadata": {},
   "outputs": [],
   "source": [
    "tweets = pd.read_pickle(\"../../data/ap_tweets_classified.pkl\")"
   ]
  },
  {
   "cell_type": "code",
   "execution_count": 3,
   "metadata": {},
   "outputs": [],
   "source": [
    "analyzer = PatternAnalyzer()"
   ]
  },
  {
   "cell_type": "code",
   "execution_count": 4,
   "metadata": {},
   "outputs": [],
   "source": [
    "def sentiment(tweet):\n",
    "    p = 0\n",
    "    text = tweet.text\n",
    "    tb = TextBlob(tweet.text, analyzer = analyzer)\n",
    "    #return tb.sentiment.classification\n",
    "    output = 'neu'\n",
    "    if tb.sentiment.polarity < -p:\n",
    "        output = 'neg'\n",
    "    elif tb.sentiment.polarity > p:\n",
    "        output = 'pos'\n",
    "    return output    \n",
    "\n",
    "tweets['sentiment'] = tweets.apply(sentiment,axis=1)"
   ]
  },
  {
   "cell_type": "code",
   "execution_count": 5,
   "metadata": {},
   "outputs": [],
   "source": [
    "#tweets.to_pickle(\"../../data/ap_tweets_classified_sentiment.pkl\")"
   ]
  },
  {
   "cell_type": "code",
   "execution_count": 6,
   "metadata": {},
   "outputs": [
    {
     "name": "stderr",
     "output_type": "stream",
     "text": [
      "/home/zenbook/anaconda3/lib/python3.6/site-packages/ipykernel_launcher.py:6: SettingWithCopyWarning:\n",
      "\n",
      "\n",
      "A value is trying to be set on a copy of a slice from a DataFrame.\n",
      "Try using .loc[row_indexer,col_indexer] = value instead\n",
      "\n",
      "See the caveats in the documentation: http://pandas.pydata.org/pandas-docs/stable/indexing.html#indexing-view-versus-copy\n",
      "\n"
     ]
    }
   ],
   "source": [
    "# Only look for USA tweets and in English\n",
    "logic = (tweets.country == 'United States') & \\\n",
    "        (tweets.place_place_type != 'poi') & \\\n",
    "        (tweets.place_place_type != 'country') & \\\n",
    "        (tweets.lang == 'en') & \\\n",
    "        (tweets.place_place_type != 'neighborhood')\n",
    "\n",
    "# Keep only USA tweets and the language is English\n",
    "tweets_USA = tweets[logic]\n",
    "tweets_USA['state_abrv'] = tweets_USA['place_full_name'].apply(DSF_helpers.get_state_ABRV)"
   ]
  },
  {
   "cell_type": "code",
   "execution_count": 7,
   "metadata": {},
   "outputs": [
    {
     "data": {
      "text/plain": [
       "(421309, 36)"
      ]
     },
     "execution_count": 7,
     "metadata": {},
     "output_type": "execute_result"
    }
   ],
   "source": [
    "tweets_USA = tweets_USA[tweets_USA.about.notnull()]\n",
    "tweets_USA.shape"
   ]
  },
  {
   "cell_type": "code",
   "execution_count": 8,
   "metadata": {},
   "outputs": [
    {
     "name": "stdout",
     "output_type": "stream",
     "text": [
      "gonna knock hell isis toughest potus ever whine media tough guy\n",
      "neg\n",
      "\n",
      "lier fbi told did\n",
      "neu\n",
      "\n",
      "motto comes talking past critics factcheckers\n",
      "neg\n",
      "\n",
      "new york life insurance fires top official wishing death activist\n",
      "pos\n",
      "\n",
      "serious shit\n",
      "neg\n",
      "\n"
     ]
    }
   ],
   "source": [
    "from random import randint\n",
    "n = 5\n",
    "tmp = tweets_USA.loc[:,['text', 'sentiment']]\n",
    "for i in range(n):\n",
    "    i = randint(0, len(tweets_USA))\n",
    "    print(tmp.iat[i,0])\n",
    "    print(tmp.iat[i,1])\n",
    "    print()"
   ]
  },
  {
   "cell_type": "code",
   "execution_count": 9,
   "metadata": {},
   "outputs": [
    {
     "data": {
      "text/html": [
       "<div>\n",
       "<style scoped>\n",
       "    .dataframe tbody tr th:only-of-type {\n",
       "        vertical-align: middle;\n",
       "    }\n",
       "\n",
       "    .dataframe tbody tr th {\n",
       "        vertical-align: top;\n",
       "    }\n",
       "\n",
       "    .dataframe thead th {\n",
       "        text-align: right;\n",
       "    }\n",
       "</style>\n",
       "<table border=\"1\" class=\"dataframe\">\n",
       "  <thead>\n",
       "    <tr style=\"text-align: right;\">\n",
       "      <th>sentiment</th>\n",
       "      <th>neg</th>\n",
       "      <th>neu</th>\n",
       "      <th>pos</th>\n",
       "    </tr>\n",
       "    <tr>\n",
       "      <th>about</th>\n",
       "      <th></th>\n",
       "      <th></th>\n",
       "      <th></th>\n",
       "    </tr>\n",
       "  </thead>\n",
       "  <tbody>\n",
       "    <tr>\n",
       "      <th>0.0</th>\n",
       "      <td>62922</td>\n",
       "      <td>131902</td>\n",
       "      <td>84835</td>\n",
       "    </tr>\n",
       "    <tr>\n",
       "      <th>1.0</th>\n",
       "      <td>26534</td>\n",
       "      <td>58579</td>\n",
       "      <td>33208</td>\n",
       "    </tr>\n",
       "    <tr>\n",
       "      <th>2.0</th>\n",
       "      <td>5251</td>\n",
       "      <td>11812</td>\n",
       "      <td>6266</td>\n",
       "    </tr>\n",
       "  </tbody>\n",
       "</table>\n",
       "</div>"
      ],
      "text/plain": [
       "sentiment    neg     neu    pos\n",
       "about                          \n",
       "0.0        62922  131902  84835\n",
       "1.0        26534   58579  33208\n",
       "2.0         5251   11812   6266"
      ]
     },
     "execution_count": 9,
     "metadata": {},
     "output_type": "execute_result"
    }
   ],
   "source": [
    "pd.pivot_table(tweets_USA, index = ['about'], columns = ['sentiment'], aggfunc='size')"
   ]
  },
  {
   "cell_type": "code",
   "execution_count": 10,
   "metadata": {},
   "outputs": [],
   "source": [
    "tweets_USA = tweets_USA[tweets_USA.sentiment != 'neu']"
   ]
  },
  {
   "cell_type": "code",
   "execution_count": 11,
   "metadata": {},
   "outputs": [
    {
     "data": {
      "text/plain": [
       "(219016, 36)"
      ]
     },
     "execution_count": 11,
     "metadata": {},
     "output_type": "execute_result"
    }
   ],
   "source": [
    "tweets_USA.shape"
   ]
  },
  {
   "cell_type": "code",
   "execution_count": 12,
   "metadata": {},
   "outputs": [],
   "source": [
    "# Change the data to plot it with Seaborn\n",
    "\n",
    "table = pd.pivot_table(tweets_USA, index = ['state_abrv'], columns = ['about', 'sentiment'], aggfunc='size').reset_index()\n",
    "trump_sentiment = table.loc[:,['state_abrv', 0]].dropna()\n",
    "hillary_sentiment = table.loc[:,['state_abrv', 1]].dropna()\n",
    "both_sentiment = table.loc[:,['state_abrv', 2]].dropna()\n",
    "\n",
    "trump_sentiment = trump_sentiment.assign(total = \n",
    "                                         trump_sentiment[0,'neg']+\n",
    "                                         trump_sentiment[0,'pos']).sort_values('total', ascending=False)\n",
    "trump_sentiment = trump_sentiment.drop('total', axis=1, level=0)\n",
    "hillary_sentiment = hillary_sentiment.assign(total = \n",
    "                                         hillary_sentiment[1,'neg']+\n",
    "                                         hillary_sentiment[1,'pos']).sort_values('total', ascending=False)\n",
    "hillary_sentiment = hillary_sentiment.drop('total', axis=1, level=0)\n",
    "both_sentiment = both_sentiment.assign(total = \n",
    "                                         both_sentiment[2,'neg']+\n",
    "                                         both_sentiment[2,'pos']).sort_values('total', ascending=False)\n",
    "both_sentiment = both_sentiment.drop('total', axis=1, level=0)\n",
    "\n",
    "trump_sentiment = pd.melt(trump_sentiment, id_vars='state_abrv', value_name=\"count\")\n",
    "hillary_sentiment = pd.melt(hillary_sentiment, id_vars='state_abrv', value_name=\"count\")\n",
    "both_sentiment = pd.melt(both_sentiment, id_vars='state_abrv', value_name=\"count\")"
   ]
  },
  {
   "cell_type": "code",
   "execution_count": 13,
   "metadata": {},
   "outputs": [
    {
     "data": {
      "text/plain": [
       "<seaborn.axisgrid.FacetGrid at 0x7f6324154ba8>"
      ]
     },
     "execution_count": 13,
     "metadata": {},
     "output_type": "execute_result"
    },
    {
     "data": {
      "image/png": "[encoded data removed]",
      "text/plain": [
       "<Figure size 418.5x360 with 1 Axes>"
      ]
     },
     "metadata": {},
     "output_type": "display_data"
    }
   ],
   "source": [
    "sns.catplot(x=\"state_abrv\", y=\"count\", hue=\"sentiment\", data=trump_sentiment, kind='bar')"
   ]
  },
  {
   "cell_type": "code",
   "execution_count": 14,
   "metadata": {},
   "outputs": [
    {
     "data": {
      "text/plain": [
       "<seaborn.axisgrid.FacetGrid at 0x7f6323f39438>"
      ]
     },
     "execution_count": 14,
     "metadata": {},
     "output_type": "execute_result"
    },
    {
     "data": {
      "image/png": "[encoded data removed]",
      "text/plain": [
       "<Figure size 418.5x360 with 1 Axes>"
      ]
     },
     "metadata": {},
     "output_type": "display_data"
    }
   ],
   "source": [
    "sns.catplot(x=\"state_abrv\", y=\"count\", hue=\"sentiment\", data=hillary_sentiment, kind='bar')"
   ]
  },
  {
   "cell_type": "code",
   "execution_count": 15,
   "metadata": {},
   "outputs": [
    {
     "data": {
      "text/plain": [
       "<seaborn.axisgrid.FacetGrid at 0x7f632332fc18>"
      ]
     },
     "execution_count": 15,
     "metadata": {},
     "output_type": "execute_result"
    },
    {
     "data": {
      "image/png": "[encoded data removed]",
      "text/plain": [
       "<Figure size 418.5x360 with 1 Axes>"
      ]
     },
     "metadata": {},
     "output_type": "display_data"
    }
   ],
   "source": [
    "sns.catplot(x=\"state_abrv\", y=\"count\", hue=\"sentiment\", data=both_sentiment, kind='bar')"
   ]
  },
  {
   "cell_type": "code",
   "execution_count": 16,
   "metadata": {},
   "outputs": [],
   "source": [
    "def func(x):\n",
    "    pos = len(x[x=='pos'])\n",
    "    neg = len(x[x=='neg'])\n",
    "    if neg == 0: return np.nan\n",
    "    if(pos + neg < 90): return np.nan\n",
    "    return pos/neg\n",
    "\n",
    "ratio = pd.pivot_table(tweets_USA, values = ['sentiment'], index = ['state_abrv'], columns = ['about'], aggfunc=func).reset_index()\n",
    "ratio.dropna(inplace=True)\n",
    "ratio.drop(('sentiment', 2), axis=1, inplace=True)"
   ]
  },
  {
   "cell_type": "code",
   "execution_count": 17,
   "metadata": {},
   "outputs": [],
   "source": [
    "ratio_melt = pd.melt(ratio, id_vars='state_abrv', value_name=\"count\")"
   ]
  },
  {
   "cell_type": "code",
   "execution_count": 18,
   "metadata": {},
   "outputs": [
    {
     "data": {
      "text/plain": [
       "<seaborn.axisgrid.FacetGrid at 0x7f63229af978>"
      ]
     },
     "execution_count": 18,
     "metadata": {},
     "output_type": "execute_result"
    },
    {
     "data": {
      "image/png": "[encoded data removed]",
      "text/plain": [
       "<Figure size 411.875x360 with 1 Axes>"
      ]
     },
     "metadata": {},
     "output_type": "display_data"
    }
   ],
   "source": [
    "sns.catplot(x=\"state_abrv\", y=\"count\", hue=\"about\", data=ratio_melt, kind='bar')"
   ]
  },
  {
   "cell_type": "code",
   "execution_count": 19,
   "metadata": {},
   "outputs": [],
   "source": [
    "ratio['who'] = ratio.apply(lambda x: 1 if x[('sentiment', 0)] > x[('sentiment', 1)] else 0, axis=1)\n",
    "#ratio['who'] = ratio.apply(lambda x: x[('sentiment', 0)] - x[('sentiment', 1)], axis=1)\n",
    "#ratio['who'] = ratio.apply(lambda x: x[('sentiment', 0)], axis=1)\n",
    "#ratio['who'] = ratio.apply(lambda x: x[('sentiment', 1)], axis=1)"
   ]
  },
  {
   "cell_type": "code",
   "execution_count": 20,
   "metadata": {},
   "outputs": [],
   "source": [
    "ratio_map = ratio[['state_abrv', 'who']]\n",
    "ratio_map.columns = ratio_map.columns.droplevel(level=1)"
   ]
  },
  {
   "cell_type": "code",
   "execution_count": 21,
   "metadata": {
    "scrolled": false
   },
   "outputs": [
    {
     "data": {
      "application/vnd.plotly.v1+json": {
       "data": [
        {
         "autocolorscale": false,
         "colorbar": {
          "title": "ratio Trump - ratio Hillary (rounded)"
         },
         "colorscale": [
          [
           0,
           "#439FE0"
          ],
          [
           0.5,
           "#FFFFFF"
          ],
          [
           1,
           "#FF6B7B"
          ]
         ],
         "locationmode": "USA-states",
         "locations": [
          "AL",
          "AR",
          "AZ",
          "CA",
          "CO",
          "FL",
          "GA",
          "IL",
          "IN",
          "KY",
          "LA",
          "MA",
          "MD",
          "MI",
          "MN",
          "MO",
          "NC",
          "NJ",
          "NV",
          "NY",
          "OH",
          "OK",
          "OR",
          "PA",
          "SC",
          "TN",
          "TX",
          "VA",
          "WA",
          "WI"
         ],
         "marker": {
          "line": {
           "color": "rgb(255,255,255)",
           "width": 2
          }
         },
         "type": "choropleth",
         "uid": "a7124aae-c8a4-11e8-aad5-c48508372ee0",
         "z": [
          0,
          1,
          1,
          0,
          1,
          1,
          1,
          1,
          1,
          1,
          1,
          0,
          1,
          0,
          1,
          1,
          1,
          1,
          1,
          1,
          0,
          1,
          0,
          1,
          1,
          1,
          1,
          1,
          1,
          1
         ]
        }
       ],
       "layout": {
        "geo": {
         "lakecolor": "rgb(255, 255, 255)",
         "projection": {
          "type": "albers usa"
         },
         "scope": "usa",
         "showlakes": true
        },
        "title": "How positively they talk about one against the other"
       }
      },
      "text/html": [
       "<div id=\"cfbd62cf-78f3-4d6b-b9ea-e8f7c5af1c04\" style=\"height: 525px; width: 100%;\" class=\"plotly-graph-div\"></div><script type=\"text/javascript\">require([\"plotly\"], function(Plotly) { window.PLOTLYENV=window.PLOTLYENV || {};window.PLOTLYENV.BASE_URL=\"https://plot.ly\";Plotly.newPlot(\"cfbd62cf-78f3-4d6b-b9ea-e8f7c5af1c04\", [{\"autocolorscale\": false, \"colorbar\": {\"title\": \"ratio Trump - ratio Hillary (rounded)\"}, \"colorscale\": [[0, \"#439FE0\"], [0.5, \"#FFFFFF\"], [1, \"#FF6B7B\"]], \"locationmode\": \"USA-states\", \"locations\": [\"AL\", \"AR\", \"AZ\", \"CA\", \"CO\", \"FL\", \"GA\", \"IL\", \"IN\", \"KY\", \"LA\", \"MA\", \"MD\", \"MI\", \"MN\", \"MO\", \"NC\", \"NJ\", \"NV\", \"NY\", \"OH\", \"OK\", \"OR\", \"PA\", \"SC\", \"TN\", \"TX\", \"VA\", \"WA\", \"WI\"], \"marker\": {\"line\": {\"color\": \"rgb(255,255,255)\", \"width\": 2}}, \"z\": [0, 1, 1, 0, 1, 1, 1, 1, 1, 1, 1, 0, 1, 0, 1, 1, 1, 1, 1, 1, 0, 1, 0, 1, 1, 1, 1, 1, 1, 1], \"type\": \"choropleth\", \"uid\": \"a7124aaf-c8a4-11e8-aad5-c48508372ee0\"}], {\"geo\": {\"lakecolor\": \"rgb(255, 255, 255)\", \"projection\": {\"type\": \"albers usa\"}, \"scope\": \"usa\", \"showlakes\": true}, \"title\": \"How positively they talk about one against the other\"}, {\"showLink\": true, \"linkText\": \"Export to plot.ly\"})});</script>"
      ],
      "text/vnd.plotly.v1+html": [
       "<div id=\"cfbd62cf-78f3-4d6b-b9ea-e8f7c5af1c04\" style=\"height: 525px; width: 100%;\" class=\"plotly-graph-div\"></div><script type=\"text/javascript\">require([\"plotly\"], function(Plotly) { window.PLOTLYENV=window.PLOTLYENV || {};window.PLOTLYENV.BASE_URL=\"https://plot.ly\";Plotly.newPlot(\"cfbd62cf-78f3-4d6b-b9ea-e8f7c5af1c04\", [{\"autocolorscale\": false, \"colorbar\": {\"title\": \"ratio Trump - ratio Hillary (rounded)\"}, \"colorscale\": [[0, \"#439FE0\"], [0.5, \"#FFFFFF\"], [1, \"#FF6B7B\"]], \"locationmode\": \"USA-states\", \"locations\": [\"AL\", \"AR\", \"AZ\", \"CA\", \"CO\", \"FL\", \"GA\", \"IL\", \"IN\", \"KY\", \"LA\", \"MA\", \"MD\", \"MI\", \"MN\", \"MO\", \"NC\", \"NJ\", \"NV\", \"NY\", \"OH\", \"OK\", \"OR\", \"PA\", \"SC\", \"TN\", \"TX\", \"VA\", \"WA\", \"WI\"], \"marker\": {\"line\": {\"color\": \"rgb(255,255,255)\", \"width\": 2}}, \"z\": [0, 1, 1, 0, 1, 1, 1, 1, 1, 1, 1, 0, 1, 0, 1, 1, 1, 1, 1, 1, 0, 1, 0, 1, 1, 1, 1, 1, 1, 1], \"type\": \"choropleth\", \"uid\": \"a7124aaf-c8a4-11e8-aad5-c48508372ee0\"}], {\"geo\": {\"lakecolor\": \"rgb(255, 255, 255)\", \"projection\": {\"type\": \"albers usa\"}, \"scope\": \"usa\", \"showlakes\": true}, \"title\": \"How positively they talk about one against the other\"}, {\"showLink\": true, \"linkText\": \"Export to plot.ly\"})});</script>"
      ]
     },
     "metadata": {},
     "output_type": "display_data"
    }
   ],
   "source": [
    "scl = [[0, '#439FE0'],[0.5,'#FFFFFF'], [1, '#FF6B7B']]\n",
    "#scl = [[0,'#FFFFFF'], [1, '#FF6B7B']]\n",
    "#scl = [[0,'#FFFFFF'],[1, '#439FE0']]\n",
    "\n",
    "data = [ dict(\n",
    "        type='choropleth',\n",
    "        colorscale=scl,\n",
    "        autocolorscale = False,\n",
    "        locations = ratio_map['state_abrv'],\n",
    "        z = ratio_map['who'],\n",
    "        locationmode = 'USA-states',\n",
    "        #text = ratio_map['state_abrv'],\n",
    "        marker = dict(\n",
    "            line = dict (\n",
    "                color = 'rgb(255,255,255)',\n",
    "                width = 2\n",
    "            ) ),\n",
    "        colorbar = dict(\n",
    "            title = \"ratio Trump - ratio Hillary (rounded)\")\n",
    "        ) ]\n",
    "\n",
    "layout = dict(\n",
    "        title = 'How positively they talk about one against the other',\n",
    "        geo = dict(\n",
    "            scope='usa',\n",
    "            projection=dict( type='albers usa' ),\n",
    "            showlakes = True,\n",
    "            lakecolor = 'rgb(255, 255, 255)'),\n",
    "             )\n",
    "    \n",
    "fig = dict( data=data, layout=layout )\n",
    "iplot( fig, filename='d3-cloropleth-map' )"
   ]
  }
 ],
 "metadata": {
  "kernelspec": {
   "display_name": "Python 3",
   "language": "python",
   "name": "python3"
  },
  "language_info": {
   "codemirror_mode": {
    "name": "ipython",
    "version": 3
   },
   "file_extension": ".py",
   "mimetype": "text/x-python",
   "name": "python",
   "nbconvert_exporter": "python",
   "pygments_lexer": "ipython3",
   "version": "3.6.5"
  }
 },
 "nbformat": 4,
 "nbformat_minor": 2
}
