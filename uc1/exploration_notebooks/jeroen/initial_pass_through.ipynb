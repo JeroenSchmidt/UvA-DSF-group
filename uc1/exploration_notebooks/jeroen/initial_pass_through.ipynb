{
 "cells": [
  {
   "cell_type": "markdown",
   "metadata": {},
   "source": [
    "**Summary**:\n",
    "The nested schema isnt as intimidating as it looks. The biggest thing that looks scary is the `quoted_status` coloumn which just looks like it contains all the information relating to a quoted tweet. For now we can ignore this. \n",
    "\n",
    "There are around 657 307 tweets. At level one. Not sure if we explode the tweet quotes we'll get more unique quotes.\n",
    "\n",
    "There are only 14 007 tweets with a geo point attached to them. This is very small and insignificant. What saves us through is that tweets have been attached to places! with the `place` col. This gives us a geo location box that we can fit some one into. Have a look at the `place` section for more information relating to the counts. \n",
    "\n",
    "We can also have tweets already catagorised into languages and have hashtags neatly structured for us. We just have to extract it correctly. See the `hash tags` section for what the counts look like."
   ]
  },
  {
   "cell_type": "markdown",
   "metadata": {},
   "source": [
    "# Start Spark"
   ]
  },
  {
   "cell_type": "code",
   "execution_count": 1,
   "metadata": {
    "ExecuteTime": {
     "end_time": "2018-09-17T20:25:16.538431Z",
     "start_time": "2018-09-17T20:25:16.535105Z"
    }
   },
   "outputs": [],
   "source": [
    "import pandas as pd\n",
    "pd.set_option(\"max_colwidth\",10000)"
   ]
  },
  {
   "cell_type": "code",
   "execution_count": 2,
   "metadata": {
    "ExecuteTime": {
     "end_time": "2018-09-17T20:18:01.508099Z",
     "start_time": "2018-09-17T20:18:01.400927Z"
    }
   },
   "outputs": [],
   "source": [
    "from pyspark.sql import SparkSession\n",
    "from pyspark.sql.functions import udf, desc\n",
    "from pyspark.sql.types import ArrayType, StringType, MapType, FloatType"
   ]
  },
  {
   "cell_type": "code",
   "execution_count": 3,
   "metadata": {
    "ExecuteTime": {
     "end_time": "2018-09-17T20:18:05.091792Z",
     "start_time": "2018-09-17T20:18:01.793903Z"
    }
   },
   "outputs": [
    {
     "data": {
      "text/html": [
       "\n",
       "            <div>\n",
       "                <p><b>SparkSession - in-memory</b></p>\n",
       "                \n",
       "        <div>\n",
       "            <p><b>SparkContext</b></p>\n",
       "\n",
       "            <p><a href=\"http://100.70.7.193:4040\">Spark UI</a></p>\n",
       "\n",
       "            <dl>\n",
       "              <dt>Version</dt>\n",
       "                <dd><code>v2.3.1</code></dd>\n",
       "              <dt>Master</dt>\n",
       "                <dd><code>local[*]</code></dd>\n",
       "              <dt>AppName</dt>\n",
       "                <dd><code>Sentiment Analysis</code></dd>\n",
       "            </dl>\n",
       "        </div>\n",
       "        \n",
       "            </div>\n",
       "        "
      ],
      "text/plain": [
       "<pyspark.sql.session.SparkSession at 0x119564208>"
      ]
     },
     "execution_count": 3,
     "metadata": {},
     "output_type": "execute_result"
    }
   ],
   "source": [
    "spark = SparkSession.builder\\\n",
    "                        .master(\"local[*]\")\\\n",
    "                        .config('spark.executor.memory', '5g')\\\n",
    "                        .config('spark.driver.memory', '5g')\\\n",
    "                        .config(\"spark.sql.session.timeZone\", \"UTC\")\\\n",
    "                        .config(\"spark.sql.execution.arrow.enabled\",\"false\")\\\n",
    "                    .appName(\"Sentiment Analysis\")\\\n",
    "                    .getOrCreate()\n",
    "spark"
   ]
  },
  {
   "cell_type": "code",
   "execution_count": 4,
   "metadata": {
    "ExecuteTime": {
     "end_time": "2018-09-17T20:18:20.467520Z",
     "start_time": "2018-09-17T20:18:05.094008Z"
    }
   },
   "outputs": [],
   "source": [
    "data=spark.read.json(\"../../data/geotagged_tweets_20160812-0912.jsons\")"
   ]
  },
  {
   "cell_type": "code",
   "execution_count": 5,
   "metadata": {
    "ExecuteTime": {
     "end_time": "2018-09-17T20:46:45.945174Z",
     "start_time": "2018-09-17T20:46:41.351155Z"
    }
   },
   "outputs": [
    {
     "data": {
      "text/plain": [
       "657307"
      ]
     },
     "execution_count": 5,
     "metadata": {},
     "output_type": "execute_result"
    }
   ],
   "source": [
    "data.count()"
   ]
  },
  {
   "cell_type": "markdown",
   "metadata": {},
   "source": [
    "# Schema Of Everything"
   ]
  },
  {
   "cell_type": "code",
   "execution_count": 8,
   "metadata": {
    "ExecuteTime": {
     "end_time": "2018-09-17T20:18:20.555236Z",
     "start_time": "2018-09-17T20:18:20.469730Z"
    },
    "scrolled": true
   },
   "outputs": [
    {
     "name": "stdout",
     "output_type": "stream",
     "text": [
      "root\n",
      " |-- contributors: string (nullable = true)\n",
      " |-- coordinates: struct (nullable = true)\n",
      " |    |-- coordinates: array (nullable = true)\n",
      " |    |    |-- element: double (containsNull = true)\n",
      " |    |-- type: string (nullable = true)\n",
      " |-- created_at: string (nullable = true)\n",
      " |-- entities: struct (nullable = true)\n",
      " |    |-- hashtags: array (nullable = true)\n",
      " |    |    |-- element: struct (containsNull = true)\n",
      " |    |    |    |-- indices: array (nullable = true)\n",
      " |    |    |    |    |-- element: long (containsNull = true)\n",
      " |    |    |    |-- text: string (nullable = true)\n",
      " |    |-- media: array (nullable = true)\n",
      " |    |    |-- element: struct (containsNull = true)\n",
      " |    |    |    |-- display_url: string (nullable = true)\n",
      " |    |    |    |-- expanded_url: string (nullable = true)\n",
      " |    |    |    |-- id: long (nullable = true)\n",
      " |    |    |    |-- id_str: string (nullable = true)\n",
      " |    |    |    |-- indices: array (nullable = true)\n",
      " |    |    |    |    |-- element: long (containsNull = true)\n",
      " |    |    |    |-- media_url: string (nullable = true)\n",
      " |    |    |    |-- media_url_https: string (nullable = true)\n",
      " |    |    |    |-- sizes: struct (nullable = true)\n",
      " |    |    |    |    |-- large: struct (nullable = true)\n",
      " |    |    |    |    |    |-- h: long (nullable = true)\n",
      " |    |    |    |    |    |-- resize: string (nullable = true)\n",
      " |    |    |    |    |    |-- w: long (nullable = true)\n",
      " |    |    |    |    |-- medium: struct (nullable = true)\n",
      " |    |    |    |    |    |-- h: long (nullable = true)\n",
      " |    |    |    |    |    |-- resize: string (nullable = true)\n",
      " |    |    |    |    |    |-- w: long (nullable = true)\n",
      " |    |    |    |    |-- small: struct (nullable = true)\n",
      " |    |    |    |    |    |-- h: long (nullable = true)\n",
      " |    |    |    |    |    |-- resize: string (nullable = true)\n",
      " |    |    |    |    |    |-- w: long (nullable = true)\n",
      " |    |    |    |    |-- thumb: struct (nullable = true)\n",
      " |    |    |    |    |    |-- h: long (nullable = true)\n",
      " |    |    |    |    |    |-- resize: string (nullable = true)\n",
      " |    |    |    |    |    |-- w: long (nullable = true)\n",
      " |    |    |    |-- source_status_id: long (nullable = true)\n",
      " |    |    |    |-- source_status_id_str: string (nullable = true)\n",
      " |    |    |    |-- source_user_id: long (nullable = true)\n",
      " |    |    |    |-- source_user_id_str: string (nullable = true)\n",
      " |    |    |    |-- type: string (nullable = true)\n",
      " |    |    |    |-- url: string (nullable = true)\n",
      " |    |-- symbols: array (nullable = true)\n",
      " |    |    |-- element: struct (containsNull = true)\n",
      " |    |    |    |-- indices: array (nullable = true)\n",
      " |    |    |    |    |-- element: long (containsNull = true)\n",
      " |    |    |    |-- text: string (nullable = true)\n",
      " |    |-- urls: array (nullable = true)\n",
      " |    |    |-- element: struct (containsNull = true)\n",
      " |    |    |    |-- display_url: string (nullable = true)\n",
      " |    |    |    |-- expanded_url: string (nullable = true)\n",
      " |    |    |    |-- indices: array (nullable = true)\n",
      " |    |    |    |    |-- element: long (containsNull = true)\n",
      " |    |    |    |-- url: string (nullable = true)\n",
      " |    |-- user_mentions: array (nullable = true)\n",
      " |    |    |-- element: struct (containsNull = true)\n",
      " |    |    |    |-- id: long (nullable = true)\n",
      " |    |    |    |-- id_str: string (nullable = true)\n",
      " |    |    |    |-- indices: array (nullable = true)\n",
      " |    |    |    |    |-- element: long (containsNull = true)\n",
      " |    |    |    |-- name: string (nullable = true)\n",
      " |    |    |    |-- screen_name: string (nullable = true)\n",
      " |-- extended_entities: struct (nullable = true)\n",
      " |    |-- media: array (nullable = true)\n",
      " |    |    |-- element: struct (containsNull = true)\n",
      " |    |    |    |-- display_url: string (nullable = true)\n",
      " |    |    |    |-- expanded_url: string (nullable = true)\n",
      " |    |    |    |-- id: long (nullable = true)\n",
      " |    |    |    |-- id_str: string (nullable = true)\n",
      " |    |    |    |-- indices: array (nullable = true)\n",
      " |    |    |    |    |-- element: long (containsNull = true)\n",
      " |    |    |    |-- media_url: string (nullable = true)\n",
      " |    |    |    |-- media_url_https: string (nullable = true)\n",
      " |    |    |    |-- sizes: struct (nullable = true)\n",
      " |    |    |    |    |-- large: struct (nullable = true)\n",
      " |    |    |    |    |    |-- h: long (nullable = true)\n",
      " |    |    |    |    |    |-- resize: string (nullable = true)\n",
      " |    |    |    |    |    |-- w: long (nullable = true)\n",
      " |    |    |    |    |-- medium: struct (nullable = true)\n",
      " |    |    |    |    |    |-- h: long (nullable = true)\n",
      " |    |    |    |    |    |-- resize: string (nullable = true)\n",
      " |    |    |    |    |    |-- w: long (nullable = true)\n",
      " |    |    |    |    |-- small: struct (nullable = true)\n",
      " |    |    |    |    |    |-- h: long (nullable = true)\n",
      " |    |    |    |    |    |-- resize: string (nullable = true)\n",
      " |    |    |    |    |    |-- w: long (nullable = true)\n",
      " |    |    |    |    |-- thumb: struct (nullable = true)\n",
      " |    |    |    |    |    |-- h: long (nullable = true)\n",
      " |    |    |    |    |    |-- resize: string (nullable = true)\n",
      " |    |    |    |    |    |-- w: long (nullable = true)\n",
      " |    |    |    |-- source_status_id: long (nullable = true)\n",
      " |    |    |    |-- source_status_id_str: string (nullable = true)\n",
      " |    |    |    |-- source_user_id: long (nullable = true)\n",
      " |    |    |    |-- source_user_id_str: string (nullable = true)\n",
      " |    |    |    |-- type: string (nullable = true)\n",
      " |    |    |    |-- url: string (nullable = true)\n",
      " |    |    |    |-- video_info: struct (nullable = true)\n",
      " |    |    |    |    |-- aspect_ratio: array (nullable = true)\n",
      " |    |    |    |    |    |-- element: long (containsNull = true)\n",
      " |    |    |    |    |-- duration_millis: long (nullable = true)\n",
      " |    |    |    |    |-- variants: array (nullable = true)\n",
      " |    |    |    |    |    |-- element: struct (containsNull = true)\n",
      " |    |    |    |    |    |    |-- bitrate: long (nullable = true)\n",
      " |    |    |    |    |    |    |-- content_type: string (nullable = true)\n",
      " |    |    |    |    |    |    |-- url: string (nullable = true)\n",
      " |-- favorite_count: long (nullable = true)\n",
      " |-- favorited: boolean (nullable = true)\n",
      " |-- filter_level: string (nullable = true)\n",
      " |-- geo: struct (nullable = true)\n",
      " |    |-- coordinates: array (nullable = true)\n",
      " |    |    |-- element: double (containsNull = true)\n",
      " |    |-- type: string (nullable = true)\n",
      " |-- id: long (nullable = true)\n",
      " |-- id_str: string (nullable = true)\n",
      " |-- in_reply_to_screen_name: string (nullable = true)\n",
      " |-- in_reply_to_status_id: long (nullable = true)\n",
      " |-- in_reply_to_status_id_str: string (nullable = true)\n",
      " |-- in_reply_to_user_id: long (nullable = true)\n",
      " |-- in_reply_to_user_id_str: string (nullable = true)\n",
      " |-- is_quote_status: boolean (nullable = true)\n",
      " |-- lang: string (nullable = true)\n",
      " |-- place: struct (nullable = true)\n",
      " |    |-- bounding_box: struct (nullable = true)\n",
      " |    |    |-- coordinates: array (nullable = true)\n",
      " |    |    |    |-- element: array (containsNull = true)\n",
      " |    |    |    |    |-- element: array (containsNull = true)\n",
      " |    |    |    |    |    |-- element: double (containsNull = true)\n",
      " |    |    |-- type: string (nullable = true)\n",
      " |    |-- country: string (nullable = true)\n",
      " |    |-- country_code: string (nullable = true)\n",
      " |    |-- full_name: string (nullable = true)\n",
      " |    |-- id: string (nullable = true)\n",
      " |    |-- name: string (nullable = true)\n",
      " |    |-- place_type: string (nullable = true)\n",
      " |    |-- url: string (nullable = true)\n",
      " |-- possibly_sensitive: boolean (nullable = true)\n",
      " |-- quoted_status: struct (nullable = true)\n",
      " |    |-- contributors: array (nullable = true)\n",
      " |    |    |-- element: long (containsNull = true)\n",
      " |    |-- coordinates: struct (nullable = true)\n",
      " |    |    |-- coordinates: array (nullable = true)\n",
      " |    |    |    |-- element: double (containsNull = true)\n",
      " |    |    |-- type: string (nullable = true)\n",
      " |    |-- created_at: string (nullable = true)\n",
      " |    |-- entities: struct (nullable = true)\n",
      " |    |    |-- hashtags: array (nullable = true)\n",
      " |    |    |    |-- element: struct (containsNull = true)\n",
      " |    |    |    |    |-- indices: array (nullable = true)\n",
      " |    |    |    |    |    |-- element: long (containsNull = true)\n",
      " |    |    |    |    |-- text: string (nullable = true)\n",
      " |    |    |-- media: array (nullable = true)\n",
      " |    |    |    |-- element: struct (containsNull = true)\n",
      " |    |    |    |    |-- display_url: string (nullable = true)\n",
      " |    |    |    |    |-- expanded_url: string (nullable = true)\n",
      " |    |    |    |    |-- id: long (nullable = true)\n",
      " |    |    |    |    |-- id_str: string (nullable = true)\n",
      " |    |    |    |    |-- indices: array (nullable = true)\n",
      " |    |    |    |    |    |-- element: long (containsNull = true)\n",
      " |    |    |    |    |-- media_url: string (nullable = true)\n",
      " |    |    |    |    |-- media_url_https: string (nullable = true)\n",
      " |    |    |    |    |-- sizes: struct (nullable = true)\n",
      " |    |    |    |    |    |-- large: struct (nullable = true)\n",
      " |    |    |    |    |    |    |-- h: long (nullable = true)\n",
      " |    |    |    |    |    |    |-- resize: string (nullable = true)\n",
      " |    |    |    |    |    |    |-- w: long (nullable = true)\n",
      " |    |    |    |    |    |-- medium: struct (nullable = true)\n",
      " |    |    |    |    |    |    |-- h: long (nullable = true)\n",
      " |    |    |    |    |    |    |-- resize: string (nullable = true)\n",
      " |    |    |    |    |    |    |-- w: long (nullable = true)\n",
      " |    |    |    |    |    |-- small: struct (nullable = true)\n",
      " |    |    |    |    |    |    |-- h: long (nullable = true)\n",
      " |    |    |    |    |    |    |-- resize: string (nullable = true)\n",
      " |    |    |    |    |    |    |-- w: long (nullable = true)\n",
      " |    |    |    |    |    |-- thumb: struct (nullable = true)\n",
      " |    |    |    |    |    |    |-- h: long (nullable = true)\n",
      " |    |    |    |    |    |    |-- resize: string (nullable = true)\n",
      " |    |    |    |    |    |    |-- w: long (nullable = true)\n",
      " |    |    |    |    |-- source_status_id: long (nullable = true)\n",
      " |    |    |    |    |-- source_status_id_str: string (nullable = true)\n",
      " |    |    |    |    |-- source_user_id: long (nullable = true)\n",
      " |    |    |    |    |-- source_user_id_str: string (nullable = true)\n",
      " |    |    |    |    |-- type: string (nullable = true)\n",
      " |    |    |    |    |-- url: string (nullable = true)\n",
      " |    |    |-- symbols: array (nullable = true)\n",
      " |    |    |    |-- element: struct (containsNull = true)\n",
      " |    |    |    |    |-- indices: array (nullable = true)\n",
      " |    |    |    |    |    |-- element: long (containsNull = true)\n",
      " |    |    |    |    |-- text: string (nullable = true)\n",
      " |    |    |-- urls: array (nullable = true)\n",
      " |    |    |    |-- element: struct (containsNull = true)\n",
      " |    |    |    |    |-- display_url: string (nullable = true)\n",
      " |    |    |    |    |-- expanded_url: string (nullable = true)\n",
      " |    |    |    |    |-- indices: array (nullable = true)\n",
      " |    |    |    |    |    |-- element: long (containsNull = true)\n",
      " |    |    |    |    |-- url: string (nullable = true)\n",
      " |    |    |-- user_mentions: array (nullable = true)\n",
      " |    |    |    |-- element: struct (containsNull = true)\n",
      " |    |    |    |    |-- id: long (nullable = true)\n",
      " |    |    |    |    |-- id_str: string (nullable = true)\n",
      " |    |    |    |    |-- indices: array (nullable = true)\n",
      " |    |    |    |    |    |-- element: long (containsNull = true)\n",
      " |    |    |    |    |-- name: string (nullable = true)\n",
      " |    |    |    |    |-- screen_name: string (nullable = true)\n",
      " |    |-- extended_entities: struct (nullable = true)\n",
      " |    |    |-- media: array (nullable = true)\n",
      " |    |    |    |-- element: struct (containsNull = true)\n",
      " |    |    |    |    |-- display_url: string (nullable = true)\n",
      " |    |    |    |    |-- expanded_url: string (nullable = true)\n",
      " |    |    |    |    |-- id: long (nullable = true)\n",
      " |    |    |    |    |-- id_str: string (nullable = true)\n",
      " |    |    |    |    |-- indices: array (nullable = true)\n",
      " |    |    |    |    |    |-- element: long (containsNull = true)\n",
      " |    |    |    |    |-- media_url: string (nullable = true)\n",
      " |    |    |    |    |-- media_url_https: string (nullable = true)\n",
      " |    |    |    |    |-- sizes: struct (nullable = true)\n",
      " |    |    |    |    |    |-- large: struct (nullable = true)\n",
      " |    |    |    |    |    |    |-- h: long (nullable = true)\n",
      " |    |    |    |    |    |    |-- resize: string (nullable = true)\n",
      " |    |    |    |    |    |    |-- w: long (nullable = true)\n",
      " |    |    |    |    |    |-- medium: struct (nullable = true)\n",
      " |    |    |    |    |    |    |-- h: long (nullable = true)\n",
      " |    |    |    |    |    |    |-- resize: string (nullable = true)\n",
      " |    |    |    |    |    |    |-- w: long (nullable = true)\n",
      " |    |    |    |    |    |-- small: struct (nullable = true)\n",
      " |    |    |    |    |    |    |-- h: long (nullable = true)\n",
      " |    |    |    |    |    |    |-- resize: string (nullable = true)\n",
      " |    |    |    |    |    |    |-- w: long (nullable = true)\n",
      " |    |    |    |    |    |-- thumb: struct (nullable = true)\n",
      " |    |    |    |    |    |    |-- h: long (nullable = true)\n",
      " |    |    |    |    |    |    |-- resize: string (nullable = true)\n",
      " |    |    |    |    |    |    |-- w: long (nullable = true)\n",
      " |    |    |    |    |-- source_status_id: long (nullable = true)\n",
      " |    |    |    |    |-- source_status_id_str: string (nullable = true)\n",
      " |    |    |    |    |-- source_user_id: long (nullable = true)\n",
      " |    |    |    |    |-- source_user_id_str: string (nullable = true)\n",
      " |    |    |    |    |-- type: string (nullable = true)\n",
      " |    |    |    |    |-- url: string (nullable = true)\n",
      " |    |    |    |    |-- video_info: struct (nullable = true)\n",
      " |    |    |    |    |    |-- aspect_ratio: array (nullable = true)\n",
      " |    |    |    |    |    |    |-- element: long (containsNull = true)\n",
      " |    |    |    |    |    |-- duration_millis: long (nullable = true)\n",
      " |    |    |    |    |    |-- variants: array (nullable = true)\n",
      " |    |    |    |    |    |    |-- element: struct (containsNull = true)\n",
      " |    |    |    |    |    |    |    |-- bitrate: long (nullable = true)\n",
      " |    |    |    |    |    |    |    |-- content_type: string (nullable = true)\n",
      " |    |    |    |    |    |    |    |-- url: string (nullable = true)\n",
      " |    |-- favorite_count: long (nullable = true)\n",
      " |    |-- favorited: boolean (nullable = true)\n",
      " |    |-- filter_level: string (nullable = true)\n",
      " |    |-- geo: struct (nullable = true)\n",
      " |    |    |-- coordinates: array (nullable = true)\n",
      " |    |    |    |-- element: double (containsNull = true)\n",
      " |    |    |-- type: string (nullable = true)\n",
      " |    |-- id: long (nullable = true)\n",
      " |    |-- id_str: string (nullable = true)\n",
      " |    |-- in_reply_to_screen_name: string (nullable = true)\n",
      " |    |-- in_reply_to_status_id: long (nullable = true)\n",
      " |    |-- in_reply_to_status_id_str: string (nullable = true)\n",
      " |    |-- in_reply_to_user_id: long (nullable = true)\n",
      " |    |-- in_reply_to_user_id_str: string (nullable = true)\n",
      " |    |-- is_quote_status: boolean (nullable = true)\n",
      " |    |-- lang: string (nullable = true)\n",
      " |    |-- place: struct (nullable = true)\n",
      " |    |    |-- bounding_box: struct (nullable = true)\n",
      " |    |    |    |-- coordinates: array (nullable = true)\n",
      " |    |    |    |    |-- element: array (containsNull = true)\n",
      " |    |    |    |    |    |-- element: array (containsNull = true)\n",
      " |    |    |    |    |    |    |-- element: double (containsNull = true)\n",
      " |    |    |    |-- type: string (nullable = true)\n",
      " |    |    |-- country: string (nullable = true)\n",
      " |    |    |-- country_code: string (nullable = true)\n",
      " |    |    |-- full_name: string (nullable = true)\n",
      " |    |    |-- id: string (nullable = true)\n",
      " |    |    |-- name: string (nullable = true)\n",
      " |    |    |-- place_type: string (nullable = true)\n",
      " |    |    |-- url: string (nullable = true)\n",
      " |    |-- possibly_sensitive: boolean (nullable = true)\n",
      " |    |-- quoted_status_id: long (nullable = true)\n",
      " |    |-- quoted_status_id_str: string (nullable = true)\n",
      " |    |-- retweet_count: long (nullable = true)\n",
      " |    |-- retweeted: boolean (nullable = true)\n",
      " |    |-- scopes: struct (nullable = true)\n",
      " |    |    |-- followers: boolean (nullable = true)\n",
      " |    |-- source: string (nullable = true)\n",
      " |    |-- text: string (nullable = true)\n",
      " |    |-- truncated: boolean (nullable = true)\n",
      " |    |-- user: struct (nullable = true)\n",
      " |    |    |-- contributors_enabled: boolean (nullable = true)\n",
      " |    |    |-- created_at: string (nullable = true)\n",
      " |    |    |-- default_profile: boolean (nullable = true)\n",
      " |    |    |-- default_profile_image: boolean (nullable = true)\n",
      " |    |    |-- description: string (nullable = true)\n",
      " |    |    |-- favourites_count: long (nullable = true)\n",
      " |    |    |-- follow_request_sent: string (nullable = true)\n",
      " |    |    |-- followers_count: long (nullable = true)\n",
      " |    |    |-- following: string (nullable = true)\n",
      " |    |    |-- friends_count: long (nullable = true)\n",
      " |    |    |-- geo_enabled: boolean (nullable = true)\n",
      " |    |    |-- id: long (nullable = true)\n",
      " |    |    |-- id_str: string (nullable = true)\n",
      " |    |    |-- is_translator: boolean (nullable = true)\n",
      " |    |    |-- lang: string (nullable = true)\n",
      " |    |    |-- listed_count: long (nullable = true)\n",
      " |    |    |-- location: string (nullable = true)\n",
      " |    |    |-- name: string (nullable = true)\n",
      " |    |    |-- notifications: string (nullable = true)\n",
      " |    |    |-- profile_background_color: string (nullable = true)\n",
      " |    |    |-- profile_background_image_url: string (nullable = true)\n",
      " |    |    |-- profile_background_image_url_https: string (nullable = true)\n",
      " |    |    |-- profile_background_tile: boolean (nullable = true)\n",
      " |    |    |-- profile_banner_url: string (nullable = true)\n",
      " |    |    |-- profile_image_url: string (nullable = true)\n",
      " |    |    |-- profile_image_url_https: string (nullable = true)\n",
      " |    |    |-- profile_link_color: string (nullable = true)\n",
      " |    |    |-- profile_sidebar_border_color: string (nullable = true)\n",
      " |    |    |-- profile_sidebar_fill_color: string (nullable = true)\n",
      " |    |    |-- profile_text_color: string (nullable = true)\n",
      " |    |    |-- profile_use_background_image: boolean (nullable = true)\n",
      " |    |    |-- protected: boolean (nullable = true)\n",
      " |    |    |-- screen_name: string (nullable = true)\n",
      " |    |    |-- statuses_count: long (nullable = true)\n",
      " |    |    |-- time_zone: string (nullable = true)\n",
      " |    |    |-- url: string (nullable = true)\n",
      " |    |    |-- utc_offset: long (nullable = true)\n",
      " |    |    |-- verified: boolean (nullable = true)\n",
      " |    |-- withheld_in_countries: array (nullable = true)\n",
      " |    |    |-- element: string (containsNull = true)\n",
      " |-- quoted_status_id: long (nullable = true)\n",
      " |-- quoted_status_id_str: string (nullable = true)\n",
      " |-- retweet_count: long (nullable = true)\n",
      " |-- retweeted: boolean (nullable = true)\n",
      " |-- source: string (nullable = true)\n",
      " |-- text: string (nullable = true)\n",
      " |-- timestamp_ms: string (nullable = true)\n",
      " |-- truncated: boolean (nullable = true)\n",
      " |-- user: struct (nullable = true)\n",
      " |    |-- contributors_enabled: boolean (nullable = true)\n",
      " |    |-- created_at: string (nullable = true)\n",
      " |    |-- default_profile: boolean (nullable = true)\n",
      " |    |-- default_profile_image: boolean (nullable = true)\n",
      " |    |-- description: string (nullable = true)\n",
      " |    |-- favourites_count: long (nullable = true)\n",
      " |    |-- follow_request_sent: string (nullable = true)\n",
      " |    |-- followers_count: long (nullable = true)\n",
      " |    |-- following: string (nullable = true)\n",
      " |    |-- friends_count: long (nullable = true)\n",
      " |    |-- geo_enabled: boolean (nullable = true)\n",
      " |    |-- id: long (nullable = true)\n",
      " |    |-- id_str: string (nullable = true)\n",
      " |    |-- is_translator: boolean (nullable = true)\n",
      " |    |-- lang: string (nullable = true)\n",
      " |    |-- listed_count: long (nullable = true)\n",
      " |    |-- location: string (nullable = true)\n",
      " |    |-- name: string (nullable = true)\n",
      " |    |-- notifications: string (nullable = true)\n",
      " |    |-- profile_background_color: string (nullable = true)\n",
      " |    |-- profile_background_image_url: string (nullable = true)\n",
      " |    |-- profile_background_image_url_https: string (nullable = true)\n",
      " |    |-- profile_background_tile: boolean (nullable = true)\n",
      " |    |-- profile_banner_url: string (nullable = true)\n",
      " |    |-- profile_image_url: string (nullable = true)\n",
      " |    |-- profile_image_url_https: string (nullable = true)\n",
      " |    |-- profile_link_color: string (nullable = true)\n",
      " |    |-- profile_sidebar_border_color: string (nullable = true)\n",
      " |    |-- profile_sidebar_fill_color: string (nullable = true)\n",
      " |    |-- profile_text_color: string (nullable = true)\n",
      " |    |-- profile_use_background_image: boolean (nullable = true)\n",
      " |    |-- protected: boolean (nullable = true)\n",
      " |    |-- screen_name: string (nullable = true)\n",
      " |    |-- statuses_count: long (nullable = true)\n",
      " |    |-- time_zone: string (nullable = true)\n",
      " |    |-- url: string (nullable = true)\n",
      " |    |-- utc_offset: long (nullable = true)\n",
      " |    |-- verified: boolean (nullable = true)\n",
      "\n"
     ]
    }
   ],
   "source": [
    "data.printSchema()"
   ]
  },
  {
   "cell_type": "markdown",
   "metadata": {},
   "source": [
    "# Look at first level of json and some geo stuff"
   ]
  },
  {
   "cell_type": "code",
   "execution_count": null,
   "metadata": {
    "ExecuteTime": {
     "end_time": "2018-09-17T20:18:20.562343Z",
     "start_time": "2018-09-17T20:18:20.558571Z"
    }
   },
   "outputs": [],
   "source": [
    "from pyspark.sql.functions import col"
   ]
  },
  {
   "cell_type": "code",
   "execution_count": null,
   "metadata": {
    "ExecuteTime": {
     "end_time": "2018-09-17T20:27:48.849804Z",
     "start_time": "2018-09-17T20:27:47.550129Z"
    }
   },
   "outputs": [],
   "source": [
    "data.select(\n",
    "    \"created_at\",\n",
    "    \"favorite_count\",\n",
    "    \"geo.coordinates\",\n",
    "    \"geo.type\",\n",
    "    \"text\",\n",
    "    \"lang\",\n",
    "    \"retweet_count\",\n",
    "    \"retweeted\",\n",
    "    \"source\",\n",
    "    \"timestamp_ms\"\n",
    "      ).filter(col(\"geo.coordinates\").isNotNull()).limit(5).toPandas()"
   ]
  },
  {
   "cell_type": "code",
   "execution_count": null,
   "metadata": {
    "ExecuteTime": {
     "end_time": "2018-09-17T20:21:42.395328Z",
     "start_time": "2018-09-17T20:21:37.056556Z"
    }
   },
   "outputs": [],
   "source": [
    "data.select(\"geo.type\").groupBy(\"type\").count().show()"
   ]
  },
  {
   "cell_type": "code",
   "execution_count": 23,
   "metadata": {
    "ExecuteTime": {
     "end_time": "2018-09-17T20:23:52.191719Z",
     "start_time": "2018-09-17T20:23:47.088805Z"
    },
    "scrolled": true
   },
   "outputs": [
    {
     "name": "stdout",
     "output_type": "stream",
     "text": [
      "+----+------+\n",
      "|lang| count|\n",
      "+----+------+\n",
      "|  en|563329|\n",
      "|  ne|     9|\n",
      "|  vi|    10|\n",
      "|  ro|   152|\n",
      "|  sl|    22|\n",
      "| und| 72178|\n",
      "|  ur|     7|\n",
      "|  lv|    37|\n",
      "|  pl|   161|\n",
      "|  hy|     2|\n",
      "|  pt|   537|\n",
      "|  tl|  1013|\n",
      "|  in|   702|\n",
      "|  ko|    12|\n",
      "|  uk|     4|\n",
      "|  cs|    69|\n",
      "|  mr|     2|\n",
      "|  tr|   260|\n",
      "|  de|   793|\n",
      "|  is|    34|\n",
      "+----+------+\n",
      "only showing top 20 rows\n",
      "\n"
     ]
    }
   ],
   "source": [
    "data.groupBy(\"lang\").count().show()"
   ]
  },
  {
   "cell_type": "code",
   "execution_count": 7,
   "metadata": {
    "ExecuteTime": {
     "end_time": "2018-09-17T20:18:28.053474Z",
     "start_time": "2018-09-17T20:18:22.505952Z"
    }
   },
   "outputs": [
    {
     "data": {
      "text/plain": [
       "657307"
      ]
     },
     "execution_count": 7,
     "metadata": {},
     "output_type": "execute_result"
    }
   ],
   "source": [
    "data.count()"
   ]
  },
  {
   "cell_type": "markdown",
   "metadata": {},
   "source": [
    "# Look at `place col`"
   ]
  },
  {
   "cell_type": "code",
   "execution_count": 6,
   "metadata": {
    "ExecuteTime": {
     "end_time": "2018-09-17T20:49:55.603618Z",
     "start_time": "2018-09-17T20:49:54.198151Z"
    }
   },
   "outputs": [
    {
     "data": {
      "text/html": [
       "<div>\n",
       "<style scoped>\n",
       "    .dataframe tbody tr th:only-of-type {\n",
       "        vertical-align: middle;\n",
       "    }\n",
       "\n",
       "    .dataframe tbody tr th {\n",
       "        vertical-align: top;\n",
       "    }\n",
       "\n",
       "    .dataframe thead th {\n",
       "        text-align: right;\n",
       "    }\n",
       "</style>\n",
       "<table border=\"1\" class=\"dataframe\">\n",
       "  <thead>\n",
       "    <tr style=\"text-align: right;\">\n",
       "      <th></th>\n",
       "      <th>country</th>\n",
       "      <th>country_code</th>\n",
       "      <th>full_name</th>\n",
       "      <th>name</th>\n",
       "      <th>place_type</th>\n",
       "      <th>url</th>\n",
       "      <th>coordinates</th>\n",
       "    </tr>\n",
       "  </thead>\n",
       "  <tbody>\n",
       "    <tr>\n",
       "      <th>0</th>\n",
       "      <td>United States</td>\n",
       "      <td>US</td>\n",
       "      <td>Frontenac, MO</td>\n",
       "      <td>Frontenac</td>\n",
       "      <td>city</td>\n",
       "      <td>https://api.twitter.com/1.1/geo/id/29a119f18820c3ad.json</td>\n",
       "      <td>[[[-90.433909, 38.606163], [-90.433909, 38.647891], [-90.405462, 38.647891], [-90.405462, 38.606163]]]</td>\n",
       "    </tr>\n",
       "    <tr>\n",
       "      <th>1</th>\n",
       "      <td>United States</td>\n",
       "      <td>US</td>\n",
       "      <td>Baton Rouge, LA</td>\n",
       "      <td>Baton Rouge</td>\n",
       "      <td>city</td>\n",
       "      <td>https://api.twitter.com/1.1/geo/id/c7ef5f3368b68777.json</td>\n",
       "      <td>[[[-91.218994, 30.354161], [-91.218994, 30.564039], [-90.962605, 30.564039], [-90.962605, 30.354161]]]</td>\n",
       "    </tr>\n",
       "    <tr>\n",
       "      <th>2</th>\n",
       "      <td>United States</td>\n",
       "      <td>US</td>\n",
       "      <td>Frontenac, MO</td>\n",
       "      <td>Frontenac</td>\n",
       "      <td>city</td>\n",
       "      <td>https://api.twitter.com/1.1/geo/id/29a119f18820c3ad.json</td>\n",
       "      <td>[[[-90.433909, 38.606163], [-90.433909, 38.647891], [-90.405462, 38.647891], [-90.405462, 38.606163]]]</td>\n",
       "    </tr>\n",
       "    <tr>\n",
       "      <th>3</th>\n",
       "      <td>Australia</td>\n",
       "      <td>AU</td>\n",
       "      <td>Melbourne, Victoria</td>\n",
       "      <td>Melbourne</td>\n",
       "      <td>city</td>\n",
       "      <td>https://api.twitter.com/1.1/geo/id/01864a8a64df9dc4.json</td>\n",
       "      <td>[[[144.593742, -38.433859], [144.593742, -37.511274], [145.512529, -37.511274], [145.512529, -38.433859]]]</td>\n",
       "    </tr>\n",
       "    <tr>\n",
       "      <th>4</th>\n",
       "      <td>United States</td>\n",
       "      <td>US</td>\n",
       "      <td>Baltimore, MD</td>\n",
       "      <td>Baltimore</td>\n",
       "      <td>city</td>\n",
       "      <td>https://api.twitter.com/1.1/geo/id/c0b8e8dc81930292.json</td>\n",
       "      <td>[[[-76.711521, 39.197211], [-76.711521, 39.372215], [-76.529443, 39.372215], [-76.529443, 39.197211]]]</td>\n",
       "    </tr>\n",
       "  </tbody>\n",
       "</table>\n",
       "</div>"
      ],
      "text/plain": [
       "         country country_code            full_name         name place_type  \\\n",
       "0  United States           US        Frontenac, MO    Frontenac       city   \n",
       "1  United States           US      Baton Rouge, LA  Baton Rouge       city   \n",
       "2  United States           US        Frontenac, MO    Frontenac       city   \n",
       "3      Australia           AU  Melbourne, Victoria    Melbourne       city   \n",
       "4  United States           US        Baltimore, MD    Baltimore       city   \n",
       "\n",
       "                                                        url  \\\n",
       "0  https://api.twitter.com/1.1/geo/id/29a119f18820c3ad.json   \n",
       "1  https://api.twitter.com/1.1/geo/id/c7ef5f3368b68777.json   \n",
       "2  https://api.twitter.com/1.1/geo/id/29a119f18820c3ad.json   \n",
       "3  https://api.twitter.com/1.1/geo/id/01864a8a64df9dc4.json   \n",
       "4  https://api.twitter.com/1.1/geo/id/c0b8e8dc81930292.json   \n",
       "\n",
       "                                                                                                  coordinates  \n",
       "0      [[[-90.433909, 38.606163], [-90.433909, 38.647891], [-90.405462, 38.647891], [-90.405462, 38.606163]]]  \n",
       "1      [[[-91.218994, 30.354161], [-91.218994, 30.564039], [-90.962605, 30.564039], [-90.962605, 30.354161]]]  \n",
       "2      [[[-90.433909, 38.606163], [-90.433909, 38.647891], [-90.405462, 38.647891], [-90.405462, 38.606163]]]  \n",
       "3  [[[144.593742, -38.433859], [144.593742, -37.511274], [145.512529, -37.511274], [145.512529, -38.433859]]]  \n",
       "4      [[[-76.711521, 39.197211], [-76.711521, 39.372215], [-76.529443, 39.372215], [-76.529443, 39.197211]]]  "
      ]
     },
     "execution_count": 6,
     "metadata": {},
     "output_type": "execute_result"
    }
   ],
   "source": [
    "data.select(\"place.country\",\"place.country_code\",\"place.full_name\",\"place.name\",\"place.place_type\",\"place.url\",\"place.bounding_box.coordinates\")\\\n",
    ".limit(5).toPandas()"
   ]
  },
  {
   "cell_type": "code",
   "execution_count": 7,
   "metadata": {
    "ExecuteTime": {
     "end_time": "2018-09-17T20:50:58.337162Z",
     "start_time": "2018-09-17T20:50:51.133385Z"
    }
   },
   "outputs": [
    {
     "name": "stdout",
     "output_type": "stream",
     "text": [
      "+-------------------+-----+\n",
      "|          full_name|count|\n",
      "+-------------------+-----+\n",
      "|       Florida, USA|17582|\n",
      "|    Los Angeles, CA|12917|\n",
      "|  Pennsylvania, USA|12640|\n",
      "|      Manhattan, NY|12423|\n",
      "|       Georgia, USA|10121|\n",
      "|        Chicago, IL| 9880|\n",
      "|      Kentucky, USA| 9119|\n",
      "|North Carolina, USA| 7443|\n",
      "|      New York, USA| 7290|\n",
      "|         Texas, USA| 7218|\n",
      "|        Houston, TX| 6279|\n",
      "|      Virginia, USA| 5770|\n",
      "|       Brooklyn, NY| 5748|\n",
      "|     Louisiana, USA| 5146|\n",
      "|    California, USA| 5076|\n",
      "|         Austin, TX| 4998|\n",
      "|    New Jersey, USA| 4739|\n",
      "|          Ohio, USA| 4675|\n",
      "|     Washington, DC| 4415|\n",
      "|        Phoenix, AZ| 4191|\n",
      "+-------------------+-----+\n",
      "only showing top 20 rows\n",
      "\n"
     ]
    }
   ],
   "source": [
    "data.select(\"place.full_name\").groupBy(\"full_name\").count().sort(desc(\"count\")).show()"
   ]
  },
  {
   "cell_type": "code",
   "execution_count": null,
   "metadata": {},
   "outputs": [],
   "source": [
    "data.filter()\\\n",
    ".select(\"place.full_name\")\\\n",
    ".groupBy(\"full_name\")\\\n",
    ".count()\\\n",
    ".sort(desc(\"count\")).show()"
   ]
  },
  {
   "cell_type": "code",
   "execution_count": 70,
   "metadata": {
    "ExecuteTime": {
     "end_time": "2018-09-17T20:51:49.424199Z",
     "start_time": "2018-09-17T20:51:42.588219Z"
    }
   },
   "outputs": [
    {
     "name": "stdout",
     "output_type": "stream",
     "text": [
      "+------------+------+\n",
      "|  place_type| count|\n",
      "+------------+------+\n",
      "|        city|489275|\n",
      "|       admin|156311|\n",
      "|     country|  8082|\n",
      "|         poi|  2218|\n",
      "|neighborhood|  1390|\n",
      "|        null|    31|\n",
      "+------------+------+\n",
      "\n"
     ]
    }
   ],
   "source": [
    "data.select(\"place.place_type\").groupBy(\"place_type\").count().sort(desc(\"count\")).show()"
   ]
  },
  {
   "cell_type": "code",
   "execution_count": 45,
   "metadata": {
    "ExecuteTime": {
     "end_time": "2018-09-17T20:35:16.443628Z",
     "start_time": "2018-09-17T20:35:10.190337Z"
    }
   },
   "outputs": [
    {
     "name": "stdout",
     "output_type": "stream",
     "text": [
      "+--------------+------+\n",
      "|       country| count|\n",
      "+--------------+------+\n",
      "| United States|591990|\n",
      "|        Canada| 17228|\n",
      "|United Kingdom|  8599|\n",
      "|        México|  7830|\n",
      "|     Australia|  2613|\n",
      "|        Mexico|  2439|\n",
      "|         India|  1593|\n",
      "|        France|  1257|\n",
      "|Estados Unidos|  1041|\n",
      "|       Ireland|   915|\n",
      "|     Singapore|   906|\n",
      "|      Colombia|   804|\n",
      "|       Germany|   800|\n",
      "|         Japan|   646|\n",
      "|  South Africa|   633|\n",
      "|   Deutschland|   623|\n",
      "|     Nederland|   561|\n",
      "|        Italia|   559|\n",
      "|       Vietnam|   531|\n",
      "|         Spain|   497|\n",
      "+--------------+------+\n",
      "only showing top 20 rows\n",
      "\n"
     ]
    }
   ],
   "source": [
    "data.groupBy(\"place.country\").count().sort(desc(\"count\")).show()"
   ]
  },
  {
   "cell_type": "markdown",
   "metadata": {},
   "source": [
    "`place.url` is useless"
   ]
  },
  {
   "cell_type": "code",
   "execution_count": 27,
   "metadata": {
    "ExecuteTime": {
     "end_time": "2018-09-17T20:24:43.217726Z",
     "start_time": "2018-09-17T20:24:43.214072Z"
    }
   },
   "outputs": [],
   "source": [
    "import pandas as pd"
   ]
  },
  {
   "cell_type": "markdown",
   "metadata": {},
   "source": [
    "# Look at `user col`"
   ]
  },
  {
   "cell_type": "code",
   "execution_count": 36,
   "metadata": {
    "ExecuteTime": {
     "end_time": "2018-09-17T20:29:21.225487Z",
     "start_time": "2018-09-17T20:29:19.619458Z"
    }
   },
   "outputs": [
    {
     "data": {
      "text/html": [
       "<div>\n",
       "<style scoped>\n",
       "    .dataframe tbody tr th:only-of-type {\n",
       "        vertical-align: middle;\n",
       "    }\n",
       "\n",
       "    .dataframe tbody tr th {\n",
       "        vertical-align: top;\n",
       "    }\n",
       "\n",
       "    .dataframe thead th {\n",
       "        text-align: right;\n",
       "    }\n",
       "</style>\n",
       "<table border=\"1\" class=\"dataframe\">\n",
       "  <thead>\n",
       "    <tr style=\"text-align: right;\">\n",
       "      <th></th>\n",
       "      <th>user</th>\n",
       "    </tr>\n",
       "  </thead>\n",
       "  <tbody>\n",
       "    <tr>\n",
       "      <th>0</th>\n",
       "      <td>(False, Fri Sep 02 14:54:17 +0000 2011, False, False, Fashion photographer, love action and adventure, care for the less fortunate, don't tolerate any kind of racism regardless of race or religion, 1708, None, 186, None, 446, True, 366636488, 366636488, False, en, 19, Miami, GIL DUPUY, None, 131516, http://abs.twimg.com/images/themes/theme14/bg.gif, https://abs.twimg.com/images/themes/theme14/bg.gif, True, None, http://pbs.twimg.com/profile_images/760915612910497792/bz4WtvbZ_normal.jpg, https://pbs.twimg.com/profile_images/760915612910497792/bz4WtvbZ_normal.jpg, 009999, EEEEEE, EFEFEF, 333333, True, False, DUPUY77, 17620, None, http://ggm-dupuy.com, None, False)</td>\n",
       "    </tr>\n",
       "    <tr>\n",
       "      <th>1</th>\n",
       "      <td>(False, Thu Oct 15 00:28:04 +0000 2009, False, False, AWSCWI Pipefitter USAF NRA I remember USA, Hunting Fishing, HarleyDavidsons- a time when we HS students could carry guns in our trks 2 school, 3850, None, 531, None, 677, True, 82496193, 82496193, False, en, 26, Ogletown, DE, Red Octopus, None, 000000, http://abs.twimg.com/images/themes/theme9/bg.gif, https://abs.twimg.com/images/themes/theme9/bg.gif, False, https://pbs.twimg.com/profile_banners/82496193/1453903674, http://pbs.twimg.com/profile_images/688374640360685568/xcSrhPsj_normal.jpg, https://pbs.twimg.com/profile_images/688374640360685568/xcSrhPsj_normal.jpg, 3B94D9, 000000, 000000, 000000, False, False, redoctapus, 5046, Eastern Time (US &amp; Canada), None, -14400, False)</td>\n",
       "    </tr>\n",
       "    <tr>\n",
       "      <th>2</th>\n",
       "      <td>(False, Fri Sep 02 14:54:17 +0000 2011, False, False, Fashion photographer, love action and adventure, care for the less fortunate, don't tolerate any kind of racism regardless of race or religion, 1708, None, 186, None, 446, True, 366636488, 366636488, False, en, 19, Miami, GIL DUPUY, None, 131516, http://abs.twimg.com/images/themes/theme14/bg.gif, https://abs.twimg.com/images/themes/theme14/bg.gif, True, None, http://pbs.twimg.com/profile_images/760915612910497792/bz4WtvbZ_normal.jpg, https://pbs.twimg.com/profile_images/760915612910497792/bz4WtvbZ_normal.jpg, 009999, EEEEEE, EFEFEF, 333333, True, False, DUPUY77, 17621, None, http://ggm-dupuy.com, None, False)</td>\n",
       "    </tr>\n",
       "    <tr>\n",
       "      <th>3</th>\n",
       "      <td>(False, Tue Jun 02 01:59:59 +0000 2009, False, False, The best movies are written and directed by people with a natural mental illness, 1514, None, 180, None, 298, True, 44032624, 44032624, False, en, 7, Australia, JanJorgenson, None, 022330, http://pbs.twimg.com/profile_background_images/587088433538936832/T7xq1e0m.jpg, https://pbs.twimg.com/profile_background_images/587088433538936832/T7xq1e0m.jpg, True, https://pbs.twimg.com/profile_banners/44032624/1418695714, http://pbs.twimg.com/profile_images/720017763683557376/nB_KossR_normal.jpg, https://pbs.twimg.com/profile_images/720017763683557376/nB_KossR_normal.jpg, 94D487, FFFFFF, 99CC33, 3E4415, True, False, jjorgi30, 2231, Melbourne, None, 36000, False)</td>\n",
       "    </tr>\n",
       "    <tr>\n",
       "      <th>4</th>\n",
       "      <td>(False, Mon Aug 20 09:43:48 +0000 2012, False, False, Retired, political wonk mother of one grandmother of 2, democrat moderate progressive, 141, None, 2652, None, 2976, True, 769208504, 769208504, False, en, 84, None, Beverly Spence, None, EBEBEB, http://abs.twimg.com/images/themes/theme7/bg.gif, https://abs.twimg.com/images/themes/theme7/bg.gif, False, None, http://pbs.twimg.com/profile_images/3108377856/76f3f0220b457f0a264358f1f807f6f9_normal.jpeg, https://pbs.twimg.com/profile_images/3108377856/76f3f0220b457f0a264358f1f807f6f9_normal.jpeg, 990000, DFDFDF, F3F3F3, 333333, True, False, bspence5, 92605, None, None, None, False)</td>\n",
       "    </tr>\n",
       "  </tbody>\n",
       "</table>\n",
       "</div>"
      ],
      "text/plain": [
       "                                                                                                                                                                                                                                                                                                                                                                                                                                                                                                                                                                                                                                                                                                                                                                  user\n",
       "0                                                                       (False, Fri Sep 02 14:54:17 +0000 2011, False, False, Fashion photographer, love action and adventure, care for the less fortunate, don't tolerate any kind of racism regardless of race or religion, 1708, None, 186, None, 446, True, 366636488, 366636488, False, en, 19, Miami, GIL DUPUY, None, 131516, http://abs.twimg.com/images/themes/theme14/bg.gif, https://abs.twimg.com/images/themes/theme14/bg.gif, True, None, http://pbs.twimg.com/profile_images/760915612910497792/bz4WtvbZ_normal.jpg, https://pbs.twimg.com/profile_images/760915612910497792/bz4WtvbZ_normal.jpg, 009999, EEEEEE, EFEFEF, 333333, True, False, DUPUY77, 17620, None, http://ggm-dupuy.com, None, False)\n",
       "1  (False, Thu Oct 15 00:28:04 +0000 2009, False, False, AWSCWI Pipefitter USAF NRA I remember USA, Hunting Fishing, HarleyDavidsons- a time when we HS students could carry guns in our trks 2 school, 3850, None, 531, None, 677, True, 82496193, 82496193, False, en, 26, Ogletown, DE, Red Octopus, None, 000000, http://abs.twimg.com/images/themes/theme9/bg.gif, https://abs.twimg.com/images/themes/theme9/bg.gif, False, https://pbs.twimg.com/profile_banners/82496193/1453903674, http://pbs.twimg.com/profile_images/688374640360685568/xcSrhPsj_normal.jpg, https://pbs.twimg.com/profile_images/688374640360685568/xcSrhPsj_normal.jpg, 3B94D9, 000000, 000000, 000000, False, False, redoctapus, 5046, Eastern Time (US & Canada), None, -14400, False)\n",
       "2                                                                       (False, Fri Sep 02 14:54:17 +0000 2011, False, False, Fashion photographer, love action and adventure, care for the less fortunate, don't tolerate any kind of racism regardless of race or religion, 1708, None, 186, None, 446, True, 366636488, 366636488, False, en, 19, Miami, GIL DUPUY, None, 131516, http://abs.twimg.com/images/themes/theme14/bg.gif, https://abs.twimg.com/images/themes/theme14/bg.gif, True, None, http://pbs.twimg.com/profile_images/760915612910497792/bz4WtvbZ_normal.jpg, https://pbs.twimg.com/profile_images/760915612910497792/bz4WtvbZ_normal.jpg, 009999, EEEEEE, EFEFEF, 333333, True, False, DUPUY77, 17621, None, http://ggm-dupuy.com, None, False)\n",
       "3                            (False, Tue Jun 02 01:59:59 +0000 2009, False, False, The best movies are written and directed by people with a natural mental illness, 1514, None, 180, None, 298, True, 44032624, 44032624, False, en, 7, Australia, JanJorgenson, None, 022330, http://pbs.twimg.com/profile_background_images/587088433538936832/T7xq1e0m.jpg, https://pbs.twimg.com/profile_background_images/587088433538936832/T7xq1e0m.jpg, True, https://pbs.twimg.com/profile_banners/44032624/1418695714, http://pbs.twimg.com/profile_images/720017763683557376/nB_KossR_normal.jpg, https://pbs.twimg.com/profile_images/720017763683557376/nB_KossR_normal.jpg, 94D487, FFFFFF, 99CC33, 3E4415, True, False, jjorgi30, 2231, Melbourne, None, 36000, False)\n",
       "4                                                                                                         (False, Mon Aug 20 09:43:48 +0000 2012, False, False, Retired, political wonk mother of one grandmother of 2, democrat moderate progressive, 141, None, 2652, None, 2976, True, 769208504, 769208504, False, en, 84, None, Beverly Spence, None, EBEBEB, http://abs.twimg.com/images/themes/theme7/bg.gif, https://abs.twimg.com/images/themes/theme7/bg.gif, False, None, http://pbs.twimg.com/profile_images/3108377856/76f3f0220b457f0a264358f1f807f6f9_normal.jpeg, https://pbs.twimg.com/profile_images/3108377856/76f3f0220b457f0a264358f1f807f6f9_normal.jpeg, 990000, DFDFDF, F3F3F3, 333333, True, False, bspence5, 92605, None, None, None, False)"
      ]
     },
     "execution_count": 36,
     "metadata": {},
     "output_type": "execute_result"
    }
   ],
   "source": [
    "# a first look of the nested json thats contained in user\n",
    "data.select(\"user\").limit(5).toPandas()"
   ]
  },
  {
   "cell_type": "code",
   "execution_count": 66,
   "metadata": {
    "ExecuteTime": {
     "end_time": "2018-09-17T20:49:31.801962Z",
     "start_time": "2018-09-17T20:49:30.073008Z"
    }
   },
   "outputs": [
    {
     "data": {
      "text/html": [
       "<div>\n",
       "<style scoped>\n",
       "    .dataframe tbody tr th:only-of-type {\n",
       "        vertical-align: middle;\n",
       "    }\n",
       "\n",
       "    .dataframe tbody tr th {\n",
       "        vertical-align: top;\n",
       "    }\n",
       "\n",
       "    .dataframe thead th {\n",
       "        text-align: right;\n",
       "    }\n",
       "</style>\n",
       "<table border=\"1\" class=\"dataframe\">\n",
       "  <thead>\n",
       "    <tr style=\"text-align: right;\">\n",
       "      <th></th>\n",
       "      <th>name</th>\n",
       "      <th>geo_enabled</th>\n",
       "      <th>following</th>\n",
       "      <th>followers_count</th>\n",
       "      <th>created_at</th>\n",
       "      <th>verified</th>\n",
       "    </tr>\n",
       "  </thead>\n",
       "  <tbody>\n",
       "    <tr>\n",
       "      <th>0</th>\n",
       "      <td>GIL DUPUY</td>\n",
       "      <td>True</td>\n",
       "      <td>None</td>\n",
       "      <td>186</td>\n",
       "      <td>Fri Aug 12 10:04:00 +0000 2016</td>\n",
       "      <td>False</td>\n",
       "    </tr>\n",
       "    <tr>\n",
       "      <th>1</th>\n",
       "      <td>Red Octopus</td>\n",
       "      <td>True</td>\n",
       "      <td>None</td>\n",
       "      <td>531</td>\n",
       "      <td>Fri Aug 12 10:04:02 +0000 2016</td>\n",
       "      <td>False</td>\n",
       "    </tr>\n",
       "    <tr>\n",
       "      <th>2</th>\n",
       "      <td>GIL DUPUY</td>\n",
       "      <td>True</td>\n",
       "      <td>None</td>\n",
       "      <td>186</td>\n",
       "      <td>Fri Aug 12 10:04:10 +0000 2016</td>\n",
       "      <td>False</td>\n",
       "    </tr>\n",
       "    <tr>\n",
       "      <th>3</th>\n",
       "      <td>JanJorgenson</td>\n",
       "      <td>True</td>\n",
       "      <td>None</td>\n",
       "      <td>180</td>\n",
       "      <td>Fri Aug 12 10:04:21 +0000 2016</td>\n",
       "      <td>False</td>\n",
       "    </tr>\n",
       "    <tr>\n",
       "      <th>4</th>\n",
       "      <td>Beverly Spence</td>\n",
       "      <td>True</td>\n",
       "      <td>None</td>\n",
       "      <td>2652</td>\n",
       "      <td>Fri Aug 12 10:04:30 +0000 2016</td>\n",
       "      <td>False</td>\n",
       "    </tr>\n",
       "  </tbody>\n",
       "</table>\n",
       "</div>"
      ],
      "text/plain": [
       "             name  geo_enabled following  followers_count  \\\n",
       "0       GIL DUPUY         True      None              186   \n",
       "1     Red Octopus         True      None              531   \n",
       "2       GIL DUPUY         True      None              186   \n",
       "3    JanJorgenson         True      None              180   \n",
       "4  Beverly Spence         True      None             2652   \n",
       "\n",
       "                       created_at  verified  \n",
       "0  Fri Aug 12 10:04:00 +0000 2016     False  \n",
       "1  Fri Aug 12 10:04:02 +0000 2016     False  \n",
       "2  Fri Aug 12 10:04:10 +0000 2016     False  \n",
       "3  Fri Aug 12 10:04:21 +0000 2016     False  \n",
       "4  Fri Aug 12 10:04:30 +0000 2016     False  "
      ]
     },
     "execution_count": 66,
     "metadata": {},
     "output_type": "execute_result"
    }
   ],
   "source": [
    "data.select(\"user.name\",\n",
    "            \"user.geo_enabled\",\n",
    "            \"user.following\",\n",
    "            \"user.followers_count\",\n",
    "            \"created_at\",\n",
    "            \"user.verified\")\\\n",
    "            .limit(5).toPandas()"
   ]
  },
  {
   "cell_type": "markdown",
   "metadata": {},
   "source": [
    "**Its interesting that coordinates is a 4 point location** This is really usefull for us to pinpoint people."
   ]
  },
  {
   "cell_type": "markdown",
   "metadata": {},
   "source": [
    "# hashtags"
   ]
  },
  {
   "cell_type": "code",
   "execution_count": 55,
   "metadata": {
    "ExecuteTime": {
     "end_time": "2018-09-17T20:39:28.302172Z",
     "start_time": "2018-09-17T20:39:28.299066Z"
    }
   },
   "outputs": [],
   "source": [
    "from pyspark.sql.functions import explode, lit"
   ]
  },
  {
   "cell_type": "code",
   "execution_count": 58,
   "metadata": {
    "ExecuteTime": {
     "end_time": "2018-09-17T20:40:04.594294Z",
     "start_time": "2018-09-17T20:39:56.130019Z"
    }
   },
   "outputs": [],
   "source": [
    "hashtags = data.select(explode(\"entities.hashtags.text\").alias(\"hashtag\"),lit(1)).groupBy(\"hashtag\").count().sort(desc(\"count\")).toPandas()"
   ]
  },
  {
   "cell_type": "code",
   "execution_count": 60,
   "metadata": {
    "ExecuteTime": {
     "end_time": "2018-09-17T20:40:22.433859Z",
     "start_time": "2018-09-17T20:40:22.421795Z"
    }
   },
   "outputs": [
    {
     "data": {
      "text/html": [
       "<div>\n",
       "<style scoped>\n",
       "    .dataframe tbody tr th:only-of-type {\n",
       "        vertical-align: middle;\n",
       "    }\n",
       "\n",
       "    .dataframe tbody tr th {\n",
       "        vertical-align: top;\n",
       "    }\n",
       "\n",
       "    .dataframe thead th {\n",
       "        text-align: right;\n",
       "    }\n",
       "</style>\n",
       "<table border=\"1\" class=\"dataframe\">\n",
       "  <thead>\n",
       "    <tr style=\"text-align: right;\">\n",
       "      <th></th>\n",
       "      <th>hashtag</th>\n",
       "      <th>count</th>\n",
       "    </tr>\n",
       "  </thead>\n",
       "  <tbody>\n",
       "    <tr>\n",
       "      <th>0</th>\n",
       "      <td>Trump</td>\n",
       "      <td>46847</td>\n",
       "    </tr>\n",
       "    <tr>\n",
       "      <th>1</th>\n",
       "      <td>MAGA</td>\n",
       "      <td>17067</td>\n",
       "    </tr>\n",
       "    <tr>\n",
       "      <th>2</th>\n",
       "      <td>NeverTrump</td>\n",
       "      <td>16615</td>\n",
       "    </tr>\n",
       "    <tr>\n",
       "      <th>3</th>\n",
       "      <td>ImWithHer</td>\n",
       "      <td>15426</td>\n",
       "    </tr>\n",
       "    <tr>\n",
       "      <th>4</th>\n",
       "      <td>TrumpPence16</td>\n",
       "      <td>12924</td>\n",
       "    </tr>\n",
       "    <tr>\n",
       "      <th>5</th>\n",
       "      <td>Hillary</td>\n",
       "      <td>12456</td>\n",
       "    </tr>\n",
       "    <tr>\n",
       "      <th>6</th>\n",
       "      <td>HillaryClinton</td>\n",
       "      <td>12161</td>\n",
       "    </tr>\n",
       "    <tr>\n",
       "      <th>7</th>\n",
       "      <td>NeverHillary</td>\n",
       "      <td>12099</td>\n",
       "    </tr>\n",
       "    <tr>\n",
       "      <th>8</th>\n",
       "      <td>DonaldTrump</td>\n",
       "      <td>10505</td>\n",
       "    </tr>\n",
       "    <tr>\n",
       "      <th>9</th>\n",
       "      <td>CrookedHillary</td>\n",
       "      <td>10061</td>\n",
       "    </tr>\n",
       "    <tr>\n",
       "      <th>10</th>\n",
       "      <td>trump</td>\n",
       "      <td>7430</td>\n",
       "    </tr>\n",
       "    <tr>\n",
       "      <th>11</th>\n",
       "      <td>TrumpTrain</td>\n",
       "      <td>4959</td>\n",
       "    </tr>\n",
       "    <tr>\n",
       "      <th>12</th>\n",
       "      <td>MakeAmericaGreatAgain</td>\n",
       "      <td>3497</td>\n",
       "    </tr>\n",
       "    <tr>\n",
       "      <th>13</th>\n",
       "      <td>nevertrump</td>\n",
       "      <td>3112</td>\n",
       "    </tr>\n",
       "    <tr>\n",
       "      <th>14</th>\n",
       "      <td>DumpTrump</td>\n",
       "      <td>3019</td>\n",
       "    </tr>\n",
       "    <tr>\n",
       "      <th>15</th>\n",
       "      <td>Trump2016</td>\n",
       "      <td>2849</td>\n",
       "    </tr>\n",
       "    <tr>\n",
       "      <th>16</th>\n",
       "      <td>TRUMP</td>\n",
       "      <td>2564</td>\n",
       "    </tr>\n",
       "    <tr>\n",
       "      <th>17</th>\n",
       "      <td>BasketOfDeplorables</td>\n",
       "      <td>2550</td>\n",
       "    </tr>\n",
       "    <tr>\n",
       "      <th>18</th>\n",
       "      <td>GOP</td>\n",
       "      <td>2367</td>\n",
       "    </tr>\n",
       "    <tr>\n",
       "      <th>19</th>\n",
       "      <td>tcot</td>\n",
       "      <td>2158</td>\n",
       "    </tr>\n",
       "  </tbody>\n",
       "</table>\n",
       "</div>"
      ],
      "text/plain": [
       "                  hashtag  count\n",
       "0                   Trump  46847\n",
       "1                    MAGA  17067\n",
       "2              NeverTrump  16615\n",
       "3               ImWithHer  15426\n",
       "4            TrumpPence16  12924\n",
       "5                 Hillary  12456\n",
       "6          HillaryClinton  12161\n",
       "7            NeverHillary  12099\n",
       "8             DonaldTrump  10505\n",
       "9          CrookedHillary  10061\n",
       "10                  trump   7430\n",
       "11             TrumpTrain   4959\n",
       "12  MakeAmericaGreatAgain   3497\n",
       "13             nevertrump   3112\n",
       "14              DumpTrump   3019\n",
       "15              Trump2016   2849\n",
       "16                  TRUMP   2564\n",
       "17    BasketOfDeplorables   2550\n",
       "18                    GOP   2367\n",
       "19                   tcot   2158"
      ]
     },
     "execution_count": 60,
     "metadata": {},
     "output_type": "execute_result"
    }
   ],
   "source": [
    "hashtags.head(20)"
   ]
  },
  {
   "cell_type": "markdown",
   "metadata": {},
   "source": [
    "# URLS"
   ]
  },
  {
   "cell_type": "code",
   "execution_count": 9,
   "metadata": {},
   "outputs": [
    {
     "name": "stdout",
     "output_type": "stream",
     "text": [
      "+--------------------+\n",
      "|                 url|\n",
      "+--------------------+\n",
      "|                  []|\n",
      "|[https://t.co/5GM...|\n",
      "|                  []|\n",
      "|                  []|\n",
      "|                  []|\n",
      "|[https://t.co/pKS...|\n",
      "|[https://t.co/l5U...|\n",
      "|                  []|\n",
      "|                  []|\n",
      "|                  []|\n",
      "|                  []|\n",
      "|                  []|\n",
      "|[https://t.co/YK3...|\n",
      "|                  []|\n",
      "|                  []|\n",
      "|                  []|\n",
      "|                  []|\n",
      "|[https://t.co/a3l...|\n",
      "|                  []|\n",
      "|                  []|\n",
      "+--------------------+\n",
      "only showing top 20 rows\n",
      "\n"
     ]
    }
   ],
   "source": [
    "data.select(\"entities.urls.url\").show()"
   ]
  },
  {
   "cell_type": "code",
   "execution_count": 10,
   "metadata": {},
   "outputs": [
    {
     "name": "stdout",
     "output_type": "stream",
     "text": [
      "+--------------------+\n",
      "|         display_url|\n",
      "+--------------------+\n",
      "|                  []|\n",
      "|[zerohedge.com/ne...|\n",
      "|                  []|\n",
      "|                  []|\n",
      "|                  []|\n",
      "|[twitter.com/real...|\n",
      "|[twitter.com/arou...|\n",
      "|                  []|\n",
      "|                  []|\n",
      "|                  []|\n",
      "|                  []|\n",
      "|                  []|\n",
      "|[twitter.com/govg...|\n",
      "|                  []|\n",
      "|                  []|\n",
      "|                  []|\n",
      "|                  []|\n",
      "|[twitter.com/poli...|\n",
      "|                  []|\n",
      "|                  []|\n",
      "+--------------------+\n",
      "only showing top 20 rows\n",
      "\n"
     ]
    }
   ],
   "source": [
    "data.select(\"entities.urls.display_url\").show()"
   ]
  },
  {
   "cell_type": "code",
   "execution_count": null,
   "metadata": {},
   "outputs": [],
   "source": []
  }
 ],
 "metadata": {
  "kernelspec": {
   "display_name": "UvA DS Fundementals",
   "language": "python",
   "name": "uva-ds-fundementals"
  },
  "language_info": {
   "codemirror_mode": {
    "name": "ipython",
    "version": 3
   },
   "file_extension": ".py",
   "mimetype": "text/x-python",
   "name": "python",
   "nbconvert_exporter": "python",
   "pygments_lexer": "ipython3",
   "version": "3.6.6"
  },
  "toc": {
   "base_numbering": 1,
   "nav_menu": {},
   "number_sections": true,
   "sideBar": true,
   "skip_h1_title": false,
   "title_cell": "Table of Contents",
   "title_sidebar": "Contents",
   "toc_cell": false,
   "toc_position": {},
   "toc_section_display": true,
   "toc_window_display": true
  },
  "varInspector": {
   "cols": {
    "lenName": 16,
    "lenType": 16,
    "lenVar": 40
   },
   "kernels_config": {
    "python": {
     "delete_cmd_postfix": "",
     "delete_cmd_prefix": "del ",
     "library": "var_list.py",
     "varRefreshCmd": "print(var_dic_list())"
    },
    "r": {
     "delete_cmd_postfix": ") ",
     "delete_cmd_prefix": "rm(",
     "library": "var_list.r",
     "varRefreshCmd": "cat(var_dic_list()) "
    }
   },
   "types_to_exclude": [
    "module",
    "function",
    "builtin_function_or_method",
    "instance",
    "_Feature"
   ],
   "window_display": false
  }
 },
 "nbformat": 4,
 "nbformat_minor": 2
}
