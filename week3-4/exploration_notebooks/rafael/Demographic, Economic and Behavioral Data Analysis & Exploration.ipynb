{
 "cells": [
  {
   "cell_type": "markdown",
   "metadata": {},
   "source": [
    "# Demographic, Economic & Behavioral Data Analysis and Exploration\n",
    "\n",
    "## Introduction"
   ]
  },
  {
   "cell_type": "markdown",
   "metadata": {},
   "source": [
    "In this notebook we analyze a few demographic and social factors for the USA, such as:\n",
    "\n",
    "* Demographics: population, age, income, gender\n",
    "* Economic: GDP, GDP per Capita, Employment\n",
    "* Religion"
   ]
  },
  {
   "cell_type": "markdown",
   "metadata": {},
   "source": [
    "## Imports"
   ]
  },
  {
   "cell_type": "code",
   "execution_count": 28,
   "metadata": {},
   "outputs": [
    {
     "data": {
      "text/html": [
       "<script>requirejs.config({paths: { 'plotly': ['https://cdn.plot.ly/plotly-latest.min']},});if(!window.Plotly) {{require(['plotly'],function(plotly) {window.Plotly=plotly;});}}</script>"
      ],
      "text/vnd.plotly.v1+html": [
       "<script>requirejs.config({paths: { 'plotly': ['https://cdn.plot.ly/plotly-latest.min']},});if(!window.Plotly) {{require(['plotly'],function(plotly) {window.Plotly=plotly;});}}</script>"
      ]
     },
     "metadata": {},
     "output_type": "display_data"
    }
   ],
   "source": [
    "import pandas as pd\n",
    "import numpy as np\n",
    "import matplotlib.pyplot as plt\n",
    "import seaborn as sns\n",
    "import requests as r\n",
    "import lxml.html as html\n",
    "import bs4 as bs\n",
    "import plotly.plotly as py\n",
    "from plotly.offline import download_plotlyjs, init_notebook_mode, plot, iplot\n",
    "\n",
    "plt.style.use('ggplot')\n",
    "\n",
    "import sys\n",
    "sys.path.append('../../libs/')\n",
    "\n",
    "import DSF_helpers\n",
    "\n",
    "init_notebook_mode(connected=True)\n",
    "\n",
    "%matplotlib inline\n",
    "%config InlineBackend.figure_format = 'retina'"
   ]
  },
  {
   "cell_type": "markdown",
   "metadata": {},
   "source": [
    "## Religion per State"
   ]
  },
  {
   "cell_type": "markdown",
   "metadata": {},
   "source": [
    "### Reading our Dataset"
   ]
  },
  {
   "cell_type": "code",
   "execution_count": 8,
   "metadata": {
    "collapsed": true
   },
   "outputs": [],
   "source": [
    "with open(r'data/religions.html', \"r\") as f:\n",
    "    page = f.read()\n",
    "    \n",
    "tree = html.fromstring(page)\n",
    "df_religion = pd.read_html('data/religions.html')[0]"
   ]
  },
  {
   "cell_type": "markdown",
   "metadata": {},
   "source": [
    "### Basic Data Cleaning"
   ]
  },
  {
   "cell_type": "code",
   "execution_count": 9,
   "metadata": {
    "collapsed": true
   },
   "outputs": [],
   "source": [
    "df_religion.columns = ['state', 'percentage'] #Define column names\n",
    "df_religion['state'] = df_religion.state.str.replace(r'[0-9]+\\.', '', regex=True) #Clean state names\n",
    "df_religion['percentage'] = (df_religion['percentage'].str.replace('%', '')).astype(int) / 100 #Convert into decimal\n",
    "df_religion['code'] = df_religion.state.str.strip().apply(lambda x: DSF_helpers.state_name_to_abrv(x)) #Create Abbrev"
   ]
  },
  {
   "cell_type": "code",
   "execution_count": 10,
   "metadata": {},
   "outputs": [
    {
     "data": {
      "application/vnd.plotly.v1+json": {
       "data": [
        {
         "autocolorscale": true,
         "colorbar": {
          "title": "% Religious"
         },
         "colorscale": [
          [
           0,
           "rgb(242,240,247)"
          ],
          [
           0.2,
           "rgb(218,218,235)"
          ],
          [
           0.4,
           "rgb(188,189,220)"
          ],
          [
           0.6,
           "rgb(158,154,200)"
          ],
          [
           0.8,
           "rgb(117,107,177)"
          ],
          [
           1,
           "rgb(84,39,143)"
          ]
         ],
         "locationmode": "USA-states",
         "locations": [
          "AL",
          "MS",
          "TN",
          "LA",
          "AR",
          "SC",
          "WV",
          "OK",
          "GA",
          "NC",
          "TX",
          "UT",
          "KY",
          "VA",
          "MO",
          "SD",
          "OH",
          "NM",
          "IA",
          "KS",
          "NJ",
          "IN",
          "WY",
          "FL",
          "MD",
          "NE",
          "MI",
          "PA",
          "ND",
          "AZ",
          "DC",
          "DE",
          "IL",
          "ID",
          "CA",
          "NV",
          "MN",
          "RI",
          "MT",
          "OR",
          "HI",
          "CO",
          "NY",
          "WA",
          "AK",
          "WI",
          "CT",
          "ME",
          "VT",
          "NH",
          "MA"
         ],
         "marker": {
          "line": {
           "color": "rgb(255,255,255)",
           "width": 2
          }
         },
         "text": [
          "AL",
          "MS",
          "TN",
          "LA",
          "AR",
          "SC",
          "WV",
          "OK",
          "GA",
          "NC",
          "TX",
          "UT",
          "KY",
          "VA",
          "MO",
          "SD",
          "OH",
          "NM",
          "IA",
          "KS",
          "NJ",
          "IN",
          "WY",
          "FL",
          "MD",
          "NE",
          "MI",
          "PA",
          "ND",
          "AZ",
          "DC",
          "DE",
          "IL",
          "ID",
          "CA",
          "NV",
          "MN",
          "RI",
          "MT",
          "OR",
          "HI",
          "CO",
          "NY",
          "WA",
          "AK",
          "WI",
          "CT",
          "ME",
          "VT",
          "NH",
          "MA"
         ],
         "type": "choropleth",
         "z": [
          0.77,
          0.77,
          0.73,
          0.71,
          0.7,
          0.7,
          0.69,
          0.66,
          0.66,
          0.65,
          0.64,
          0.64,
          0.63,
          0.61,
          0.6,
          0.59,
          0.58,
          0.57,
          0.55,
          0.55,
          0.55,
          0.54,
          0.54,
          0.54,
          0.54,
          0.54,
          0.53,
          0.53,
          0.53,
          0.53,
          0.53,
          0.52,
          0.51,
          0.51,
          0.49,
          0.49,
          0.49,
          0.49,
          0.48,
          0.48,
          0.47,
          0.47,
          0.46,
          0.45,
          0.45,
          0.45,
          0.43,
          0.34,
          0.34,
          0.33,
          0.33
         ]
        }
       ],
       "layout": {
        "geo": {
         "lakecolor": "rgb(255, 255, 255)",
         "projection": {
          "type": "albers usa"
         },
         "scope": "usa",
         "showlakes": true
        },
        "title": "USA Percentage of Religious People per State"
       }
      },
      "text/html": [
       "<div id=\"25b24fee-0cb9-487b-8b7c-d08d80a4da78\" style=\"height: 525px; width: 100%;\" class=\"plotly-graph-div\"></div><script type=\"text/javascript\">require([\"plotly\"], function(Plotly) { window.PLOTLYENV=window.PLOTLYENV || {};window.PLOTLYENV.BASE_URL=\"https://plot.ly\";Plotly.newPlot(\"25b24fee-0cb9-487b-8b7c-d08d80a4da78\", [{\"type\": \"choropleth\", \"colorscale\": [[0.0, \"rgb(242,240,247)\"], [0.2, \"rgb(218,218,235)\"], [0.4, \"rgb(188,189,220)\"], [0.6, \"rgb(158,154,200)\"], [0.8, \"rgb(117,107,177)\"], [1.0, \"rgb(84,39,143)\"]], \"autocolorscale\": true, \"locations\": [\"AL\", \"MS\", \"TN\", \"LA\", \"AR\", \"SC\", \"WV\", \"OK\", \"GA\", \"NC\", \"TX\", \"UT\", \"KY\", \"VA\", \"MO\", \"SD\", \"OH\", \"NM\", \"IA\", \"KS\", \"NJ\", \"IN\", \"WY\", \"FL\", \"MD\", \"NE\", \"MI\", \"PA\", \"ND\", \"AZ\", \"DC\", \"DE\", \"IL\", \"ID\", \"CA\", \"NV\", \"MN\", \"RI\", \"MT\", \"OR\", \"HI\", \"CO\", \"NY\", \"WA\", \"AK\", \"WI\", \"CT\", \"ME\", \"VT\", \"NH\", \"MA\"], \"z\": [0.77, 0.77, 0.73, 0.71, 0.7, 0.7, 0.69, 0.66, 0.66, 0.65, 0.64, 0.64, 0.63, 0.61, 0.6, 0.59, 0.58, 0.57, 0.55, 0.55, 0.55, 0.54, 0.54, 0.54, 0.54, 0.54, 0.53, 0.53, 0.53, 0.53, 0.53, 0.52, 0.51, 0.51, 0.49, 0.49, 0.49, 0.49, 0.48, 0.48, 0.47, 0.47, 0.46, 0.45, 0.45, 0.45, 0.43, 0.34, 0.34, 0.33, 0.33], \"locationmode\": \"USA-states\", \"text\": [\"AL\", \"MS\", \"TN\", \"LA\", \"AR\", \"SC\", \"WV\", \"OK\", \"GA\", \"NC\", \"TX\", \"UT\", \"KY\", \"VA\", \"MO\", \"SD\", \"OH\", \"NM\", \"IA\", \"KS\", \"NJ\", \"IN\", \"WY\", \"FL\", \"MD\", \"NE\", \"MI\", \"PA\", \"ND\", \"AZ\", \"DC\", \"DE\", \"IL\", \"ID\", \"CA\", \"NV\", \"MN\", \"RI\", \"MT\", \"OR\", \"HI\", \"CO\", \"NY\", \"WA\", \"AK\", \"WI\", \"CT\", \"ME\", \"VT\", \"NH\", \"MA\"], \"marker\": {\"line\": {\"color\": \"rgb(255,255,255)\", \"width\": 2}}, \"colorbar\": {\"title\": \"% Religious\"}}], {\"title\": \"USA Percentage of Religious People per State\", \"geo\": {\"scope\": \"usa\", \"projection\": {\"type\": \"albers usa\"}, \"showlakes\": true, \"lakecolor\": \"rgb(255, 255, 255)\"}}, {\"showLink\": true, \"linkText\": \"Export to plot.ly\"})});</script>"
      ],
      "text/vnd.plotly.v1+html": [
       "<div id=\"25b24fee-0cb9-487b-8b7c-d08d80a4da78\" style=\"height: 525px; width: 100%;\" class=\"plotly-graph-div\"></div><script type=\"text/javascript\">require([\"plotly\"], function(Plotly) { window.PLOTLYENV=window.PLOTLYENV || {};window.PLOTLYENV.BASE_URL=\"https://plot.ly\";Plotly.newPlot(\"25b24fee-0cb9-487b-8b7c-d08d80a4da78\", [{\"type\": \"choropleth\", \"colorscale\": [[0.0, \"rgb(242,240,247)\"], [0.2, \"rgb(218,218,235)\"], [0.4, \"rgb(188,189,220)\"], [0.6, \"rgb(158,154,200)\"], [0.8, \"rgb(117,107,177)\"], [1.0, \"rgb(84,39,143)\"]], \"autocolorscale\": true, \"locations\": [\"AL\", \"MS\", \"TN\", \"LA\", \"AR\", \"SC\", \"WV\", \"OK\", \"GA\", \"NC\", \"TX\", \"UT\", \"KY\", \"VA\", \"MO\", \"SD\", \"OH\", \"NM\", \"IA\", \"KS\", \"NJ\", \"IN\", \"WY\", \"FL\", \"MD\", \"NE\", \"MI\", \"PA\", \"ND\", \"AZ\", \"DC\", \"DE\", \"IL\", \"ID\", \"CA\", \"NV\", \"MN\", \"RI\", \"MT\", \"OR\", \"HI\", \"CO\", \"NY\", \"WA\", \"AK\", \"WI\", \"CT\", \"ME\", \"VT\", \"NH\", \"MA\"], \"z\": [0.77, 0.77, 0.73, 0.71, 0.7, 0.7, 0.69, 0.66, 0.66, 0.65, 0.64, 0.64, 0.63, 0.61, 0.6, 0.59, 0.58, 0.57, 0.55, 0.55, 0.55, 0.54, 0.54, 0.54, 0.54, 0.54, 0.53, 0.53, 0.53, 0.53, 0.53, 0.52, 0.51, 0.51, 0.49, 0.49, 0.49, 0.49, 0.48, 0.48, 0.47, 0.47, 0.46, 0.45, 0.45, 0.45, 0.43, 0.34, 0.34, 0.33, 0.33], \"locationmode\": \"USA-states\", \"text\": [\"AL\", \"MS\", \"TN\", \"LA\", \"AR\", \"SC\", \"WV\", \"OK\", \"GA\", \"NC\", \"TX\", \"UT\", \"KY\", \"VA\", \"MO\", \"SD\", \"OH\", \"NM\", \"IA\", \"KS\", \"NJ\", \"IN\", \"WY\", \"FL\", \"MD\", \"NE\", \"MI\", \"PA\", \"ND\", \"AZ\", \"DC\", \"DE\", \"IL\", \"ID\", \"CA\", \"NV\", \"MN\", \"RI\", \"MT\", \"OR\", \"HI\", \"CO\", \"NY\", \"WA\", \"AK\", \"WI\", \"CT\", \"ME\", \"VT\", \"NH\", \"MA\"], \"marker\": {\"line\": {\"color\": \"rgb(255,255,255)\", \"width\": 2}}, \"colorbar\": {\"title\": \"% Religious\"}}], {\"title\": \"USA Percentage of Religious People per State\", \"geo\": {\"scope\": \"usa\", \"projection\": {\"type\": \"albers usa\"}, \"showlakes\": true, \"lakecolor\": \"rgb(255, 255, 255)\"}}, {\"showLink\": true, \"linkText\": \"Export to plot.ly\"})});</script>"
      ]
     },
     "metadata": {},
     "output_type": "display_data"
    }
   ],
   "source": [
    "scl = [[0.0, 'rgb(242,240,247)'],[0.2, 'rgb(218,218,235)'],[0.4, 'rgb(188,189,220)'],\\\n",
    "            [0.6, 'rgb(158,154,200)'],[0.8, 'rgb(117,107,177)'],[1.0, 'rgb(84,39,143)']]\n",
    "\n",
    "data = [ dict(\n",
    "        type='choropleth',\n",
    "        colorscale=scl,\n",
    "        autocolorscale = True,\n",
    "        locations = df_religion['code'],\n",
    "        z = df_religion['percentage'].astype(float),\n",
    "        locationmode = 'USA-states',\n",
    "        text = df_religion['code'],\n",
    "        marker = dict(\n",
    "            line = dict (\n",
    "                color = 'rgb(255,255,255)',\n",
    "                width = 2\n",
    "            ) ),\n",
    "        colorbar = dict(\n",
    "            title = \"% Religious\")\n",
    "        ) ]\n",
    "\n",
    "layout = dict(\n",
    "        title = 'USA Percentage of Religious People per State',\n",
    "        geo = dict(\n",
    "            scope='usa',\n",
    "            projection=dict( type='albers usa' ),\n",
    "            showlakes = True,\n",
    "            lakecolor = 'rgb(255, 255, 255)'),\n",
    "             )\n",
    "    \n",
    "fig = dict( data=data, layout=layout )\n",
    "iplot( fig, filename='d3-cloropleth-map' )"
   ]
  },
  {
   "cell_type": "markdown",
   "metadata": {},
   "source": [
    "<img src=\"Religion_USA_Plot.png\" />"
   ]
  },
  {
   "cell_type": "markdown",
   "metadata": {
    "collapsed": true
   },
   "source": [
    "## Comments\n",
    "\n",
    "* Southeast states are more religious - the so-called **bible-belt**\n",
    "* We would expect these areas to be Trump supporters\n",
    "* On the other hand, southwest and northwest are less religious; Northeast is almost non-religious\n",
    "* Midwest and mideast are mixed"
   ]
  },
  {
   "cell_type": "code",
   "execution_count": 11,
   "metadata": {
    "collapsed": true
   },
   "outputs": [],
   "source": [
    "df_religion.to_csv(\"usa_religion_per_state.csv\")"
   ]
  },
  {
   "cell_type": "markdown",
   "metadata": {},
   "source": [
    "## Education"
   ]
  },
  {
   "cell_type": "markdown",
   "metadata": {},
   "source": [
    "### Reading our Dataset"
   ]
  },
  {
   "cell_type": "code",
   "execution_count": 12,
   "metadata": {
    "collapsed": true
   },
   "outputs": [],
   "source": [
    "df_education = pd.read_html('https://en.wikipedia.org/wiki/List_of_U.S._states_by_educational_attainment', header=0)[0]"
   ]
  },
  {
   "cell_type": "code",
   "execution_count": 13,
   "metadata": {},
   "outputs": [
    {
     "data": {
      "text/html": [
       "<div>\n",
       "<style scoped>\n",
       "    .dataframe tbody tr th:only-of-type {\n",
       "        vertical-align: middle;\n",
       "    }\n",
       "\n",
       "    .dataframe tbody tr th {\n",
       "        vertical-align: top;\n",
       "    }\n",
       "\n",
       "    .dataframe thead th {\n",
       "        text-align: right;\n",
       "    }\n",
       "</style>\n",
       "<table border=\"1\" class=\"dataframe\">\n",
       "  <thead>\n",
       "    <tr style=\"text-align: right;\">\n",
       "      <th></th>\n",
       "      <th>State</th>\n",
       "      <th>% High school graduate</th>\n",
       "      <th>Rank</th>\n",
       "      <th>% Bachelor's degree</th>\n",
       "      <th>Rank.1</th>\n",
       "      <th>% Advanced degree</th>\n",
       "      <th>Rank.2</th>\n",
       "    </tr>\n",
       "  </thead>\n",
       "  <tbody>\n",
       "    <tr>\n",
       "      <th>0</th>\n",
       "      <td>Tennessee</td>\n",
       "      <td>93.6%</td>\n",
       "      <td>2.0</td>\n",
       "      <td>29.5%</td>\n",
       "      <td>20.0</td>\n",
       "      <td>9.5%</td>\n",
       "      <td>32.0</td>\n",
       "    </tr>\n",
       "    <tr>\n",
       "      <th>1</th>\n",
       "      <td>Minnesota</td>\n",
       "      <td>92.4%</td>\n",
       "      <td>2.0</td>\n",
       "      <td>33.7%</td>\n",
       "      <td>10.0</td>\n",
       "      <td>11.2%</td>\n",
       "      <td>17.0</td>\n",
       "    </tr>\n",
       "    <tr>\n",
       "      <th>2</th>\n",
       "      <td>New Hampshire</td>\n",
       "      <td>92.3%</td>\n",
       "      <td>3.0</td>\n",
       "      <td>34.9%</td>\n",
       "      <td>8.0</td>\n",
       "      <td>13.0%</td>\n",
       "      <td>9.0</td>\n",
       "    </tr>\n",
       "    <tr>\n",
       "      <th>3</th>\n",
       "      <td>Wyoming</td>\n",
       "      <td>92.3%</td>\n",
       "      <td>3.0</td>\n",
       "      <td>25.7%</td>\n",
       "      <td>40.0</td>\n",
       "      <td>8.6%</td>\n",
       "      <td>40.0</td>\n",
       "    </tr>\n",
       "    <tr>\n",
       "      <th>4</th>\n",
       "      <td>Alaska</td>\n",
       "      <td>92.1%</td>\n",
       "      <td>5.0</td>\n",
       "      <td>28.0%</td>\n",
       "      <td>26.0</td>\n",
       "      <td>10.1%</td>\n",
       "      <td>27.0</td>\n",
       "    </tr>\n",
       "  </tbody>\n",
       "</table>\n",
       "</div>"
      ],
      "text/plain": [
       "           State % High school graduate  Rank % Bachelor's degree  Rank.1  \\\n",
       "0      Tennessee                  93.6%   2.0               29.5%    20.0   \n",
       "1      Minnesota                  92.4%   2.0               33.7%    10.0   \n",
       "2  New Hampshire                  92.3%   3.0               34.9%     8.0   \n",
       "3        Wyoming                  92.3%   3.0               25.7%    40.0   \n",
       "4         Alaska                  92.1%   5.0               28.0%    26.0   \n",
       "\n",
       "  % Advanced degree  Rank.2  \n",
       "0              9.5%    32.0  \n",
       "1             11.2%    17.0  \n",
       "2             13.0%     9.0  \n",
       "3              8.6%    40.0  \n",
       "4             10.1%    27.0  "
      ]
     },
     "execution_count": 13,
     "metadata": {},
     "output_type": "execute_result"
    }
   ],
   "source": [
    "df_education.head()"
   ]
  },
  {
   "cell_type": "markdown",
   "metadata": {},
   "source": [
    "### Basic Cleaning"
   ]
  },
  {
   "cell_type": "code",
   "execution_count": 14,
   "metadata": {
    "collapsed": true
   },
   "outputs": [],
   "source": [
    "df_education['code'] = df_education.State.str.strip().apply(lambda x: DSF_helpers.state_name_to_abrv(x))\n",
    "df_education['% High school graduate'] = (df_education['% High school graduate'].str.replace('%', '')).astype(float) / 100\n",
    "df_education[\"% Bachelor's degree\"] = (df_education[\"% Bachelor's degree\"].str.replace('%', '')).astype(float) / 100\n",
    "df_education['% Advanced degree'] = (df_education['% Advanced degree'].str.replace('%', '')).astype(float) / 100"
   ]
  },
  {
   "cell_type": "markdown",
   "metadata": {},
   "source": [
    "## Visualization"
   ]
  },
  {
   "cell_type": "code",
   "execution_count": 60,
   "metadata": {},
   "outputs": [
    {
     "data": {
      "application/vnd.plotly.v1+json": {
       "data": [
        {
         "name": "% High School Graduate",
         "type": "bar",
         "x": [
          "AL",
          "AK",
          "AZ",
          "AR",
          "CA",
          "CO",
          "CT",
          "DE",
          "DC",
          "FL",
          "GA",
          "HI",
          "ID",
          "IL",
          "IN",
          "IA",
          "KS",
          "KY",
          "LA",
          "ME",
          "MD",
          "MA",
          "MI",
          "MN",
          "MS",
          "MO",
          "MT",
          "NE",
          "NV",
          "NH",
          "NJ",
          "NM",
          "NY",
          "NC",
          "ND",
          "OH",
          "OK",
          "OR",
          "PA",
          null,
          "RI",
          "SC",
          "SD",
          "TN",
          "TX",
          null,
          "UT",
          "VT",
          "VA",
          "WA",
          "WV",
          "WI",
          "WY"
         ],
         "y": [
          84.3,
          92.1,
          86,
          84.8,
          81.8,
          90.7,
          89.9,
          88.4,
          89.3,
          86.9,
          85.4,
          91,
          89.5,
          87.9,
          87.8,
          91.5,
          90.2,
          84.2,
          83.4,
          91.6,
          89.4,
          89.8,
          89.6,
          92.4,
          82.3,
          88.4,
          85.5,
          90.7,
          85.1,
          92.3,
          88.6,
          84.2,
          85.6,
          85.8,
          91.7,
          89.1,
          86.9,
          89.8,
          89.2,
          73,
          86.2,
          85.6,
          90.9,
          93.6,
          81.9,
          86.7,
          91.2,
          91.8,
          88.3,
          90.4,
          85,
          91,
          92.3
         ]
        },
        {
         "name": "% Bachelor's Degree",
         "type": "bar",
         "x": [
          "AL",
          "AK",
          "AZ",
          "AR",
          "CA",
          "CO",
          "CT",
          "DE",
          "DC",
          "FL",
          "GA",
          "HI",
          "ID",
          "IL",
          "IN",
          "IA",
          "KS",
          "KY",
          "LA",
          "ME",
          "MD",
          "MA",
          "MI",
          "MN",
          "MS",
          "MO",
          "MT",
          "NE",
          "NV",
          "NH",
          "NJ",
          "NM",
          "NY",
          "NC",
          "ND",
          "OH",
          "OK",
          "OR",
          "PA",
          null,
          "RI",
          "SC",
          "SD",
          "TN",
          "TX",
          null,
          "UT",
          "VT",
          "VA",
          "WA",
          "WV",
          "WI",
          "WY"
         ],
         "y": [
          23.5,
          28.000000000000004,
          27.500000000000004,
          21.1,
          31.4,
          38.1,
          37.6,
          30,
          54.6,
          27.3,
          28.800000000000004,
          30.8,
          25.900000000000002,
          32.3,
          24.1,
          26.700000000000003,
          31,
          22.3,
          22.5,
          28.999999999999996,
          37.9,
          40.5,
          26.899999999999995,
          33.7,
          20.7,
          27.1,
          24.9,
          29.299999999999997,
          23,
          34.9,
          36.8,
          26.3,
          34.2,
          28.4,
          27.699999999999996,
          26.1,
          24.1,
          30.8,
          28.6,
          null,
          31.900000000000002,
          25.8,
          27,
          29.5,
          27.6,
          29.799999999999997,
          31.1,
          36,
          36.3,
          32.9,
          19.2,
          27.800000000000004,
          25.7
         ]
        },
        {
         "name": "% Advanced Degree",
         "text": [
          8.7,
          10.1,
          10.2,
          7.5,
          11.6,
          14.000000000000002,
          16.6,
          12.2,
          31.3,
          9.8,
          10.7,
          10.5,
          8.2,
          12.4,
          8.7,
          8.5,
          11,
          9.2,
          7.7,
          10.3,
          17.3,
          17.7,
          10.5,
          11.2,
          7.7,
          10.2,
          9,
          9.7,
          7.9,
          13,
          14.000000000000002,
          11.5,
          14.800000000000002,
          9.9,
          7.6,
          9.7,
          8,
          11.5,
          11.2,
          null,
          12.8,
          9.3,
          8,
          9.5,
          9.4,
          11.2,
          10.4,
          14.3,
          15.4,
          12,
          7.400000000000001,
          9.4,
          8.6
         ],
         "textfont": {
          "size": 9
         },
         "textposition": "inside",
         "type": "bar",
         "x": [
          "AL",
          "AK",
          "AZ",
          "AR",
          "CA",
          "CO",
          "CT",
          "DE",
          "DC",
          "FL",
          "GA",
          "HI",
          "ID",
          "IL",
          "IN",
          "IA",
          "KS",
          "KY",
          "LA",
          "ME",
          "MD",
          "MA",
          "MI",
          "MN",
          "MS",
          "MO",
          "MT",
          "NE",
          "NV",
          "NH",
          "NJ",
          "NM",
          "NY",
          "NC",
          "ND",
          "OH",
          "OK",
          "OR",
          "PA",
          null,
          "RI",
          "SC",
          "SD",
          "TN",
          "TX",
          null,
          "UT",
          "VT",
          "VA",
          "WA",
          "WV",
          "WI",
          "WY"
         ],
         "y": [
          8.7,
          10.1,
          10.2,
          7.5,
          11.6,
          14.000000000000002,
          16.6,
          12.2,
          31.3,
          9.8,
          10.7,
          10.5,
          8.2,
          12.4,
          8.7,
          8.5,
          11,
          9.2,
          7.7,
          10.3,
          17.3,
          17.7,
          10.5,
          11.2,
          7.7,
          10.2,
          9,
          9.7,
          7.9,
          13,
          14.000000000000002,
          11.5,
          14.800000000000002,
          9.9,
          7.6,
          9.7,
          8,
          11.5,
          11.2,
          null,
          12.8,
          9.3,
          8,
          9.5,
          9.4,
          11.2,
          10.4,
          14.3,
          15.4,
          12,
          7.400000000000001,
          9.4,
          8.6
         ]
        }
       ],
       "layout": {
        "barmode": "relative",
        "title": "High School, Bachelor Degree and Advance Degree by State",
        "xaxis": {
         "tickfont": {
          "size": 8
         }
        },
        "yaxis": {
         "title": "Y axis"
        }
       }
      },
      "text/html": [
       "<div id=\"cbd1288c-eb72-4936-bae6-088cebac7e32\" style=\"height: 525px; width: 100%;\" class=\"plotly-graph-div\"></div><script type=\"text/javascript\">require([\"plotly\"], function(Plotly) { window.PLOTLYENV=window.PLOTLYENV || {};window.PLOTLYENV.BASE_URL=\"https://plot.ly\";Plotly.newPlot(\"cbd1288c-eb72-4936-bae6-088cebac7e32\", [{\"x\": [\"AL\", \"AK\", \"AZ\", \"AR\", \"CA\", \"CO\", \"CT\", \"DE\", \"DC\", \"FL\", \"GA\", \"HI\", \"ID\", \"IL\", \"IN\", \"IA\", \"KS\", \"KY\", \"LA\", \"ME\", \"MD\", \"MA\", \"MI\", \"MN\", \"MS\", \"MO\", \"MT\", \"NE\", \"NV\", \"NH\", \"NJ\", \"NM\", \"NY\", \"NC\", \"ND\", \"OH\", \"OK\", \"OR\", \"PA\", null, \"RI\", \"SC\", \"SD\", \"TN\", \"TX\", null, \"UT\", \"VT\", \"VA\", \"WA\", \"WV\", \"WI\", \"WY\"], \"y\": [84.3, 92.1, 86.0, 84.8, 81.8, 90.7, 89.9, 88.4, 89.3, 86.9, 85.4, 91.0, 89.5, 87.9, 87.8, 91.5, 90.2, 84.2, 83.4, 91.6, 89.4, 89.8, 89.6, 92.4, 82.3, 88.4, 85.5, 90.7, 85.1, 92.3, 88.6, 84.2, 85.6, 85.8, 91.7, 89.1, 86.9, 89.8, 89.2, 73.0, 86.2, 85.6, 90.9, 93.6, 81.9, 86.7, 91.2, 91.8, 88.3, 90.4, 85.0, 91.0, 92.3], \"name\": \"% High School Graduate\", \"type\": \"bar\"}, {\"x\": [\"AL\", \"AK\", \"AZ\", \"AR\", \"CA\", \"CO\", \"CT\", \"DE\", \"DC\", \"FL\", \"GA\", \"HI\", \"ID\", \"IL\", \"IN\", \"IA\", \"KS\", \"KY\", \"LA\", \"ME\", \"MD\", \"MA\", \"MI\", \"MN\", \"MS\", \"MO\", \"MT\", \"NE\", \"NV\", \"NH\", \"NJ\", \"NM\", \"NY\", \"NC\", \"ND\", \"OH\", \"OK\", \"OR\", \"PA\", null, \"RI\", \"SC\", \"SD\", \"TN\", \"TX\", null, \"UT\", \"VT\", \"VA\", \"WA\", \"WV\", \"WI\", \"WY\"], \"y\": [23.5, 28.000000000000004, 27.500000000000004, 21.1, 31.4, 38.1, 37.6, 30.0, 54.6, 27.3, 28.800000000000004, 30.8, 25.900000000000002, 32.3, 24.1, 26.700000000000003, 31.0, 22.3, 22.5, 28.999999999999996, 37.9, 40.5, 26.899999999999995, 33.7, 20.7, 27.1, 24.9, 29.299999999999997, 23.0, 34.9, 36.8, 26.3, 34.2, 28.4, 27.699999999999996, 26.1, 24.1, 30.8, 28.6, null, 31.900000000000002, 25.8, 27.0, 29.5, 27.6, 29.799999999999997, 31.1, 36.0, 36.3, 32.9, 19.2, 27.800000000000004, 25.7], \"name\": \"% Bachelor's Degree\", \"type\": \"bar\"}, {\"x\": [\"AL\", \"AK\", \"AZ\", \"AR\", \"CA\", \"CO\", \"CT\", \"DE\", \"DC\", \"FL\", \"GA\", \"HI\", \"ID\", \"IL\", \"IN\", \"IA\", \"KS\", \"KY\", \"LA\", \"ME\", \"MD\", \"MA\", \"MI\", \"MN\", \"MS\", \"MO\", \"MT\", \"NE\", \"NV\", \"NH\", \"NJ\", \"NM\", \"NY\", \"NC\", \"ND\", \"OH\", \"OK\", \"OR\", \"PA\", null, \"RI\", \"SC\", \"SD\", \"TN\", \"TX\", null, \"UT\", \"VT\", \"VA\", \"WA\", \"WV\", \"WI\", \"WY\"], \"y\": [8.7, 10.1, 10.2, 7.5, 11.6, 14.000000000000002, 16.6, 12.2, 31.3, 9.8, 10.7, 10.5, 8.2, 12.4, 8.7, 8.5, 11.0, 9.2, 7.7, 10.3, 17.3, 17.7, 10.5, 11.2, 7.7, 10.2, 9.0, 9.7, 7.9, 13.0, 14.000000000000002, 11.5, 14.800000000000002, 9.9, 7.6, 9.7, 8.0, 11.5, 11.2, null, 12.8, 9.3, 8.0, 9.5, 9.4, 11.2, 10.4, 14.3, 15.4, 12.0, 7.400000000000001, 9.4, 8.6], \"name\": \"% Advanced Degree\", \"type\": \"bar\", \"text\": [8.7, 10.1, 10.2, 7.5, 11.6, 14.000000000000002, 16.6, 12.2, 31.3, 9.8, 10.7, 10.5, 8.2, 12.4, 8.7, 8.5, 11.0, 9.2, 7.7, 10.3, 17.3, 17.7, 10.5, 11.2, 7.7, 10.2, 9.0, 9.7, 7.9, 13.0, 14.000000000000002, 11.5, 14.800000000000002, 9.9, 7.6, 9.7, 8.0, 11.5, 11.2, null, 12.8, 9.3, 8.0, 9.5, 9.4, 11.2, 10.4, 14.3, 15.4, 12.0, 7.400000000000001, 9.4, 8.6], \"textposition\": \"inside\", \"textfont\": {\"size\": 9}}], {\"xaxis\": {\"tickfont\": {\"size\": 8}}, \"yaxis\": {\"title\": \"Y axis\"}, \"barmode\": \"relative\", \"title\": \"High School, Bachelor Degree and Advance Degree by State\"}, {\"showLink\": true, \"linkText\": \"Export to plot.ly\"})});</script>"
      ],
      "text/vnd.plotly.v1+html": [
       "<div id=\"cbd1288c-eb72-4936-bae6-088cebac7e32\" style=\"height: 525px; width: 100%;\" class=\"plotly-graph-div\"></div><script type=\"text/javascript\">require([\"plotly\"], function(Plotly) { window.PLOTLYENV=window.PLOTLYENV || {};window.PLOTLYENV.BASE_URL=\"https://plot.ly\";Plotly.newPlot(\"cbd1288c-eb72-4936-bae6-088cebac7e32\", [{\"x\": [\"AL\", \"AK\", \"AZ\", \"AR\", \"CA\", \"CO\", \"CT\", \"DE\", \"DC\", \"FL\", \"GA\", \"HI\", \"ID\", \"IL\", \"IN\", \"IA\", \"KS\", \"KY\", \"LA\", \"ME\", \"MD\", \"MA\", \"MI\", \"MN\", \"MS\", \"MO\", \"MT\", \"NE\", \"NV\", \"NH\", \"NJ\", \"NM\", \"NY\", \"NC\", \"ND\", \"OH\", \"OK\", \"OR\", \"PA\", null, \"RI\", \"SC\", \"SD\", \"TN\", \"TX\", null, \"UT\", \"VT\", \"VA\", \"WA\", \"WV\", \"WI\", \"WY\"], \"y\": [84.3, 92.1, 86.0, 84.8, 81.8, 90.7, 89.9, 88.4, 89.3, 86.9, 85.4, 91.0, 89.5, 87.9, 87.8, 91.5, 90.2, 84.2, 83.4, 91.6, 89.4, 89.8, 89.6, 92.4, 82.3, 88.4, 85.5, 90.7, 85.1, 92.3, 88.6, 84.2, 85.6, 85.8, 91.7, 89.1, 86.9, 89.8, 89.2, 73.0, 86.2, 85.6, 90.9, 93.6, 81.9, 86.7, 91.2, 91.8, 88.3, 90.4, 85.0, 91.0, 92.3], \"name\": \"% High School Graduate\", \"type\": \"bar\"}, {\"x\": [\"AL\", \"AK\", \"AZ\", \"AR\", \"CA\", \"CO\", \"CT\", \"DE\", \"DC\", \"FL\", \"GA\", \"HI\", \"ID\", \"IL\", \"IN\", \"IA\", \"KS\", \"KY\", \"LA\", \"ME\", \"MD\", \"MA\", \"MI\", \"MN\", \"MS\", \"MO\", \"MT\", \"NE\", \"NV\", \"NH\", \"NJ\", \"NM\", \"NY\", \"NC\", \"ND\", \"OH\", \"OK\", \"OR\", \"PA\", null, \"RI\", \"SC\", \"SD\", \"TN\", \"TX\", null, \"UT\", \"VT\", \"VA\", \"WA\", \"WV\", \"WI\", \"WY\"], \"y\": [23.5, 28.000000000000004, 27.500000000000004, 21.1, 31.4, 38.1, 37.6, 30.0, 54.6, 27.3, 28.800000000000004, 30.8, 25.900000000000002, 32.3, 24.1, 26.700000000000003, 31.0, 22.3, 22.5, 28.999999999999996, 37.9, 40.5, 26.899999999999995, 33.7, 20.7, 27.1, 24.9, 29.299999999999997, 23.0, 34.9, 36.8, 26.3, 34.2, 28.4, 27.699999999999996, 26.1, 24.1, 30.8, 28.6, null, 31.900000000000002, 25.8, 27.0, 29.5, 27.6, 29.799999999999997, 31.1, 36.0, 36.3, 32.9, 19.2, 27.800000000000004, 25.7], \"name\": \"% Bachelor's Degree\", \"type\": \"bar\"}, {\"x\": [\"AL\", \"AK\", \"AZ\", \"AR\", \"CA\", \"CO\", \"CT\", \"DE\", \"DC\", \"FL\", \"GA\", \"HI\", \"ID\", \"IL\", \"IN\", \"IA\", \"KS\", \"KY\", \"LA\", \"ME\", \"MD\", \"MA\", \"MI\", \"MN\", \"MS\", \"MO\", \"MT\", \"NE\", \"NV\", \"NH\", \"NJ\", \"NM\", \"NY\", \"NC\", \"ND\", \"OH\", \"OK\", \"OR\", \"PA\", null, \"RI\", \"SC\", \"SD\", \"TN\", \"TX\", null, \"UT\", \"VT\", \"VA\", \"WA\", \"WV\", \"WI\", \"WY\"], \"y\": [8.7, 10.1, 10.2, 7.5, 11.6, 14.000000000000002, 16.6, 12.2, 31.3, 9.8, 10.7, 10.5, 8.2, 12.4, 8.7, 8.5, 11.0, 9.2, 7.7, 10.3, 17.3, 17.7, 10.5, 11.2, 7.7, 10.2, 9.0, 9.7, 7.9, 13.0, 14.000000000000002, 11.5, 14.800000000000002, 9.9, 7.6, 9.7, 8.0, 11.5, 11.2, null, 12.8, 9.3, 8.0, 9.5, 9.4, 11.2, 10.4, 14.3, 15.4, 12.0, 7.400000000000001, 9.4, 8.6], \"name\": \"% Advanced Degree\", \"type\": \"bar\", \"text\": [8.7, 10.1, 10.2, 7.5, 11.6, 14.000000000000002, 16.6, 12.2, 31.3, 9.8, 10.7, 10.5, 8.2, 12.4, 8.7, 8.5, 11.0, 9.2, 7.7, 10.3, 17.3, 17.7, 10.5, 11.2, 7.7, 10.2, 9.0, 9.7, 7.9, 13.0, 14.000000000000002, 11.5, 14.800000000000002, 9.9, 7.6, 9.7, 8.0, 11.5, 11.2, null, 12.8, 9.3, 8.0, 9.5, 9.4, 11.2, 10.4, 14.3, 15.4, 12.0, 7.400000000000001, 9.4, 8.6], \"textposition\": \"inside\", \"textfont\": {\"size\": 9}}], {\"xaxis\": {\"tickfont\": {\"size\": 8}}, \"yaxis\": {\"title\": \"Y axis\"}, \"barmode\": \"relative\", \"title\": \"High School, Bachelor Degree and Advance Degree by State\"}, {\"showLink\": true, \"linkText\": \"Export to plot.ly\"})});</script>"
      ]
     },
     "metadata": {},
     "output_type": "display_data"
    }
   ],
   "source": [
    "df_education = df_education.sort_values('State')\n",
    "\n",
    "x = df_education.code\n",
    "y1 = df_education[\"% High school graduate\"]*100\n",
    "y2 = df_education[\"% Bachelor's degree\"]*100\n",
    "y3 = df_education['% Advanced degree']*100\n",
    "\n",
    "trace1 = {\n",
    "    'x': x,\n",
    "    'y': y1,\n",
    "    'name': '% High School Graduate',\n",
    "    'type': 'bar',\n",
    "}\n",
    "\n",
    "trace2 = {\n",
    "    'x': x,\n",
    "    'y': y2,\n",
    "    'name': \"% Bachelor's Degree\",\n",
    "    'type': 'bar',\n",
    "}\n",
    "\n",
    "trace3 = {\n",
    "    'x': x,\n",
    "    'y': y3,\n",
    "    'name': \"% Advanced Degree\",\n",
    "    'type': 'bar',\n",
    "    'text': y3,\n",
    "    'textposition': 'inside',\n",
    "    'textfont': {\n",
    "        'size': 9}\n",
    "}\n",
    "\n",
    "\n",
    "\n",
    "data = [trace1, trace2, trace3];\n",
    "layout = {\n",
    "    'xaxis': {'tickfont': {\n",
    "                'size':8}\n",
    "             },\n",
    "    'yaxis': {'title': 'Y axis'},\n",
    "    'barmode': 'relative',\n",
    "    'title': 'High School, Bachelor Degree and Advance Degree by State',\n",
    "\n",
    "};\n",
    "\n",
    "iplot({'data': data, 'layout': layout}, filename='barmode-relative')"
   ]
  },
  {
   "cell_type": "markdown",
   "metadata": {},
   "source": [
    "<img src='Stacked.png'/>"
   ]
  },
  {
   "cell_type": "markdown",
   "metadata": {},
   "source": [
    "## Comments\n",
    "\n",
    "* High school levels are mostly homogeneous across the country\n",
    "* Bachelor's and Advanced Degrees is more dispersed across the states\n",
    "* We would expect some correlation between education and religion"
   ]
  },
  {
   "cell_type": "markdown",
   "metadata": {},
   "source": [
    "## Analyzing Education vs. Religion"
   ]
  },
  {
   "cell_type": "code",
   "execution_count": 17,
   "metadata": {
    "collapsed": true
   },
   "outputs": [],
   "source": [
    "df_merged = pd.merge(left=df_religion, right=df_education, on='code').dropna()"
   ]
  },
  {
   "cell_type": "code",
   "execution_count": 18,
   "metadata": {},
   "outputs": [
    {
     "name": "stderr",
     "output_type": "stream",
     "text": [
      "/anaconda/lib/python3.6/site-packages/pandas/core/indexing.py:1472: FutureWarning:\n",
      "\n",
      "\n",
      "Passing list-likes to .loc or [] with any missing label will raise\n",
      "KeyError in the future, you can use .reindex() as an alternative.\n",
      "\n",
      "See the documentation here:\n",
      "https://pandas.pydata.org/pandas-docs/stable/indexing.html#deprecate-loc-reindex-listlike\n",
      "\n"
     ]
    },
    {
     "data": {
      "text/html": [
       "<div>\n",
       "<style scoped>\n",
       "    .dataframe tbody tr th:only-of-type {\n",
       "        vertical-align: middle;\n",
       "    }\n",
       "\n",
       "    .dataframe tbody tr th {\n",
       "        vertical-align: top;\n",
       "    }\n",
       "\n",
       "    .dataframe thead th {\n",
       "        text-align: right;\n",
       "    }\n",
       "</style>\n",
       "<table border=\"1\" class=\"dataframe\">\n",
       "  <thead>\n",
       "    <tr style=\"text-align: right;\">\n",
       "      <th></th>\n",
       "      <th>percentage</th>\n",
       "      <th>% High school graduate</th>\n",
       "      <th>%Bachelor's degree</th>\n",
       "      <th>% Advanced degree</th>\n",
       "    </tr>\n",
       "  </thead>\n",
       "  <tbody>\n",
       "    <tr>\n",
       "      <th>percentage</th>\n",
       "      <td>1.000000</td>\n",
       "      <td>-0.500293</td>\n",
       "      <td>NaN</td>\n",
       "      <td>-0.537939</td>\n",
       "    </tr>\n",
       "    <tr>\n",
       "      <th>% High school graduate</th>\n",
       "      <td>-0.500293</td>\n",
       "      <td>1.000000</td>\n",
       "      <td>NaN</td>\n",
       "      <td>0.225271</td>\n",
       "    </tr>\n",
       "    <tr>\n",
       "      <th>%Bachelor's degree</th>\n",
       "      <td>NaN</td>\n",
       "      <td>NaN</td>\n",
       "      <td>NaN</td>\n",
       "      <td>NaN</td>\n",
       "    </tr>\n",
       "    <tr>\n",
       "      <th>% Advanced degree</th>\n",
       "      <td>-0.537939</td>\n",
       "      <td>0.225271</td>\n",
       "      <td>NaN</td>\n",
       "      <td>1.000000</td>\n",
       "    </tr>\n",
       "  </tbody>\n",
       "</table>\n",
       "</div>"
      ],
      "text/plain": [
       "                        percentage  % High school graduate  \\\n",
       "percentage                1.000000               -0.500293   \n",
       "% High school graduate   -0.500293                1.000000   \n",
       "%Bachelor's degree             NaN                     NaN   \n",
       "% Advanced degree        -0.537939                0.225271   \n",
       "\n",
       "                        %Bachelor's degree  % Advanced degree  \n",
       "percentage                             NaN          -0.537939  \n",
       "% High school graduate                 NaN           0.225271  \n",
       "%Bachelor's degree                     NaN                NaN  \n",
       "% Advanced degree                      NaN           1.000000  "
      ]
     },
     "execution_count": 18,
     "metadata": {},
     "output_type": "execute_result"
    }
   ],
   "source": [
    "df_merged.loc[:,['percentage', '% High school graduate', \"%Bachelor's degree\", \"% Advanced degree\"]].corr()"
   ]
  },
  {
   "cell_type": "code",
   "execution_count": 19,
   "metadata": {},
   "outputs": [
    {
     "data": {
      "text/plain": [
       "<matplotlib.text.Text at 0x1a28c1de10>"
      ]
     },
     "execution_count": 19,
     "metadata": {},
     "output_type": "execute_result"
    },
    {
     "data": {
      "image/png": "[encoded data removed]",
      "text/plain": [
       "<matplotlib.figure.Figure at 0x1a2777e710>"
      ]
     },
     "metadata": {
      "image/png": {
       "height": 415,
       "width": 1176
      }
     },
     "output_type": "display_data"
    }
   ],
   "source": [
    "fig, ax = plt.subplots(1,3, figsize=(20,6))\n",
    "\n",
    "fig.suptitle('Religion vs. Education Across USA States', fontsize=20)\n",
    "\n",
    "ax[0].scatter(df_merged.percentage, df_merged[\"% High school graduate\"], alpha=0.7)\n",
    "ax[1].scatter(df_merged.percentage, df_merged[\"% Bachelor's degree\"], alpha=0.7, color='blue')\n",
    "ax[2].scatter(df_merged.percentage, df_merged[\"% Advanced degree\"], alpha=0.7, color='green')\n",
    "\n",
    "ax[0].set_xlabel(\"% Religious People\")\n",
    "ax[1].set_xlabel(\"% Religious People\")\n",
    "ax[2].set_xlabel(\"% Religious People\")\n",
    "\n",
    "ax[0].set_ylabel(\"% High school graduate\")\n",
    "ax[1].set_ylabel(\"% Bachelor's degree\")\n",
    "ax[2].set_ylabel(\"% Advanced degree\")"
   ]
  },
  {
   "cell_type": "code",
   "execution_count": 20,
   "metadata": {
    "collapsed": true
   },
   "outputs": [],
   "source": [
    "df_merged = df_merged.rename(columns={'percentage': 'percentage_religious'})"
   ]
  },
  {
   "cell_type": "code",
   "execution_count": 21,
   "metadata": {
    "collapsed": true
   },
   "outputs": [],
   "source": [
    "df_merged.to_csv('dataset_religion_education.csv')"
   ]
  },
  {
   "cell_type": "code",
   "execution_count": null,
   "metadata": {},
   "outputs": [],
   "source": []
  },
  {
   "cell_type": "markdown",
   "metadata": {
    "collapsed": true
   },
   "source": [
    "## Unemployment"
   ]
  },
  {
   "cell_type": "code",
   "execution_count": 5,
   "metadata": {},
   "outputs": [],
   "source": [
    "import requests\n",
    "import json\n",
    "\n",
    "url = 'https://data.bls.gov/timeseries/LASST{0}0000000000003'\n",
    "xpath_state = '//*[@id=\"bodytext\"]/table[2]/caption/pre/text()[3]'\n",
    "\n",
    "headers = {'Content-type': 'application/json'}\n",
    "data = json.dumps({\"seriesid\": ['LASST010000000000003'],\"startyear\":\"2016\", \"endyear\":\"2017\"})\n",
    "p = requests.post('https://api.bls.gov/publicAPI/v2/timeseries/data/', data=data, headers=headers)\n",
    "json_data = json.loads(p.text)"
   ]
  },
  {
   "cell_type": "code",
   "execution_count": 6,
   "metadata": {},
   "outputs": [
    {
     "data": {
      "text/plain": [
       "{'series': [{'data': [{'footnotes': [{}],\n",
       "     'period': 'M12',\n",
       "     'periodName': 'December',\n",
       "     'value': '3.8',\n",
       "     'year': '2017'},\n",
       "    {'footnotes': [{}],\n",
       "     'period': 'M11',\n",
       "     'periodName': 'November',\n",
       "     'value': '3.8',\n",
       "     'year': '2017'},\n",
       "    {'footnotes': [{}],\n",
       "     'period': 'M10',\n",
       "     'periodName': 'October',\n",
       "     'value': '3.8',\n",
       "     'year': '2017'},\n",
       "    {'footnotes': [{}],\n",
       "     'period': 'M09',\n",
       "     'periodName': 'September',\n",
       "     'value': '3.9',\n",
       "     'year': '2017'},\n",
       "    {'footnotes': [{}],\n",
       "     'period': 'M08',\n",
       "     'periodName': 'August',\n",
       "     'value': '4.0',\n",
       "     'year': '2017'},\n",
       "    {'footnotes': [{}],\n",
       "     'period': 'M07',\n",
       "     'periodName': 'July',\n",
       "     'value': '4.1',\n",
       "     'year': '2017'},\n",
       "    {'footnotes': [{}],\n",
       "     'period': 'M06',\n",
       "     'periodName': 'June',\n",
       "     'value': '4.3',\n",
       "     'year': '2017'},\n",
       "    {'footnotes': [{}],\n",
       "     'period': 'M05',\n",
       "     'periodName': 'May',\n",
       "     'value': '4.6',\n",
       "     'year': '2017'},\n",
       "    {'footnotes': [{}],\n",
       "     'period': 'M04',\n",
       "     'periodName': 'April',\n",
       "     'value': '4.8',\n",
       "     'year': '2017'},\n",
       "    {'footnotes': [{}],\n",
       "     'period': 'M03',\n",
       "     'periodName': 'March',\n",
       "     'value': '5.0',\n",
       "     'year': '2017'},\n",
       "    {'footnotes': [{}],\n",
       "     'period': 'M02',\n",
       "     'periodName': 'February',\n",
       "     'value': '5.3',\n",
       "     'year': '2017'},\n",
       "    {'footnotes': [{}],\n",
       "     'period': 'M01',\n",
       "     'periodName': 'January',\n",
       "     'value': '5.5',\n",
       "     'year': '2017'},\n",
       "    {'footnotes': [{}],\n",
       "     'period': 'M12',\n",
       "     'periodName': 'December',\n",
       "     'value': '5.7',\n",
       "     'year': '2016'},\n",
       "    {'footnotes': [{}],\n",
       "     'period': 'M11',\n",
       "     'periodName': 'November',\n",
       "     'value': '5.8',\n",
       "     'year': '2016'},\n",
       "    {'footnotes': [{}],\n",
       "     'period': 'M10',\n",
       "     'periodName': 'October',\n",
       "     'value': '5.9',\n",
       "     'year': '2016'},\n",
       "    {'footnotes': [{}],\n",
       "     'period': 'M09',\n",
       "     'periodName': 'September',\n",
       "     'value': '5.9',\n",
       "     'year': '2016'},\n",
       "    {'footnotes': [{}],\n",
       "     'period': 'M08',\n",
       "     'periodName': 'August',\n",
       "     'value': '5.8',\n",
       "     'year': '2016'},\n",
       "    {'footnotes': [{}],\n",
       "     'period': 'M07',\n",
       "     'periodName': 'July',\n",
       "     'value': '5.8',\n",
       "     'year': '2016'},\n",
       "    {'footnotes': [{}],\n",
       "     'period': 'M06',\n",
       "     'periodName': 'June',\n",
       "     'value': '5.8',\n",
       "     'year': '2016'},\n",
       "    {'footnotes': [{}],\n",
       "     'period': 'M05',\n",
       "     'periodName': 'May',\n",
       "     'value': '5.8',\n",
       "     'year': '2016'},\n",
       "    {'footnotes': [{}],\n",
       "     'period': 'M04',\n",
       "     'periodName': 'April',\n",
       "     'value': '5.9',\n",
       "     'year': '2016'},\n",
       "    {'footnotes': [{}],\n",
       "     'period': 'M03',\n",
       "     'periodName': 'March',\n",
       "     'value': '5.9',\n",
       "     'year': '2016'},\n",
       "    {'footnotes': [{}],\n",
       "     'period': 'M02',\n",
       "     'periodName': 'February',\n",
       "     'value': '6.0',\n",
       "     'year': '2016'},\n",
       "    {'footnotes': [{}],\n",
       "     'period': 'M01',\n",
       "     'periodName': 'January',\n",
       "     'value': '6.0',\n",
       "     'year': '2016'}],\n",
       "   'seriesID': 'LASST010000000000003'}]}"
      ]
     },
     "execution_count": 6,
     "metadata": {},
     "output_type": "execute_result"
    }
   ],
   "source": [
    "json_data['Results']"
   ]
  },
  {
   "cell_type": "code",
   "execution_count": null,
   "metadata": {
    "collapsed": true
   },
   "outputs": [],
   "source": []
  }
 ],
 "metadata": {
  "kernelspec": {
   "display_name": "Python 3",
   "language": "python",
   "name": "python3"
  },
  "language_info": {
   "codemirror_mode": {
    "name": "ipython",
    "version": 3
   },
   "file_extension": ".py",
   "mimetype": "text/x-python",
   "name": "python",
   "nbconvert_exporter": "python",
   "pygments_lexer": "ipython3",
   "version": "3.6.6"
  }
 },
 "nbformat": 4,
 "nbformat_minor": 2
}
