{
 "cells": [
  {
   "cell_type": "markdown",
   "metadata": {},
   "source": [
    "# Demographic, Economic & Behavioral Data Analysis and Exploration\n",
    "\n",
    "## Introduction\n",
    "\n"
   ]
  },
  {
   "cell_type": "markdown",
   "metadata": {},
   "source": [
    "## Imports"
   ]
  },
  {
   "cell_type": "code",
   "execution_count": 99,
   "metadata": {},
   "outputs": [
    {
     "data": {
      "text/html": [
       "<script>requirejs.config({paths: { 'plotly': ['https://cdn.plot.ly/plotly-latest.min']},});if(!window.Plotly) {{require(['plotly'],function(plotly) {window.Plotly=plotly;});}}</script>"
      ],
      "text/vnd.plotly.v1+html": [
       "<script>requirejs.config({paths: { 'plotly': ['https://cdn.plot.ly/plotly-latest.min']},});if(!window.Plotly) {{require(['plotly'],function(plotly) {window.Plotly=plotly;});}}</script>"
      ]
     },
     "metadata": {},
     "output_type": "display_data"
    }
   ],
   "source": [
    "import pandas as pd\n",
    "import numpy as np\n",
    "import matplotlib.pyplot as plt\n",
    "import seaborn as sns\n",
    "from bs4 import BeautifulSoup as bs\n",
    "import requests as r\n",
    "import lxml\n",
    "import plotly.plotly as py\n",
    "from plotly.offline import download_plotlyjs, init_notebook_mode, plot, iplot\n",
    "\n",
    "import sys\n",
    "sys.path.append('../../libs/')\n",
    "\n",
    "import DSF_helpers\n",
    "\n",
    "init_notebook_mode(connected=True)\n",
    "\n",
    "%matplotlib inline"
   ]
  },
  {
   "cell_type": "markdown",
   "metadata": {},
   "source": [
    "## State vs. Abbreviation Mappings"
   ]
  },
  {
   "cell_type": "markdown",
   "metadata": {},
   "source": [
    "## Religion per State"
   ]
  },
  {
   "cell_type": "code",
   "execution_count": 56,
   "metadata": {},
   "outputs": [],
   "source": [
    "with open(r'data/religions.html', \"r\") as f:\n",
    "    page = f.read()\n",
    "tree = lxml.html.fromstring(page)"
   ]
  },
  {
   "cell_type": "code",
   "execution_count": 110,
   "metadata": {},
   "outputs": [],
   "source": [
    "df_religion = pd.read_html('data/religions.html')[0]\n",
    "\n",
    "df_religion.columns = ['state', 'percentage']\n",
    "df_religion['state'] = df_religion.state.str.replace(r'[0-9]+\\.', '', regex=True)\n",
    "df_religion['percentage'] = (df_religion['percentage'].str.replace('%', '')).astype(int) / 100\n",
    "df_religion['code'] = df_religion.state.str.strip().apply(lambda x: DSF_helpers.state_name_to_abrv(x))"
   ]
  },
  {
   "cell_type": "code",
   "execution_count": 115,
   "metadata": {},
   "outputs": [
    {
     "data": {
      "application/vnd.plotly.v1+json": {
       "data": [
        {
         "autocolorscale": true,
         "colorbar": {
          "title": "Millions USD"
         },
         "colorscale": [
          [
           0,
           "rgb(242,240,247)"
          ],
          [
           0.2,
           "rgb(218,218,235)"
          ],
          [
           0.4,
           "rgb(188,189,220)"
          ],
          [
           0.6,
           "rgb(158,154,200)"
          ],
          [
           0.8,
           "rgb(117,107,177)"
          ],
          [
           1,
           "rgb(84,39,143)"
          ]
         ],
         "locationmode": "USA-states",
         "locations": [
          "AL",
          "MS",
          "TN",
          "LA",
          "AR",
          "SC",
          "WV",
          "OK",
          "GA",
          "NC",
          "TX",
          "UT",
          "KY",
          "VA",
          "MO",
          "SD",
          "OH",
          "NM",
          "IA",
          "KS",
          "NJ",
          "IN",
          "WY",
          "FL",
          "MD",
          "NE",
          "MI",
          "PA",
          "ND",
          "AZ",
          "DC",
          "DE",
          "IL",
          "ID",
          "CA",
          "NV",
          "MN",
          "RI",
          "MT",
          "OR",
          "HI",
          "CO",
          "NY",
          "WA",
          "AK",
          "WI",
          "CT",
          "ME",
          "VT",
          "NH",
          "MA"
         ],
         "marker": {
          "line": {
           "color": "rgb(255,255,255)",
           "width": 2
          }
         },
         "text": [
          "AL",
          "MS",
          "TN",
          "LA",
          "AR",
          "SC",
          "WV",
          "OK",
          "GA",
          "NC",
          "TX",
          "UT",
          "KY",
          "VA",
          "MO",
          "SD",
          "OH",
          "NM",
          "IA",
          "KS",
          "NJ",
          "IN",
          "WY",
          "FL",
          "MD",
          "NE",
          "MI",
          "PA",
          "ND",
          "AZ",
          "DC",
          "DE",
          "IL",
          "ID",
          "CA",
          "NV",
          "MN",
          "RI",
          "MT",
          "OR",
          "HI",
          "CO",
          "NY",
          "WA",
          "AK",
          "WI",
          "CT",
          "ME",
          "VT",
          "NH",
          "MA"
         ],
         "type": "choropleth",
         "z": [
          0.77,
          0.77,
          0.73,
          0.71,
          0.7,
          0.7,
          0.69,
          0.66,
          0.66,
          0.65,
          0.64,
          0.64,
          0.63,
          0.61,
          0.6,
          0.59,
          0.58,
          0.57,
          0.55,
          0.55,
          0.55,
          0.54,
          0.54,
          0.54,
          0.54,
          0.54,
          0.53,
          0.53,
          0.53,
          0.53,
          0.53,
          0.52,
          0.51,
          0.51,
          0.49,
          0.49,
          0.49,
          0.49,
          0.48,
          0.48,
          0.47,
          0.47,
          0.46,
          0.45,
          0.45,
          0.45,
          0.43,
          0.34,
          0.34,
          0.33,
          0.33
         ]
        }
       ],
       "layout": {
        "geo": {
         "lakecolor": "rgb(255, 255, 255)",
         "projection": {
          "type": "albers usa"
         },
         "scope": "usa",
         "showlakes": true
        },
        "title": "USA Percentage of Religious People per State"
       }
      },
      "text/html": [
       "<div id=\"c3d666e1-b3c4-4715-8ec4-25b17c3810cc\" style=\"height: 525px; width: 100%;\" class=\"plotly-graph-div\"></div><script type=\"text/javascript\">require([\"plotly\"], function(Plotly) { window.PLOTLYENV=window.PLOTLYENV || {};window.PLOTLYENV.BASE_URL=\"https://plot.ly\";Plotly.newPlot(\"c3d666e1-b3c4-4715-8ec4-25b17c3810cc\", [{\"type\": \"choropleth\", \"colorscale\": [[0.0, \"rgb(242,240,247)\"], [0.2, \"rgb(218,218,235)\"], [0.4, \"rgb(188,189,220)\"], [0.6, \"rgb(158,154,200)\"], [0.8, \"rgb(117,107,177)\"], [1.0, \"rgb(84,39,143)\"]], \"autocolorscale\": true, \"locations\": [\"AL\", \"MS\", \"TN\", \"LA\", \"AR\", \"SC\", \"WV\", \"OK\", \"GA\", \"NC\", \"TX\", \"UT\", \"KY\", \"VA\", \"MO\", \"SD\", \"OH\", \"NM\", \"IA\", \"KS\", \"NJ\", \"IN\", \"WY\", \"FL\", \"MD\", \"NE\", \"MI\", \"PA\", \"ND\", \"AZ\", \"DC\", \"DE\", \"IL\", \"ID\", \"CA\", \"NV\", \"MN\", \"RI\", \"MT\", \"OR\", \"HI\", \"CO\", \"NY\", \"WA\", \"AK\", \"WI\", \"CT\", \"ME\", \"VT\", \"NH\", \"MA\"], \"z\": [0.77, 0.77, 0.73, 0.71, 0.7, 0.7, 0.69, 0.66, 0.66, 0.65, 0.64, 0.64, 0.63, 0.61, 0.6, 0.59, 0.58, 0.57, 0.55, 0.55, 0.55, 0.54, 0.54, 0.54, 0.54, 0.54, 0.53, 0.53, 0.53, 0.53, 0.53, 0.52, 0.51, 0.51, 0.49, 0.49, 0.49, 0.49, 0.48, 0.48, 0.47, 0.47, 0.46, 0.45, 0.45, 0.45, 0.43, 0.34, 0.34, 0.33, 0.33], \"locationmode\": \"USA-states\", \"text\": [\"AL\", \"MS\", \"TN\", \"LA\", \"AR\", \"SC\", \"WV\", \"OK\", \"GA\", \"NC\", \"TX\", \"UT\", \"KY\", \"VA\", \"MO\", \"SD\", \"OH\", \"NM\", \"IA\", \"KS\", \"NJ\", \"IN\", \"WY\", \"FL\", \"MD\", \"NE\", \"MI\", \"PA\", \"ND\", \"AZ\", \"DC\", \"DE\", \"IL\", \"ID\", \"CA\", \"NV\", \"MN\", \"RI\", \"MT\", \"OR\", \"HI\", \"CO\", \"NY\", \"WA\", \"AK\", \"WI\", \"CT\", \"ME\", \"VT\", \"NH\", \"MA\"], \"marker\": {\"line\": {\"color\": \"rgb(255,255,255)\", \"width\": 2}}, \"colorbar\": {\"title\": \"Millions USD\"}}], {\"title\": \"USA Percentage of Religious People per State\", \"geo\": {\"scope\": \"usa\", \"projection\": {\"type\": \"albers usa\"}, \"showlakes\": true, \"lakecolor\": \"rgb(255, 255, 255)\"}}, {\"showLink\": true, \"linkText\": \"Export to plot.ly\"})});</script>"
      ],
      "text/vnd.plotly.v1+html": [
       "<div id=\"c3d666e1-b3c4-4715-8ec4-25b17c3810cc\" style=\"height: 525px; width: 100%;\" class=\"plotly-graph-div\"></div><script type=\"text/javascript\">require([\"plotly\"], function(Plotly) { window.PLOTLYENV=window.PLOTLYENV || {};window.PLOTLYENV.BASE_URL=\"https://plot.ly\";Plotly.newPlot(\"c3d666e1-b3c4-4715-8ec4-25b17c3810cc\", [{\"type\": \"choropleth\", \"colorscale\": [[0.0, \"rgb(242,240,247)\"], [0.2, \"rgb(218,218,235)\"], [0.4, \"rgb(188,189,220)\"], [0.6, \"rgb(158,154,200)\"], [0.8, \"rgb(117,107,177)\"], [1.0, \"rgb(84,39,143)\"]], \"autocolorscale\": true, \"locations\": [\"AL\", \"MS\", \"TN\", \"LA\", \"AR\", \"SC\", \"WV\", \"OK\", \"GA\", \"NC\", \"TX\", \"UT\", \"KY\", \"VA\", \"MO\", \"SD\", \"OH\", \"NM\", \"IA\", \"KS\", \"NJ\", \"IN\", \"WY\", \"FL\", \"MD\", \"NE\", \"MI\", \"PA\", \"ND\", \"AZ\", \"DC\", \"DE\", \"IL\", \"ID\", \"CA\", \"NV\", \"MN\", \"RI\", \"MT\", \"OR\", \"HI\", \"CO\", \"NY\", \"WA\", \"AK\", \"WI\", \"CT\", \"ME\", \"VT\", \"NH\", \"MA\"], \"z\": [0.77, 0.77, 0.73, 0.71, 0.7, 0.7, 0.69, 0.66, 0.66, 0.65, 0.64, 0.64, 0.63, 0.61, 0.6, 0.59, 0.58, 0.57, 0.55, 0.55, 0.55, 0.54, 0.54, 0.54, 0.54, 0.54, 0.53, 0.53, 0.53, 0.53, 0.53, 0.52, 0.51, 0.51, 0.49, 0.49, 0.49, 0.49, 0.48, 0.48, 0.47, 0.47, 0.46, 0.45, 0.45, 0.45, 0.43, 0.34, 0.34, 0.33, 0.33], \"locationmode\": \"USA-states\", \"text\": [\"AL\", \"MS\", \"TN\", \"LA\", \"AR\", \"SC\", \"WV\", \"OK\", \"GA\", \"NC\", \"TX\", \"UT\", \"KY\", \"VA\", \"MO\", \"SD\", \"OH\", \"NM\", \"IA\", \"KS\", \"NJ\", \"IN\", \"WY\", \"FL\", \"MD\", \"NE\", \"MI\", \"PA\", \"ND\", \"AZ\", \"DC\", \"DE\", \"IL\", \"ID\", \"CA\", \"NV\", \"MN\", \"RI\", \"MT\", \"OR\", \"HI\", \"CO\", \"NY\", \"WA\", \"AK\", \"WI\", \"CT\", \"ME\", \"VT\", \"NH\", \"MA\"], \"marker\": {\"line\": {\"color\": \"rgb(255,255,255)\", \"width\": 2}}, \"colorbar\": {\"title\": \"Millions USD\"}}], {\"title\": \"USA Percentage of Religious People per State\", \"geo\": {\"scope\": \"usa\", \"projection\": {\"type\": \"albers usa\"}, \"showlakes\": true, \"lakecolor\": \"rgb(255, 255, 255)\"}}, {\"showLink\": true, \"linkText\": \"Export to plot.ly\"})});</script>"
      ]
     },
     "metadata": {},
     "output_type": "display_data"
    }
   ],
   "source": [
    "scl = [[0.0, 'rgb(242,240,247)'],[0.2, 'rgb(218,218,235)'],[0.4, 'rgb(188,189,220)'],\\\n",
    "            [0.6, 'rgb(158,154,200)'],[0.8, 'rgb(117,107,177)'],[1.0, 'rgb(84,39,143)']]\n",
    "\n",
    "data = [ dict(\n",
    "        type='choropleth',\n",
    "        colorscale=scl,\n",
    "        autocolorscale = True,\n",
    "        locations = df_religion['code'],\n",
    "        z = df_religion['percentage'].astype(float),\n",
    "        locationmode = 'USA-states',\n",
    "        text = df_religion['code'],\n",
    "        marker = dict(\n",
    "            line = dict (\n",
    "                color = 'rgb(255,255,255)',\n",
    "                width = 2\n",
    "            ) ),\n",
    "        colorbar = dict(\n",
    "            title = \"Millions USD\")\n",
    "        ) ]\n",
    "\n",
    "layout = dict(\n",
    "        title = 'USA Percentage of Religious People per State',\n",
    "        geo = dict(\n",
    "            scope='usa',\n",
    "            projection=dict( type='albers usa' ),\n",
    "            showlakes = True,\n",
    "            lakecolor = 'rgb(255, 255, 255)'),\n",
    "             )\n",
    "    \n",
    "fig = dict( data=data, layout=layout )\n",
    "iplot( fig, filename='d3-cloropleth-map' )"
   ]
  },
  {
   "cell_type": "markdown",
   "metadata": {},
   "source": [
    "<img src=\"Religion_USA_Plot.png\" />"
   ]
  },
  {
   "cell_type": "code",
   "execution_count": null,
   "metadata": {
    "collapsed": true
   },
   "outputs": [],
   "source": []
  }
 ],
 "metadata": {
  "kernelspec": {
   "display_name": "Python 3",
   "language": "python",
   "name": "python3"
  },
  "language_info": {
   "codemirror_mode": {
    "name": "ipython",
    "version": 3
   },
   "file_extension": ".py",
   "mimetype": "text/x-python",
   "name": "python",
   "nbconvert_exporter": "python",
   "pygments_lexer": "ipython3",
   "version": "3.6.6"
  }
 },
 "nbformat": 4,
 "nbformat_minor": 2
}
