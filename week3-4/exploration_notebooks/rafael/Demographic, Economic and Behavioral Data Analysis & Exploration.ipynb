{
 "cells": [
  {
   "cell_type": "markdown",
   "metadata": {},
   "source": [
    "# Demographic, Economic & Behavioral Data Analysis and Exploration\n",
    "\n",
    "## Introduction\n",
    "\n"
   ]
  },
  {
   "cell_type": "code",
   "execution_count": 72,
   "metadata": {},
   "outputs": [
    {
     "data": {
      "text/html": [
       "<script>requirejs.config({paths: { 'plotly': ['https://cdn.plot.ly/plotly-latest.min']},});if(!window.Plotly) {{require(['plotly'],function(plotly) {window.Plotly=plotly;});}}</script>"
      ],
      "text/vnd.plotly.v1+html": [
       "<script>requirejs.config({paths: { 'plotly': ['https://cdn.plot.ly/plotly-latest.min']},});if(!window.Plotly) {{require(['plotly'],function(plotly) {window.Plotly=plotly;});}}</script>"
      ]
     },
     "metadata": {},
     "output_type": "display_data"
    }
   ],
   "source": [
    "import pandas as pd\n",
    "import numpy as np\n",
    "import matplotlib.pyplot as plt\n",
    "import seaborn as sns\n",
    "from bs4 import BeautifulSoup as bs\n",
    "import requests as r\n",
    "import lxml\n",
    "import plotly.plotly as py\n",
    "from plotly.offline import download_plotlyjs, init_notebook_mode, plot, iplot\n",
    "\n",
    "init_notebook_mode(connected=True)\n",
    "\n",
    "%matplotlib inline"
   ]
  },
  {
   "cell_type": "markdown",
   "metadata": {},
   "source": [
    "## Religion per State"
   ]
  },
  {
   "cell_type": "code",
   "execution_count": 56,
   "metadata": {},
   "outputs": [],
   "source": [
    "with open(r'data/religions.html', \"r\") as f:\n",
    "    page = f.read()\n",
    "tree = lxml.html.fromstring(page)"
   ]
  },
  {
   "cell_type": "code",
   "execution_count": 81,
   "metadata": {},
   "outputs": [],
   "source": [
    "df_religion = pd.read_html('data/religions.html')[0]\n",
    "\n",
    "df_religion.columns = ['state', 'percentage']\n",
    "df_religion['state'] = df_religion.state.str.replace(r'[0-9]+\\.', '', regex=True)\n",
    "df_religion['percentage'] = (df_religion['percentage'].str.replace('%', '')).astype(int) / 100"
   ]
  },
  {
   "cell_type": "code",
   "execution_count": 89,
   "metadata": {},
   "outputs": [],
   "source": [
    "df_religion['percentage2'] = df_religion['percentage'] * 10000"
   ]
  },
  {
   "cell_type": "code",
   "execution_count": 95,
   "metadata": {},
   "outputs": [
    {
     "data": {
      "application/vnd.plotly.v1+json": {
       "data": [
        {
         "autocolorscale": true,
         "colorbar": {
          "title": "Millions USD"
         },
         "colorscale": [
          [
           0,
           "rgb(242,240,247)"
          ],
          [
           0.2,
           "rgb(218,218,235)"
          ],
          [
           0.4,
           "rgb(188,189,220)"
          ],
          [
           0.6,
           "rgb(158,154,200)"
          ],
          [
           0.8,
           "rgb(117,107,177)"
          ],
          [
           1,
           "rgb(84,39,143)"
          ]
         ],
         "locationmode": "USA-states",
         "locations": [
          " Alabama",
          " Mississippi",
          " Tennessee",
          " Louisiana",
          " Arkansas",
          " South Carolina",
          " West Virginia",
          " Oklahoma",
          " Georgia",
          " North Carolina",
          " Texas",
          " Utah",
          " Kentucky",
          " Virginia",
          " Missouri",
          " South Dakota",
          " Ohio",
          " New Mexico",
          " Iowa",
          " Kansas",
          " New Jersey",
          " Indiana",
          " Wyoming",
          " Florida",
          " Maryland",
          " Nebraska",
          " Michigan",
          " Pennsylvania",
          " North Dakota",
          " Arizona",
          " District of Columbia",
          " Delaware",
          " Illinois",
          " Idaho",
          " California",
          " Nevada",
          " Minnesota",
          " Rhode Island",
          " Montana",
          " Oregon",
          " Hawaii",
          " Colorado",
          " New York",
          " Washington",
          " Alaska",
          " Wisconsin",
          " Connecticut",
          " Maine",
          " Vermont",
          " New Hampshire",
          " Massachusetts"
         ],
         "marker": {
          "line": {
           "color": "rgb(255,255,255)",
           "width": 2
          }
         },
         "text": [
          " Alabama",
          " Mississippi",
          " Tennessee",
          " Louisiana",
          " Arkansas",
          " South Carolina",
          " West Virginia",
          " Oklahoma",
          " Georgia",
          " North Carolina",
          " Texas",
          " Utah",
          " Kentucky",
          " Virginia",
          " Missouri",
          " South Dakota",
          " Ohio",
          " New Mexico",
          " Iowa",
          " Kansas",
          " New Jersey",
          " Indiana",
          " Wyoming",
          " Florida",
          " Maryland",
          " Nebraska",
          " Michigan",
          " Pennsylvania",
          " North Dakota",
          " Arizona",
          " District of Columbia",
          " Delaware",
          " Illinois",
          " Idaho",
          " California",
          " Nevada",
          " Minnesota",
          " Rhode Island",
          " Montana",
          " Oregon",
          " Hawaii",
          " Colorado",
          " New York",
          " Washington",
          " Alaska",
          " Wisconsin",
          " Connecticut",
          " Maine",
          " Vermont",
          " New Hampshire",
          " Massachusetts"
         ],
         "type": "choropleth",
         "z": [
          770,
          770,
          730,
          710,
          700,
          700,
          690,
          660,
          660,
          650,
          640,
          640,
          630,
          610,
          600,
          590,
          580,
          570,
          550,
          550,
          550,
          540,
          540,
          540,
          540,
          540,
          530,
          530,
          530,
          530,
          530,
          520,
          510,
          510,
          490,
          490,
          490,
          490,
          480,
          480,
          470,
          470,
          460,
          450,
          450,
          450,
          430,
          340,
          340,
          330,
          330
         ]
        }
       ],
       "layout": {
        "geo": {
         "lakecolor": "rgb(255, 255, 255)",
         "projection": {
          "type": "albers usa"
         },
         "scope": "usa",
         "showlakes": true
        },
        "title": "2011 US Agriculture Exports by State<br>(Hover for breakdown)"
       }
      },
      "text/html": [
       "<div id=\"567388c7-9532-48e9-b4ff-914d8e7f8126\" style=\"height: 525px; width: 100%;\" class=\"plotly-graph-div\"></div><script type=\"text/javascript\">require([\"plotly\"], function(Plotly) { window.PLOTLYENV=window.PLOTLYENV || {};window.PLOTLYENV.BASE_URL=\"https://plot.ly\";Plotly.newPlot(\"567388c7-9532-48e9-b4ff-914d8e7f8126\", [{\"type\": \"choropleth\", \"colorscale\": [[0.0, \"rgb(242,240,247)\"], [0.2, \"rgb(218,218,235)\"], [0.4, \"rgb(188,189,220)\"], [0.6, \"rgb(158,154,200)\"], [0.8, \"rgb(117,107,177)\"], [1.0, \"rgb(84,39,143)\"]], \"autocolorscale\": true, \"locations\": [\" Alabama\", \" Mississippi\", \" Tennessee\", \" Louisiana\", \" Arkansas\", \" South Carolina\", \" West Virginia\", \" Oklahoma\", \" Georgia\", \" North Carolina\", \" Texas\", \" Utah\", \" Kentucky\", \" Virginia\", \" Missouri\", \" South Dakota\", \" Ohio\", \" New Mexico\", \" Iowa\", \" Kansas\", \" New Jersey\", \" Indiana\", \" Wyoming\", \" Florida\", \" Maryland\", \" Nebraska\", \" Michigan\", \" Pennsylvania\", \" North Dakota\", \" Arizona\", \" District of Columbia\", \" Delaware\", \" Illinois\", \" Idaho\", \" California\", \" Nevada\", \" Minnesota\", \" Rhode Island\", \" Montana\", \" Oregon\", \" Hawaii\", \" Colorado\", \" New York\", \" Washington\", \" Alaska\", \" Wisconsin\", \" Connecticut\", \" Maine\", \" Vermont\", \" New Hampshire\", \" Massachusetts\"], \"z\": [770.0, 770.0, 730.0, 710.0, 700.0, 700.0, 690.0, 660.0, 660.0, 650.0, 640.0, 640.0, 630.0, 610.0, 600.0, 590.0, 580.0, 570.0, 550.0, 550.0, 550.0, 540.0, 540.0, 540.0, 540.0, 540.0, 530.0, 530.0, 530.0, 530.0, 530.0, 520.0, 510.0, 510.0, 490.0, 490.0, 490.0, 490.0, 480.0, 480.0, 470.0, 470.0, 460.0, 450.0, 450.0, 450.0, 430.0, 340.0, 340.0, 330.0, 330.0], \"locationmode\": \"USA-states\", \"text\": [\" Alabama\", \" Mississippi\", \" Tennessee\", \" Louisiana\", \" Arkansas\", \" South Carolina\", \" West Virginia\", \" Oklahoma\", \" Georgia\", \" North Carolina\", \" Texas\", \" Utah\", \" Kentucky\", \" Virginia\", \" Missouri\", \" South Dakota\", \" Ohio\", \" New Mexico\", \" Iowa\", \" Kansas\", \" New Jersey\", \" Indiana\", \" Wyoming\", \" Florida\", \" Maryland\", \" Nebraska\", \" Michigan\", \" Pennsylvania\", \" North Dakota\", \" Arizona\", \" District of Columbia\", \" Delaware\", \" Illinois\", \" Idaho\", \" California\", \" Nevada\", \" Minnesota\", \" Rhode Island\", \" Montana\", \" Oregon\", \" Hawaii\", \" Colorado\", \" New York\", \" Washington\", \" Alaska\", \" Wisconsin\", \" Connecticut\", \" Maine\", \" Vermont\", \" New Hampshire\", \" Massachusetts\"], \"marker\": {\"line\": {\"color\": \"rgb(255,255,255)\", \"width\": 2}}, \"colorbar\": {\"title\": \"Millions USD\"}}], {\"title\": \"2011 US Agriculture Exports by State<br>(Hover for breakdown)\", \"geo\": {\"scope\": \"usa\", \"projection\": {\"type\": \"albers usa\"}, \"showlakes\": true, \"lakecolor\": \"rgb(255, 255, 255)\"}}, {\"showLink\": true, \"linkText\": \"Export to plot.ly\"})});</script>"
      ],
      "text/vnd.plotly.v1+html": [
       "<div id=\"567388c7-9532-48e9-b4ff-914d8e7f8126\" style=\"height: 525px; width: 100%;\" class=\"plotly-graph-div\"></div><script type=\"text/javascript\">require([\"plotly\"], function(Plotly) { window.PLOTLYENV=window.PLOTLYENV || {};window.PLOTLYENV.BASE_URL=\"https://plot.ly\";Plotly.newPlot(\"567388c7-9532-48e9-b4ff-914d8e7f8126\", [{\"type\": \"choropleth\", \"colorscale\": [[0.0, \"rgb(242,240,247)\"], [0.2, \"rgb(218,218,235)\"], [0.4, \"rgb(188,189,220)\"], [0.6, \"rgb(158,154,200)\"], [0.8, \"rgb(117,107,177)\"], [1.0, \"rgb(84,39,143)\"]], \"autocolorscale\": true, \"locations\": [\" Alabama\", \" Mississippi\", \" Tennessee\", \" Louisiana\", \" Arkansas\", \" South Carolina\", \" West Virginia\", \" Oklahoma\", \" Georgia\", \" North Carolina\", \" Texas\", \" Utah\", \" Kentucky\", \" Virginia\", \" Missouri\", \" South Dakota\", \" Ohio\", \" New Mexico\", \" Iowa\", \" Kansas\", \" New Jersey\", \" Indiana\", \" Wyoming\", \" Florida\", \" Maryland\", \" Nebraska\", \" Michigan\", \" Pennsylvania\", \" North Dakota\", \" Arizona\", \" District of Columbia\", \" Delaware\", \" Illinois\", \" Idaho\", \" California\", \" Nevada\", \" Minnesota\", \" Rhode Island\", \" Montana\", \" Oregon\", \" Hawaii\", \" Colorado\", \" New York\", \" Washington\", \" Alaska\", \" Wisconsin\", \" Connecticut\", \" Maine\", \" Vermont\", \" New Hampshire\", \" Massachusetts\"], \"z\": [770.0, 770.0, 730.0, 710.0, 700.0, 700.0, 690.0, 660.0, 660.0, 650.0, 640.0, 640.0, 630.0, 610.0, 600.0, 590.0, 580.0, 570.0, 550.0, 550.0, 550.0, 540.0, 540.0, 540.0, 540.0, 540.0, 530.0, 530.0, 530.0, 530.0, 530.0, 520.0, 510.0, 510.0, 490.0, 490.0, 490.0, 490.0, 480.0, 480.0, 470.0, 470.0, 460.0, 450.0, 450.0, 450.0, 430.0, 340.0, 340.0, 330.0, 330.0], \"locationmode\": \"USA-states\", \"text\": [\" Alabama\", \" Mississippi\", \" Tennessee\", \" Louisiana\", \" Arkansas\", \" South Carolina\", \" West Virginia\", \" Oklahoma\", \" Georgia\", \" North Carolina\", \" Texas\", \" Utah\", \" Kentucky\", \" Virginia\", \" Missouri\", \" South Dakota\", \" Ohio\", \" New Mexico\", \" Iowa\", \" Kansas\", \" New Jersey\", \" Indiana\", \" Wyoming\", \" Florida\", \" Maryland\", \" Nebraska\", \" Michigan\", \" Pennsylvania\", \" North Dakota\", \" Arizona\", \" District of Columbia\", \" Delaware\", \" Illinois\", \" Idaho\", \" California\", \" Nevada\", \" Minnesota\", \" Rhode Island\", \" Montana\", \" Oregon\", \" Hawaii\", \" Colorado\", \" New York\", \" Washington\", \" Alaska\", \" Wisconsin\", \" Connecticut\", \" Maine\", \" Vermont\", \" New Hampshire\", \" Massachusetts\"], \"marker\": {\"line\": {\"color\": \"rgb(255,255,255)\", \"width\": 2}}, \"colorbar\": {\"title\": \"Millions USD\"}}], {\"title\": \"2011 US Agriculture Exports by State<br>(Hover for breakdown)\", \"geo\": {\"scope\": \"usa\", \"projection\": {\"type\": \"albers usa\"}, \"showlakes\": true, \"lakecolor\": \"rgb(255, 255, 255)\"}}, {\"showLink\": true, \"linkText\": \"Export to plot.ly\"})});</script>"
      ]
     },
     "metadata": {},
     "output_type": "display_data"
    }
   ],
   "source": [
    "scl = [[0.0, 'rgb(242,240,247)'],[0.2, 'rgb(218,218,235)'],[0.4, 'rgb(188,189,220)'],\\\n",
    "            [0.6, 'rgb(158,154,200)'],[0.8, 'rgb(117,107,177)'],[1.0, 'rgb(84,39,143)']]\n",
    "\n",
    "data = [ dict(\n",
    "        type='choropleth',\n",
    "        colorscale=scl,\n",
    "        autocolorscale = True,\n",
    "        locations = df_religion['state'],\n",
    "        z = df_religion['percentage'].astype(float)*1000,\n",
    "        locationmode = 'USA-states',\n",
    "        text = df_religion['state'],\n",
    "        marker = dict(\n",
    "            line = dict (\n",
    "                color = 'rgb(255,255,255)',\n",
    "                width = 2\n",
    "            ) ),\n",
    "        colorbar = dict(\n",
    "            title = \"Millions USD\")\n",
    "        ) ]\n",
    "\n",
    "layout = dict(\n",
    "        title = '2011 US Agriculture Exports by State<br>(Hover for breakdown)',\n",
    "        geo = dict(\n",
    "            scope='usa',\n",
    "            projection=dict( type='albers usa' ),\n",
    "            showlakes = True,\n",
    "            lakecolor = 'rgb(255, 255, 255)'),\n",
    "             )\n",
    "    \n",
    "fig = dict( data=data, layout=layout )\n",
    "iplot( fig, filename='d3-cloropleth-map' )"
   ]
  },
  {
   "cell_type": "code",
   "execution_count": null,
   "metadata": {
    "collapsed": true
   },
   "outputs": [],
   "source": []
  }
 ],
 "metadata": {
  "kernelspec": {
   "display_name": "Python 3",
   "language": "python",
   "name": "python3"
  },
  "language_info": {
   "codemirror_mode": {
    "name": "ipython",
    "version": 3
   },
   "file_extension": ".py",
   "mimetype": "text/x-python",
   "name": "python",
   "nbconvert_exporter": "python",
   "pygments_lexer": "ipython3",
   "version": "3.6.6"
  }
 },
 "nbformat": 4,
 "nbformat_minor": 2
}
