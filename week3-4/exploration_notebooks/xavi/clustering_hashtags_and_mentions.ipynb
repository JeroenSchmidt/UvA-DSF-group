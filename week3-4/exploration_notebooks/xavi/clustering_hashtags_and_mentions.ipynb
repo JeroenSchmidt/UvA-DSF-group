{
 "cells": [
  {
   "cell_type": "code",
   "execution_count": 16,
   "metadata": {},
   "outputs": [],
   "source": [
    "import pandas as pd\n",
    "import numpy as np\n",
    "from collections import Counter\n",
    "from sklearn.cluster import KMeans\n",
    "from random import randint\n",
    "import matplotlib.pyplot as plt\n",
    "\n",
    "%matplotlib inline"
   ]
  },
  {
   "cell_type": "code",
   "execution_count": 17,
   "metadata": {},
   "outputs": [],
   "source": [
    "tweets = pd.read_pickle(\"../../data/ap_tweets.pkl\")"
   ]
  },
  {
   "cell_type": "markdown",
   "metadata": {},
   "source": [
    "## Abstract\n",
    "In this notebook, we will determine for each tweet if it belongs to any of these classes:\n",
    "* Talks about Trump\n",
    "* Talks about Hillary\n",
    "* Talks about both\n",
    "* We couldn't define any of the other groups\n",
    "\n",
    "This it will be evaluated by checking keywords (hashtags and mentions) on the tweets, these keywords will be our features. Once each tweet is labeled, we can evaluate sentiment analysis or topic analysis, or even compare the data with demographic data, such as population or states.\n"
   ]
  },
  {
   "cell_type": "markdown",
   "metadata": {},
   "source": [
    "## Getting the features\n",
    "We will define a function to extract the features from each tweet. Our features will be hashtags and mentions, we will not distinguish one with another, we will treat them the same way. Therefore, we will remove *#* and *@* from the hashtags and mentions, and from now on, we will call them keywords."
   ]
  },
  {
   "cell_type": "code",
   "execution_count": 18,
   "metadata": {
    "scrolled": true
   },
   "outputs": [],
   "source": [
    "def features(tweet):\n",
    "    #Get hashtags\n",
    "    hashtags = [h['text'].lower() for h in tweet.entities_hashtags]\n",
    "    mentions = [m['screen_name'].lower() for m in tweet.entities_mentions]\n",
    "    \n",
    "    # Remove repetitive elements\n",
    "    tags = list(set(hashtags + mentions))\n",
    "    \n",
    "    # If the list is empty, return a NaN\n",
    "    return tags if tags else np.nan"
   ]
  },
  {
   "cell_type": "markdown",
   "metadata": {},
   "source": [
    "We apply the function for each tweet and afterwards, remove those tweets that do not have any keywords."
   ]
  },
  {
   "cell_type": "code",
   "execution_count": 19,
   "metadata": {},
   "outputs": [],
   "source": [
    "kw = tweets.apply(features, axis=1)\n",
    "kw.dropna(inplace=True)"
   ]
  },
  {
   "cell_type": "code",
   "execution_count": 20,
   "metadata": {},
   "outputs": [
    {
     "name": "stdout",
     "output_type": "stream",
     "text": [
      "1     [barackobama, lorettalynch, realdonaldtrump, f...\n",
      "3                                      [hillaryclinton]\n",
      "4                            [isis, newday, cnn, trump]\n",
      "5                         [nevertrump, realdonaldtrump]\n",
      "7                         [funnyordie, realdonaldtrump]\n",
      "8                                      [hillaryclinton]\n",
      "9     [washingtonpost, neilturner_, geraldanthro, re...\n",
      "10                       [realdonaldtrump, mike4193496]\n",
      "11                      [elsolarverde, realdonaldtrump]\n",
      "12    [hillaryclinton, 15for15, realdonaldtrump, tea...\n",
      "dtype: object\n",
      "\n",
      "We reduce the dataset from 584832 to 529704\n"
     ]
    }
   ],
   "source": [
    "print(kw.head(10))\n",
    "print(\"\\nWe reduce the dataset from\",len(tweets), \"to\", len(kw))"
   ]
  },
  {
   "cell_type": "markdown",
   "metadata": {},
   "source": [
    "We define a function that given *n* will give us a list of the *n* most common keywords. This list will be used to build a binary matrix."
   ]
  },
  {
   "cell_type": "code",
   "execution_count": 21,
   "metadata": {},
   "outputs": [
    {
     "name": "stdout",
     "output_type": "stream",
     "text": [
      "['realdonaldtrump', 'hillaryclinton', 'trump', 'foxnews', 'nevertrump', 'cnn', 'maga', 'imwithher', 'hillary', 'neverhillary', 'trumppence16', 'donaldtrump', 'crookedhillary', 'seanhannity', 'kellyannepolls', 'msnbc', 'potus', 'gop', 'epn', 'politico', 'trumptrain', 'nytimes', 'mike_pence', 'dumptrump', 'morning_joe', 'reince', 'basketofdeplorables', 'danscavino', 'greta', 'barackobama', 'trump2016', 'erictrump', 'cnnpolitics', 'makeamericagreatagain', 'donaldjtrumpjr', 'morningmika', 'abc', 'loudobbs', 'clinton', 'billclinton', 'tcot', 'timkaine', 'ingrahamangle', 'katrinapierson', 'teamtrump', 'speakerryan', 'obama', 'anncoulter', 'maddow', 'usa']\n"
     ]
    }
   ],
   "source": [
    "def getNKeywords(kw, n):\n",
    "    output = []\n",
    "    dic = Counter()\n",
    "    for key, keywords in kw.iteritems():\n",
    "        for k in keywords: dic[k] += 1\n",
    "            \n",
    "    output = sorted(dic, key=dic.__getitem__, reverse=True)\n",
    "    return output[:n]\n",
    "\n",
    "# Getting the N most common keywords\n",
    "all_keywords = getNKeywords(kw, 50)\n",
    "print(all_keywords)"
   ]
  },
  {
   "cell_type": "markdown",
   "metadata": {},
   "source": [
    "# Building a binary matrix\n",
    "In order to fit the clustering method, we will need a matrix $N x M$ and right now what we have so far is a list of list which the inside list has different lenght. That is the reason we will build a binary matrix where each row is a tweet and each column is a keyword from the list extracted before. The cell will indicated if that tweet has that keyword (True) or not (False)."
   ]
  },
  {
   "cell_type": "code",
   "execution_count": 22,
   "metadata": {},
   "outputs": [],
   "source": [
    "matrix = kw.apply(lambda items : np.array([keyword in items for keyword in all_keywords]))"
   ]
  },
  {
   "cell_type": "markdown",
   "metadata": {},
   "source": [
    "If the tweet does not contain any keyword as we reduced the total keywords that we have, then we will remove it."
   ]
  },
  {
   "cell_type": "code",
   "execution_count": 23,
   "metadata": {},
   "outputs": [
    {
     "name": "stdout",
     "output_type": "stream",
     "text": [
      "\n",
      "We reduce the dataset from 529704 to 518158\n"
     ]
    }
   ],
   "source": [
    "reduced_matrix = matrix.apply(lambda x : x if True in x else np.nan)\n",
    "reduced_matrix.dropna(inplace=True)\n",
    "print(\"\\nWe reduce the dataset from\",matrix.shape[0], \"to\", reduced_matrix.shape[0])"
   ]
  },
  {
   "cell_type": "markdown",
   "metadata": {},
   "source": [
    "## K-means\n",
    "Out main goal is to classify a tweet in these 4 groups:\n",
    "* Talks about Trump\n",
    "* Talks about Hillary\n",
    "* Talks about both\n",
    "* It's not relevant\n",
    "    \n",
    "For that, we will use a clustering method, K-means. K-means is a method for cluster analysis where you can give the number of cluster you want and it defines centroids which determine the 'middle' of a group (or class). This method normally even the clusters size which is not our case as we want 4 groups were the big one it will be the one that talks about Trump. Therefore, we decided to apply K-means but with *n_clusters* bigger than 4, let's say 20 and then we can classify manually if the cluster talks about Trump, Hillary or both.\n",
    "\n",
    "We should not forget we are trying to divide keywords (hashtags and mentions mainly) into groups, so each group will have a 'top-5' keywords that are used from that class. Once we know which are the most common keywords for each group, we can decide who they are talking about."
   ]
  },
  {
   "cell_type": "code",
   "execution_count": 24,
   "metadata": {},
   "outputs": [],
   "source": [
    "cluster = KMeans(n_clusters=20, random_state=0, algorithm='full').fit(reduced_matrix.tolist())"
   ]
  },
  {
   "cell_type": "markdown",
   "metadata": {},
   "source": [
    "## What the centroids tell us\n",
    "The centroids from the clustering will tell us what is the proability for each hashtag that appears in the tweets from that cluster. In orther words if the hashtag has a value of 1 that means that that hashtag appears in all the tweets from that group. The same if we have 0.45, there is a 45% chance that the hashtag appear in a selected random tweet from that group."
   ]
  },
  {
   "cell_type": "code",
   "execution_count": 25,
   "metadata": {},
   "outputs": [
    {
     "data": {
      "text/plain": [
       "array([ 1.00000000e+00, -2.51076937e-13,  4.27852198e-14, -2.55052923e-13,\n",
       "       -1.69038394e-13,  1.19973476e-13,  6.80566714e-14, -9.24954557e-14,\n",
       "        2.32761638e-03,  1.99072454e-03, -1.03632380e-14, -1.44155521e-14,\n",
       "       -7.56304741e-14,  5.28431465e-14,  1.98416171e-02,  5.66213743e-15,\n",
       "        6.48407420e-03,  8.98669933e-03,  1.68052153e-02,  1.00411271e-02,\n",
       "        2.21823591e-03,  9.86611831e-03,  1.09380469e-02,  1.99947497e-03,\n",
       "        8.04165208e-03,  6.33094155e-03,  2.22261113e-03,  9.10483024e-03,\n",
       "        4.01207560e-03,  3.22016101e-03,  1.72821141e-03,  7.06597830e-03,\n",
       "        3.92019601e-03,  4.62023101e-03,  6.59782989e-03,  6.82096605e-03,\n",
       "        1.84634232e-03,  6.15593280e-03,  5.25026251e-04,  7.74413721e-04,\n",
       "        4.90024501e-04,  9.10045502e-04,  3.95519776e-03,  5.62215611e-03,\n",
       "        3.96832342e-03,  3.68830942e-03,  7.43787189e-04,  4.36646832e-03,\n",
       "        2.66013301e-03,  1.34756738e-03])"
      ]
     },
     "execution_count": 25,
     "metadata": {},
     "output_type": "execute_result"
    }
   ],
   "source": [
    "cluster.cluster_centers_[0]"
   ]
  },
  {
   "cell_type": "markdown",
   "metadata": {},
   "source": [
    "As we see in the first centroid, there is a probability of 1 that 'realdonaldtrump' appears on the tweets from that cluster and there is low chance for 'hillaryclinton', 'foxnews', 'cnn', 'nevertrump', 'maga', 'imwithher' appearing. The order preserved in the centroids is the same as the variable *all_keywords*, that is how we know which keyword belongs each number.\n",
    "\n",
    "We have to define a threshold to determine which keywords are significant for each class, this is just to visualise and clarify what is the cluster talking about, but the K-means algorithm is already applied. 'Undefined group' means the class that doesn't have any significant keywords."
   ]
  },
  {
   "cell_type": "code",
   "execution_count": 26,
   "metadata": {},
   "outputs": [
    {
     "data": {
      "text/plain": [
       "{0: {'keywords': ['realdonaldtrump'], 'tweets': 228560},\n",
       " 1: {'keywords': ['realdonaldtrump', 'seanhannity'], 'tweets': 4217},\n",
       " 2: {'keywords': ['trump'], 'tweets': 41696},\n",
       " 3: {'keywords': ['hillaryclinton'], 'tweets': 101180},\n",
       " 4: {'keywords': ['trumppence16'], 'tweets': 7917},\n",
       " 5: {'keywords': ['nevertrump'], 'tweets': 17485},\n",
       " 6: {'keywords': 'Undefined group', 'tweets': 11797},\n",
       " 7: {'keywords': ['neverhillary'], 'tweets': 8970},\n",
       " 8: {'keywords': ['hillaryclinton', 'foxnews'], 'tweets': 5865},\n",
       " 9: {'keywords': ['realdonaldtrump', 'hillaryclinton'], 'tweets': 24188},\n",
       " 10: {'keywords': ['realdonaldtrump', 'cnn'], 'tweets': 9399},\n",
       " 11: {'keywords': ['trump', 'hillary'], 'tweets': 2760},\n",
       " 12: {'keywords': ['maga'], 'tweets': 12253},\n",
       " 13: {'keywords': ['crookedhillary'], 'tweets': 6131},\n",
       " 14: {'keywords': ['realdonaldtrump', 'foxnews'], 'tweets': 10530},\n",
       " 15: {'keywords': ['imwithher'], 'tweets': 10580},\n",
       " 16: {'keywords': ['cnnpolitics'], 'tweets': 778},\n",
       " 17: {'keywords': ['donaldtrump'], 'tweets': 9518},\n",
       " 18: {'keywords': ['cnn'], 'tweets': 2361},\n",
       " 19: {'keywords': ['msnbc'], 'tweets': 1973}}"
      ]
     },
     "execution_count": 26,
     "metadata": {},
     "output_type": "execute_result"
    }
   ],
   "source": [
    "p = 0.95 # Threshold probability. It will give us the hashtags that its chance is bigger than p.\n",
    "c = 0\n",
    "clusters = {}\n",
    "counters = Counter(cluster.labels_)\n",
    "for center in cluster.cluster_centers_:\n",
    "    s = pd.Series(center)\n",
    "    idxs = s[s>=p].index\n",
    "    clusters[c] = {}\n",
    "    clusters[c]['keywords'] = [all_keywords[i] for i in idxs] if idxs.tolist() else 'Undefined group'\n",
    "    clusters[c]['tweets'] = counters[c] \n",
    "    c+=1\n",
    "        \n",
    "clusters"
   ]
  },
  {
   "cell_type": "markdown",
   "metadata": {},
   "source": [
    "## Sampling some tweets with its class"
   ]
  },
  {
   "cell_type": "markdown",
   "metadata": {},
   "source": [
    "We can see here that given *n* tweets, we'll see which class belongs that tweet"
   ]
  },
  {
   "cell_type": "code",
   "execution_count": 27,
   "metadata": {},
   "outputs": [
    {
     "name": "stdout",
     "output_type": "stream",
     "text": [
      "damned god liarcriminal b wh shell b fed prisonwitch\n",
      "['realdonaldtrump', 'hillaryclinton'] \n",
      "\n",
      "time american ppl plans is\n",
      "['realdonaldtrump'] \n",
      "\n",
      "oh yeah another reprehensible scts\n",
      "['realdonaldtrump'] \n",
      "\n",
      "wow sound cnn msnbc fair balanced huh\n",
      "['realdonaldtrump', 'foxnews'] \n",
      "\n",
      "cant recall supposed say hell cant recall is\n",
      "['realdonaldtrump'] \n",
      "\n"
     ]
    }
   ],
   "source": [
    "n = 5\n",
    "for i in range(n):\n",
    "    i = randint(0, len(cluster.labels_))\n",
    "    idx = reduced_matrix.index.tolist()[i]\n",
    "    print(tweets.at[idx, 'text'])\n",
    "    print(clusters[cluster.labels_[i]]['keywords'], \"\\n\")"
   ]
  },
  {
   "cell_type": "markdown",
   "metadata": {},
   "source": [
    "## Converting the classes from K-means to our classes"
   ]
  },
  {
   "cell_type": "markdown",
   "metadata": {},
   "source": [
    "Once we have the classes obtained from K-means, we can decide manually what is the tweet talking about (Trump, Hillary, both or irrelevant), knowing the most common words in that class."
   ]
  },
  {
   "cell_type": "code",
   "execution_count": 28,
   "metadata": {},
   "outputs": [],
   "source": [
    "# Trump (0)\n",
    "# Hillary (1)\n",
    "# Both (2)\n",
    "# Undefined (np.nan)\n",
    "tweets['about'] = np.nan\n",
    "\n",
    "for i in range(len(cluster.labels_)):\n",
    "    label = cluster.labels_[i]\n",
    "    idx = reduced_matrix.index[i]\n",
    "    about = np.nan\n",
    "    # Setting clusters manually according to the outcome from K-means\n",
    "    if label in [0,1,2,4,5,10,14,17]: # Clusters about Trump\n",
    "        about = 0\n",
    "    elif label in [3,7,8,13,15]: # Clusters about Hillary\n",
    "        about = 1\n",
    "    elif label in [9,11] : # Cluster about both\n",
    "        about = 2\n",
    "    tweets.at[idx, 'about'] = about"
   ]
  },
  {
   "cell_type": "code",
   "execution_count": 33,
   "metadata": {},
   "outputs": [
    {
     "data": {
      "image/png": "[encoded data removed]",
      "text/plain": [
       "<Figure size 432x288 with 1 Axes>"
      ]
     },
     "metadata": {},
     "output_type": "display_data"
    }
   ],
   "source": [
    "labels = 'Trump', 'Hillary', 'Undefined', 'Both'\n",
    "sizes = tweets.about.value_counts(dropna=False).tolist()\n",
    "colors = ['#FF6B7B', '#439FE0', '#F0F7A6', '#94D884']\n",
    "explode = (0.08, 0, 0, 0)  # explode Trump slide\n",
    "\n",
    "plt.rcParams['font.size'] = 11.5\n",
    "\n",
    "# Plot\n",
    "plt.pie(sizes, explode=explode, labels=labels, colors=colors,\n",
    "        autopct='%1.1f%%', shadow=True, startangle=140)\n",
    " \n",
    "plt.axis('equal')\n",
    "plt.show()"
   ]
  },
  {
   "cell_type": "markdown",
   "metadata": {},
   "source": [
    "According to the chart, the majority of the tweets talk about Trump"
   ]
  },
  {
   "cell_type": "markdown",
   "metadata": {},
   "source": [
    "## Saving the file"
   ]
  },
  {
   "cell_type": "code",
   "execution_count": 30,
   "metadata": {},
   "outputs": [],
   "source": [
    "tweets.to_pickle(\"../../data/ap_tweets_classified.pkl\")"
   ]
  }
 ],
 "metadata": {
  "kernelspec": {
   "display_name": "Python 3",
   "language": "python",
   "name": "python3"
  },
  "language_info": {
   "codemirror_mode": {
    "name": "ipython",
    "version": 3
   },
   "file_extension": ".py",
   "mimetype": "text/x-python",
   "name": "python",
   "nbconvert_exporter": "python",
   "pygments_lexer": "ipython3",
   "version": "3.6.5"
  }
 },
 "nbformat": 4,
 "nbformat_minor": 2
}
