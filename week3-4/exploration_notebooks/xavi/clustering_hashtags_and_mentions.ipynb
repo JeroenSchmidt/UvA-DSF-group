{
 "cells": [
  {
   "cell_type": "code",
   "execution_count": 58,
   "metadata": {},
   "outputs": [],
   "source": [
    "import pandas as pd\n",
    "import numpy as np\n",
    "import re\n",
    "from collections import Counter\n",
    "from sklearn.cluster import KMeans\n",
    "from random import randint\n",
    "import matplotlib.pyplot as plt\n",
    "\n",
    "%matplotlib inline"
   ]
  },
  {
   "cell_type": "code",
   "execution_count": 59,
   "metadata": {},
   "outputs": [],
   "source": [
    "tweets = pd.read_pickle(\"../../data/cp_tweets.pkl\")"
   ]
  },
  {
   "cell_type": "markdown",
   "metadata": {},
   "source": [
    "## Abstract\n",
    "In this notebook, we will determine for each tweet if it belongs to any of these classes:\n",
    "* Talks about Trump\n",
    "* Talks about Hillary\n",
    "* Talks about both\n",
    "* We couldn't define any of the other groups\n",
    "\n",
    "This it will be evaluated by checking keywords (hashtags and mentions) on the tweets, these keywords will be our features. Once each tweet is labeled, we can evaluate sentiment analysis or topic analysis, or even compare the data with demographic data, such as population or states.\n"
   ]
  },
  {
   "cell_type": "markdown",
   "metadata": {},
   "source": [
    "## Getting the features\n",
    "We will define a function to extract the features from each tweet. Our features will be hashtags and mentions, we will not distinguish one with another, we will treat them the same way. Therefore, we will remove *#* and *@* from the hashtags and mentions, and from now on, we will call them keywords."
   ]
  },
  {
   "cell_type": "code",
   "execution_count": 60,
   "metadata": {
    "scrolled": true
   },
   "outputs": [],
   "source": [
    "def features(tweet):\n",
    "    tweet = tweet.lower()\n",
    "    \n",
    "    # Get hashtags and mentions with regex\n",
    "    # I guess we can improve this by taking hashtags and mentions from the API\n",
    "    tags = re.findall('(^|\\s)([@#][\\w-]+)', tweet)\n",
    "    tags = [item[1] for item in tags]\n",
    "    \n",
    "    #Remove mentions and hashtags symbols\n",
    "    tags = list(map(lambda item: item\n",
    "                     .replace('@', '')\n",
    "                     .replace('#',''), tags))\n",
    "    \n",
    "    # Remove repetitive elements\n",
    "    tags = list(set(tags))\n",
    "    \n",
    "    # If the list is empty, return a NaN\n",
    "    return tags if tags else np.nan"
   ]
  },
  {
   "cell_type": "markdown",
   "metadata": {},
   "source": [
    "We apply the function for each tweet and afterwards, remove those tweets that do not have any keywords."
   ]
  },
  {
   "cell_type": "code",
   "execution_count": 61,
   "metadata": {},
   "outputs": [],
   "source": [
    "kw = tweets.text.apply(features)\n",
    "kw.dropna(inplace=True)"
   ]
  },
  {
   "cell_type": "code",
   "execution_count": 62,
   "metadata": {},
   "outputs": [
    {
     "name": "stdout",
     "output_type": "stream",
     "text": [
      "0                               [theblaze, realdonaldtrump]\n",
      "1         [barackobama, trumppence, fbi, realdonaldtrump...\n",
      "10                           [realdonaldtrump, mike4193496]\n",
      "100       [joenbc, mike_pence, williegeist, morningmika,...\n",
      "1000                                      [realdonaldtrump]\n",
      "10000     [realdonaldtrump, barackobama, grammybijou3, i...\n",
      "100000    [radicalrw, barackobama, cr, mikemckenna19, hi...\n",
      "100001      [dt, trumpers, foxnews, tnuts, realdonaldtrump]\n",
      "100002      [realdonaldtrump, melaniatrump, hillaryclinton]\n",
      "100003        [bigduhie1955, supportourtroopsandvets, maga]\n",
      "Name: text, dtype: object\n",
      "\n",
      "We reduce the dataset from 657307 to 597024\n"
     ]
    }
   ],
   "source": [
    "print(kw.head(10))\n",
    "print(\"\\nWe reduce the dataset from\",len(tweets), \"to\", len(kw))"
   ]
  },
  {
   "cell_type": "markdown",
   "metadata": {},
   "source": [
    "We define a function that given *n* will give us a list of the *n* most common keywords. This list will be used to build a binary matrix."
   ]
  },
  {
   "cell_type": "code",
   "execution_count": 63,
   "metadata": {},
   "outputs": [
    {
     "name": "stdout",
     "output_type": "stream",
     "text": [
      "['realdonaldtrump', 'hillaryclinton', 'trump', 'foxnews', 'cnn', 'nevertrump', 'maga', 'imwithher', 'neverhillary', 'hillary', 'trumppence16', 'donaldtrump', 'crookedhillary', 'seanhannity', 'kellyannepolls', 'msnbc', 'potus', 'gop', 'trumptrain', 'epn', 'nytimes', 'politico', 'mike_pence', 'reince', 'morning_joe', 'dumptrump', 'makeamericagreatagain', 'danscavino', 'erictrump', 'trump2016', 'donaldjtrumpjr', 'abc', 'basketofdeplorables', 'cnnpolitics', 'barackobama', 'greta', 'teamtrump', 'billclinton', 'timkaine', 'loudobbs', 'morningmika', 'tcot', 'rogerjstonejr', 'ingrahamangle', 'maddow', 'katrinapierson', 'washingtonpost', 'speakerryan', 'hfa', 'anncoulter']\n"
     ]
    }
   ],
   "source": [
    "def getNKeywords(kw, n):\n",
    "    output = []\n",
    "    dic = Counter()\n",
    "    for key, keywords in kw.iteritems():\n",
    "        for k in keywords: dic[k] += 1\n",
    "            \n",
    "    output = sorted(dic, key=dic.__getitem__, reverse=True)\n",
    "    return output[:n]\n",
    "\n",
    "# Getting the N most common keywords\n",
    "all_keywords = getNKeywords(kw, 50)\n",
    "print(all_keywords)"
   ]
  },
  {
   "cell_type": "markdown",
   "metadata": {},
   "source": [
    "# Building a binary matrix\n",
    "In order to fit the clustering method, we will need a matrix $N x M$ and right now what we have so far is a list of list which the inside list has different lenght. That is the reason we will build a binary matrix where each row is a tweet and each column is a keyword from the list extracted before. The cell will indicated if that tweet has that keyword (True) or not (False)."
   ]
  },
  {
   "cell_type": "code",
   "execution_count": 64,
   "metadata": {},
   "outputs": [],
   "source": [
    "matrix = kw.apply(lambda items : np.array([keyword in items for keyword in all_keywords]))"
   ]
  },
  {
   "cell_type": "markdown",
   "metadata": {},
   "source": [
    "If the tweet does not contain any keyword as we reduced the total keywords that we have, then we will remove it."
   ]
  },
  {
   "cell_type": "code",
   "execution_count": 65,
   "metadata": {},
   "outputs": [
    {
     "name": "stdout",
     "output_type": "stream",
     "text": [
      "\n",
      "We reduce the dataset from 597024 to 573745\n"
     ]
    }
   ],
   "source": [
    "reduced_matrix = matrix.apply(lambda x : x if True in x else np.nan)\n",
    "reduced_matrix.dropna(inplace=True)\n",
    "print(\"\\nWe reduce the dataset from\",matrix.shape[0], \"to\", reduced_matrix.shape[0])"
   ]
  },
  {
   "cell_type": "markdown",
   "metadata": {},
   "source": [
    "## K-means\n",
    "Out main goal is to classify a tweet in these 4 groups:\n",
    "* Talks about Trump\n",
    "* Talks about Hillary\n",
    "* Talks about both\n",
    "* It's not relevant\n",
    "    \n",
    "For that, we will use a clustering method, K-means. K-means is a method for cluster analysis where you can give the number of cluster you want and it defines centroids which determine the 'middle' of a group (or class). This method normally even the clusters size which is not our case as we want 4 groups were the big one it will be the one that talks about Trump. Therefore, we decided to apply K-means but with *n_clusters* bigger than 4, let's say 15 and then we can classify manually if the cluster talks about Trump, Hillary or both.\n",
    "\n",
    "We should not forget we are trying to divide keywords (hashtags and mentions mainly) into groups, so each group will have a 'top-5' keywords that are used from that class. Once we know which are the most common keywords for each group, we can decide who are they talking about."
   ]
  },
  {
   "cell_type": "code",
   "execution_count": 66,
   "metadata": {},
   "outputs": [],
   "source": [
    "cluster = KMeans(n_clusters=20, random_state=0, algorithm='full').fit(reduced_matrix.tolist())"
   ]
  },
  {
   "cell_type": "markdown",
   "metadata": {},
   "source": [
    "## What the centroids tell us\n",
    "The centroids from the clustering will tell us what is the proability for each hashtag that appears in the tweets from that cluster. In orther words if the hashtag has a value of 1 that means that that hashtag appears in all the tweets from that group. The same if we have 0.45, there is a 45% chance that the hashtag appear in a selected random tweet from that group."
   ]
  },
  {
   "cell_type": "code",
   "execution_count": 67,
   "metadata": {},
   "outputs": [
    {
     "data": {
      "text/plain": [
       "array([ 3.48088752e-01,  1.00000000e+00,  7.68892794e-03,  1.00000000e+00,\n",
       "        5.83560977e-15,  1.53778559e-03,  2.96572935e-03,  7.68892794e-04,\n",
       "        3.62478032e-03,  2.52636204e-03,  2.52636204e-03,  2.19683656e-03,\n",
       "        3.07557118e-03,  1.59270650e-02,  1.25219684e-02,  8.12829525e-03,\n",
       "        1.17530756e-02,  3.40509666e-03,  1.09841828e-03,  6.59050967e-04,\n",
       "        4.17398946e-03,  1.20826011e-03,  5.60193322e-03,  2.63620387e-03,\n",
       "        7.68892794e-04,  2.19683656e-04,  1.86731107e-03,  8.78734622e-04,\n",
       "        7.46924429e-03,  3.29525483e-04,  4.50351494e-03,  1.39499121e-02,\n",
       "        3.18541301e-03,  5.27240773e-03,  1.60369069e-02,  1.64762742e-02,\n",
       "        1.42794376e-03,  1.13137083e-02,  1.86731107e-03,  2.96572935e-03,\n",
       "        3.29525483e-04, -8.75167994e-16,  9.80118764e-17,  5.82161687e-03,\n",
       "        1.31810193e-03,  1.20826011e-03,  5.49209139e-04,  1.31810193e-03,\n",
       "        7.68892794e-04,  1.31810193e-03])"
      ]
     },
     "execution_count": 67,
     "metadata": {},
     "output_type": "execute_result"
    }
   ],
   "source": [
    "cluster.cluster_centers_[0]"
   ]
  },
  {
   "cell_type": "markdown",
   "metadata": {},
   "source": [
    "As we see in the first centroid, there is a probability of 1 that 'realdonaldtrump' appears on the tweets from that cluster and there is low chance for 'hillaryclinton', 'foxnews', 'cnn', 'nevertrump', 'maga', 'imwithher' appearing. The order preserved in the centroids is the same as the variable *all_keywords*, that is how we know which keyword belongs each number.\n",
    "\n",
    "We have to define a threshold to determine which keywords are significant for each class, this is just to visualise and clarify what is the cluster talking about, but the K-means algorithm is already applied. 'Undefined group' means the class that doesn't have any significant keywords."
   ]
  },
  {
   "cell_type": "code",
   "execution_count": 68,
   "metadata": {},
   "outputs": [
    {
     "data": {
      "text/plain": [
       "{0: {'keywords': ['hillaryclinton', 'foxnews'], 'tweets': 9104},\n",
       " 1: {'keywords': ['hillaryclinton'], 'tweets': 108540},\n",
       " 2: {'keywords': ['realdonaldtrump'], 'tweets': 250243},\n",
       " 3: {'keywords': ['trump'], 'tweets': 47681},\n",
       " 4: {'keywords': ['trumppence16'], 'tweets': 10517},\n",
       " 5: {'keywords': ['maga'], 'tweets': 12087},\n",
       " 6: {'keywords': ['donaldtrump'], 'tweets': 9925},\n",
       " 7: {'keywords': ['imwithher'], 'tweets': 12230},\n",
       " 8: {'keywords': ['realdonaldtrump', 'hillaryclinton'], 'tweets': 22131},\n",
       " 9: {'keywords': ['nevertrump'], 'tweets': 14281},\n",
       " 10: {'keywords': ['neverhillary'], 'tweets': 11697},\n",
       " 11: {'keywords': 'Undefined group', 'tweets': 11825},\n",
       " 12: {'keywords': ['hillary'], 'tweets': 9479},\n",
       " 13: {'keywords': ['hillaryclinton', 'cnn'], 'tweets': 5759},\n",
       " 14: {'keywords': ['cnn'], 'tweets': 11894},\n",
       " 15: {'keywords': ['seanhannity'], 'tweets': 4704},\n",
       " 16: {'keywords': ['hillaryclinton', 'imwithher'], 'tweets': 2640},\n",
       " 17: {'keywords': ['realdonaldtrump', 'foxnews'], 'tweets': 12041},\n",
       " 18: {'keywords': ['realdonaldtrump', 'nevertrump'], 'tweets': 3354},\n",
       " 19: {'keywords': ['realdonaldtrump', 'mike_pence'], 'tweets': 3613}}"
      ]
     },
     "execution_count": 68,
     "metadata": {},
     "output_type": "execute_result"
    }
   ],
   "source": [
    "p = 0.95 # Threshold probability. It will give us the hashtags that its chance is bigger than p.\n",
    "c = 0\n",
    "clusters = {}\n",
    "counters = Counter(cluster.labels_)\n",
    "for center in cluster.cluster_centers_:\n",
    "    s = pd.Series(center)\n",
    "    idxs = s[s>=p].index\n",
    "    clusters[c] = {}\n",
    "    clusters[c]['keywords'] = [all_keywords[i] for i in idxs] if idxs.tolist() else 'Undefined group'\n",
    "    clusters[c]['tweets'] = counters[c] \n",
    "    c+=1\n",
    "        \n",
    "clusters"
   ]
  },
  {
   "cell_type": "markdown",
   "metadata": {},
   "source": [
    "## Sampling some tweets with its class"
   ]
  },
  {
   "cell_type": "markdown",
   "metadata": {},
   "source": [
    "We can see here that given *n* tweets, we'll see which class belongs that tweet"
   ]
  },
  {
   "cell_type": "code",
   "execution_count": 69,
   "metadata": {},
   "outputs": [
    {
     "name": "stdout",
     "output_type": "stream",
     "text": [
      "@SonofRascus @DailyNewsBin @realDonaldTrump Nothing if we could be so lucky\n",
      "['realdonaldtrump'] \n",
      "\n",
      "#Trump the diplomat revealed as #Trump the liar https://t.co/PczT1lDHNq\n",
      "['trump'] \n",
      "\n",
      "@realDonaldTrump we are releasing them soon https://t.co/kuareIF41G\n",
      "['realdonaldtrump'] \n",
      "\n",
      "@realDonaldTrump no one wants you, bitch. Just the closeted racists\n",
      "['realdonaldtrump'] \n",
      "\n",
      "@FoxNews #thefive should have paid tribute to 9/11 by giving day off to @TheJuanWilliams who supports Saudi funded traitor @HillaryClinton\n",
      "['hillaryclinton', 'foxnews'] \n",
      "\n"
     ]
    }
   ],
   "source": [
    "n = 5\n",
    "for i in range(n):\n",
    "    i = randint(0, len(cluster.labels_))\n",
    "    idx = reduced_matrix.index.tolist()[i]\n",
    "    print(tweets.at[idx, 'text'])\n",
    "    print(clusters[cluster.labels_[i]]['keywords'], \"\\n\")"
   ]
  },
  {
   "cell_type": "markdown",
   "metadata": {},
   "source": [
    "## Converting the classes from K-means to our classes"
   ]
  },
  {
   "cell_type": "markdown",
   "metadata": {},
   "source": [
    "Once we have the classes obtained from K-means, we can decide manually what is the tweet talking about (Trump, Hillary, both or irrelevant), knowing the most common words in that class."
   ]
  },
  {
   "cell_type": "code",
   "execution_count": 70,
   "metadata": {},
   "outputs": [],
   "source": [
    "# Trump (0)\n",
    "# Hillary (1)\n",
    "# Both (2)\n",
    "# Undefined (np.nan)\n",
    "tweets['about'] = np.nan\n",
    "\n",
    "for i in range(len(cluster.labels_)):\n",
    "    label = cluster.labels_[i]\n",
    "    idx = reduced_matrix.index[i]\n",
    "    about = np.nan\n",
    "    # Setting clusters manually according to the outcome from K-means\n",
    "    if label in [2, 3, 4, 6, 9, 17, 18, 19]: # Clusters about Trump\n",
    "        about = 0\n",
    "    elif label in [0, 1, 7, 10, 12, 13, 16]: # Clusters about Hillary\n",
    "        about = 1\n",
    "    elif label == 8: # Cluster about both\n",
    "        about = 2\n",
    "    tweets.at[idx, 'about'] = about"
   ]
  },
  {
   "cell_type": "code",
   "execution_count": 71,
   "metadata": {},
   "outputs": [
    {
     "data": {
      "image/png": "[encoded data removed]",
      "text/plain": [
       "<Figure size 432x288 with 1 Axes>"
      ]
     },
     "metadata": {},
     "output_type": "display_data"
    }
   ],
   "source": [
    "labels = 'Trump', 'Hillary', 'Undefined', 'Both'\n",
    "sizes = tweets.about.value_counts(dropna=False).tolist()\n",
    "colors = ['lightskyblue', 'red', 'gold', 'yellowgreen']\n",
    "explode = (0.08, 0, 0, 0)  # explode Trump slide\n",
    " \n",
    "# Plot\n",
    "plt.pie(sizes, explode=explode, labels=labels, colors=colors,\n",
    "        autopct='%1.1f%%', shadow=True, startangle=140)\n",
    " \n",
    "plt.axis('equal')\n",
    "plt.show()"
   ]
  },
  {
   "cell_type": "markdown",
   "metadata": {},
   "source": [
    "According to the chart, the majority of the tweets talk about Trump"
   ]
  },
  {
   "cell_type": "markdown",
   "metadata": {},
   "source": [
    "## Saving the file"
   ]
  },
  {
   "cell_type": "code",
   "execution_count": 72,
   "metadata": {},
   "outputs": [],
   "source": [
    "tweets.to_pickle(\"../../data/cp_tweets_classified.pkl\")"
   ]
  }
 ],
 "metadata": {
  "kernelspec": {
   "display_name": "Python 3",
   "language": "python",
   "name": "python3"
  },
  "language_info": {
   "codemirror_mode": {
    "name": "ipython",
    "version": 3
   },
   "file_extension": ".py",
   "mimetype": "text/x-python",
   "name": "python",
   "nbconvert_exporter": "python",
   "pygments_lexer": "ipython3",
   "version": "3.6.5"
  }
 },
 "nbformat": 4,
 "nbformat_minor": 2
}
