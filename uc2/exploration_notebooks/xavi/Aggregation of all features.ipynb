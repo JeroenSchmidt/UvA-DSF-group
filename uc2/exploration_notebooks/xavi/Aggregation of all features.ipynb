{
 "cells": [
  {
   "cell_type": "code",
   "execution_count": 8,
   "metadata": {
    "ExecuteTime": {
     "end_time": "2018-11-02T18:56:16.389852Z",
     "start_time": "2018-11-02T18:56:16.383013Z"
    }
   },
   "outputs": [],
   "source": [
    "%run ../../libs/helper.py"
   ]
  },
  {
   "cell_type": "code",
   "execution_count": 2,
   "metadata": {
    "ExecuteTime": {
     "end_time": "2018-11-02T18:51:21.484361Z",
     "start_time": "2018-11-02T18:51:21.481687Z"
    }
   },
   "outputs": [],
   "source": [
    "import numpy as np\n",
    "import pandas as pd"
   ]
  },
  {
   "cell_type": "code",
   "execution_count": 3,
   "metadata": {
    "ExecuteTime": {
     "end_time": "2018-11-02T18:51:21.635346Z",
     "start_time": "2018-11-02T18:51:21.626008Z"
    }
   },
   "outputs": [],
   "source": [
    "__data_dir = \"../../data/Visual_well_being/\"\n",
    "survey: object = pd.read_pickle(__data_dir + \"survey.pickle\")\n",
    "survey['insta_user_id'] = survey['insta_user_id'].astype(int)"
   ]
  },
  {
   "cell_type": "code",
   "execution_count": 4,
   "metadata": {
    "ExecuteTime": {
     "end_time": "2018-11-02T18:55:04.526214Z",
     "start_time": "2018-11-02T18:51:22.014492Z"
    }
   },
   "outputs": [],
   "source": [
    "df = aggregate()"
   ]
  },
  {
   "cell_type": "code",
   "execution_count": 5,
   "metadata": {
    "ExecuteTime": {
     "end_time": "2018-11-02T18:55:04.544039Z",
     "start_time": "2018-11-02T18:55:04.529011Z"
    }
   },
   "outputs": [],
   "source": [
    "user = pd.merge(df, survey, left_on = 'user_id', right_on = 'insta_user_id')"
   ]
  },
  {
   "cell_type": "code",
   "execution_count": 9,
   "metadata": {
    "ExecuteTime": {
     "end_time": "2018-11-02T18:56:17.598960Z",
     "start_time": "2018-11-02T18:56:17.565134Z"
    }
   },
   "outputs": [],
   "source": [
    "clean_df = clean_data_after_merging_features(user)"
   ]
  },
  {
   "cell_type": "code",
   "execution_count": 10,
   "metadata": {
    "ExecuteTime": {
     "end_time": "2018-11-02T18:56:19.495963Z",
     "start_time": "2018-11-02T18:56:19.458924Z"
    }
   },
   "outputs": [
    {
     "data": {
      "text/html": [
       "<div>\n",
       "<style scoped>\n",
       "    .dataframe tbody tr th:only-of-type {\n",
       "        vertical-align: middle;\n",
       "    }\n",
       "\n",
       "    .dataframe tbody tr th {\n",
       "        vertical-align: top;\n",
       "    }\n",
       "\n",
       "    .dataframe thead th {\n",
       "        text-align: right;\n",
       "    }\n",
       "</style>\n",
       "<table border=\"1\" class=\"dataframe\">\n",
       "  <thead>\n",
       "    <tr style=\"text-align: right;\">\n",
       "      <th></th>\n",
       "      <th>age</th>\n",
       "      <th>user_followed_by</th>\n",
       "      <th>user_follows</th>\n",
       "      <th>user_posted_photos</th>\n",
       "      <th>ratio_Abyssinian</th>\n",
       "      <th>ratio_Alcohol</th>\n",
       "      <th>ratio_Animal</th>\n",
       "      <th>ratio_Appliance</th>\n",
       "      <th>ratio_Architecture</th>\n",
       "      <th>ratio_Art</th>\n",
       "      <th>...</th>\n",
       "      <th>employed</th>\n",
       "      <th>income</th>\n",
       "      <th>participate</th>\n",
       "      <th>P</th>\n",
       "      <th>E</th>\n",
       "      <th>R</th>\n",
       "      <th>M</th>\n",
       "      <th>A</th>\n",
       "      <th>PERMA</th>\n",
       "      <th>imagecount</th>\n",
       "    </tr>\n",
       "  </thead>\n",
       "  <tbody>\n",
       "    <tr>\n",
       "      <th>0</th>\n",
       "      <td>42</td>\n",
       "      <td>364.0</td>\n",
       "      <td>814.0</td>\n",
       "      <td>2037.0</td>\n",
       "      <td>0.0</td>\n",
       "      <td>0.000000</td>\n",
       "      <td>0.009327</td>\n",
       "      <td>0.000491</td>\n",
       "      <td>0.000491</td>\n",
       "      <td>0.000491</td>\n",
       "      <td>...</td>\n",
       "      <td>0</td>\n",
       "      <td>5</td>\n",
       "      <td>1</td>\n",
       "      <td>3.000000</td>\n",
       "      <td>5.333333</td>\n",
       "      <td>3.666667</td>\n",
       "      <td>5.333333</td>\n",
       "      <td>5.333333</td>\n",
       "      <td>4.4375</td>\n",
       "      <td>1515.0</td>\n",
       "    </tr>\n",
       "    <tr>\n",
       "      <th>1</th>\n",
       "      <td>36</td>\n",
       "      <td>198.0</td>\n",
       "      <td>288.0</td>\n",
       "      <td>124.0</td>\n",
       "      <td>0.0</td>\n",
       "      <td>0.000000</td>\n",
       "      <td>0.000000</td>\n",
       "      <td>0.000000</td>\n",
       "      <td>0.000000</td>\n",
       "      <td>0.000000</td>\n",
       "      <td>...</td>\n",
       "      <td>2</td>\n",
       "      <td>6</td>\n",
       "      <td>1</td>\n",
       "      <td>7.666667</td>\n",
       "      <td>8.333333</td>\n",
       "      <td>7.333333</td>\n",
       "      <td>7.666667</td>\n",
       "      <td>8.000000</td>\n",
       "      <td>7.8750</td>\n",
       "      <td>123.0</td>\n",
       "    </tr>\n",
       "    <tr>\n",
       "      <th>2</th>\n",
       "      <td>21</td>\n",
       "      <td>311.0</td>\n",
       "      <td>240.0</td>\n",
       "      <td>350.0</td>\n",
       "      <td>0.0</td>\n",
       "      <td>0.000000</td>\n",
       "      <td>0.000000</td>\n",
       "      <td>0.000000</td>\n",
       "      <td>0.000000</td>\n",
       "      <td>0.000000</td>\n",
       "      <td>...</td>\n",
       "      <td>3</td>\n",
       "      <td>1</td>\n",
       "      <td>1</td>\n",
       "      <td>4.666667</td>\n",
       "      <td>8.000000</td>\n",
       "      <td>6.333333</td>\n",
       "      <td>4.666667</td>\n",
       "      <td>5.000000</td>\n",
       "      <td>5.6875</td>\n",
       "      <td>350.0</td>\n",
       "    </tr>\n",
       "    <tr>\n",
       "      <th>3</th>\n",
       "      <td>37</td>\n",
       "      <td>732.0</td>\n",
       "      <td>943.0</td>\n",
       "      <td>610.0</td>\n",
       "      <td>0.0</td>\n",
       "      <td>0.001639</td>\n",
       "      <td>0.000000</td>\n",
       "      <td>0.000000</td>\n",
       "      <td>0.000000</td>\n",
       "      <td>0.001639</td>\n",
       "      <td>...</td>\n",
       "      <td>6</td>\n",
       "      <td>1</td>\n",
       "      <td>1</td>\n",
       "      <td>10.000000</td>\n",
       "      <td>9.333333</td>\n",
       "      <td>10.000000</td>\n",
       "      <td>9.333333</td>\n",
       "      <td>7.666667</td>\n",
       "      <td>9.2500</td>\n",
       "      <td>609.0</td>\n",
       "    </tr>\n",
       "    <tr>\n",
       "      <th>4</th>\n",
       "      <td>29</td>\n",
       "      <td>24.0</td>\n",
       "      <td>65.0</td>\n",
       "      <td>64.0</td>\n",
       "      <td>0.0</td>\n",
       "      <td>0.000000</td>\n",
       "      <td>0.015625</td>\n",
       "      <td>0.000000</td>\n",
       "      <td>0.000000</td>\n",
       "      <td>0.000000</td>\n",
       "      <td>...</td>\n",
       "      <td>2</td>\n",
       "      <td>2</td>\n",
       "      <td>1</td>\n",
       "      <td>6.333333</td>\n",
       "      <td>4.666667</td>\n",
       "      <td>8.333333</td>\n",
       "      <td>5.666667</td>\n",
       "      <td>8.333333</td>\n",
       "      <td>6.6250</td>\n",
       "      <td>64.0</td>\n",
       "    </tr>\n",
       "  </tbody>\n",
       "</table>\n",
       "<p>5 rows × 340 columns</p>\n",
       "</div>"
      ],
      "text/plain": [
       "   age  user_followed_by  user_follows  user_posted_photos  ratio_Abyssinian  \\\n",
       "0   42             364.0         814.0              2037.0               0.0   \n",
       "1   36             198.0         288.0               124.0               0.0   \n",
       "2   21             311.0         240.0               350.0               0.0   \n",
       "3   37             732.0         943.0               610.0               0.0   \n",
       "4   29              24.0          65.0                64.0               0.0   \n",
       "\n",
       "   ratio_Alcohol  ratio_Animal  ratio_Appliance  ratio_Architecture  \\\n",
       "0       0.000000      0.009327         0.000491            0.000491   \n",
       "1       0.000000      0.000000         0.000000            0.000000   \n",
       "2       0.000000      0.000000         0.000000            0.000000   \n",
       "3       0.001639      0.000000         0.000000            0.000000   \n",
       "4       0.000000      0.015625         0.000000            0.000000   \n",
       "\n",
       "   ratio_Art     ...      employed  income  participate          P         E  \\\n",
       "0   0.000491     ...             0       5            1   3.000000  5.333333   \n",
       "1   0.000000     ...             2       6            1   7.666667  8.333333   \n",
       "2   0.000000     ...             3       1            1   4.666667  8.000000   \n",
       "3   0.001639     ...             6       1            1  10.000000  9.333333   \n",
       "4   0.000000     ...             2       2            1   6.333333  4.666667   \n",
       "\n",
       "           R         M         A   PERMA  imagecount  \n",
       "0   3.666667  5.333333  5.333333  4.4375      1515.0  \n",
       "1   7.333333  7.666667  8.000000  7.8750       123.0  \n",
       "2   6.333333  4.666667  5.000000  5.6875       350.0  \n",
       "3  10.000000  9.333333  7.666667  9.2500       609.0  \n",
       "4   8.333333  5.666667  8.333333  6.6250        64.0  \n",
       "\n",
       "[5 rows x 340 columns]"
      ]
     },
     "execution_count": 10,
     "metadata": {},
     "output_type": "execute_result"
    }
   ],
   "source": [
    "clean_df.head()"
   ]
  },
  {
   "cell_type": "code",
   "execution_count": 11,
   "metadata": {
    "ExecuteTime": {
     "end_time": "2018-11-02T18:56:24.322248Z",
     "start_time": "2018-11-02T18:56:24.317085Z"
    }
   },
   "outputs": [
    {
     "data": {
      "text/plain": [
       "(158, 340)"
      ]
     },
     "execution_count": 11,
     "metadata": {},
     "output_type": "execute_result"
    }
   ],
   "source": [
    "clean_df.shape"
   ]
  },
  {
   "cell_type": "code",
   "execution_count": 12,
   "metadata": {
    "ExecuteTime": {
     "end_time": "2018-11-02T18:56:24.761451Z",
     "start_time": "2018-11-02T18:56:24.732499Z"
    }
   },
   "outputs": [
    {
     "name": "stdout",
     "output_type": "stream",
     "text": [
      "<class 'pandas.core.frame.DataFrame'>\n",
      "Int64Index: 158 entries, 0 to 158\n",
      "Columns: 340 entries, age to imagecount\n",
      "dtypes: float64(333), int32(1), int64(1), int8(5)\n",
      "memory usage: 414.9 KB\n"
     ]
    }
   ],
   "source": [
    "clean_df.info()"
   ]
  },
  {
   "cell_type": "code",
   "execution_count": 13,
   "metadata": {
    "ExecuteTime": {
     "end_time": "2018-11-02T18:56:31.953010Z",
     "start_time": "2018-11-02T18:56:31.946964Z"
    }
   },
   "outputs": [],
   "source": [
    "clean_df.to_pickle(__data_dir + 'merged_features.pickle')"
   ]
  },
  {
   "cell_type": "code",
   "execution_count": null,
   "metadata": {},
   "outputs": [],
   "source": []
  }
 ],
 "metadata": {
  "kernelspec": {
   "display_name": "FDS Project 1",
   "language": "python",
   "name": "fds-project1"
  },
  "language_info": {
   "codemirror_mode": {
    "name": "ipython",
    "version": 3
   },
   "file_extension": ".py",
   "mimetype": "text/x-python",
   "name": "python",
   "nbconvert_exporter": "python",
   "pygments_lexer": "ipython3",
   "version": "3.7.0"
  },
  "toc": {
   "base_numbering": 1,
   "nav_menu": {},
   "number_sections": true,
   "sideBar": true,
   "skip_h1_title": false,
   "title_cell": "Table of Contents",
   "title_sidebar": "Contents",
   "toc_cell": false,
   "toc_position": {},
   "toc_section_display": true,
   "toc_window_display": false
  }
 },
 "nbformat": 4,
 "nbformat_minor": 2
}
