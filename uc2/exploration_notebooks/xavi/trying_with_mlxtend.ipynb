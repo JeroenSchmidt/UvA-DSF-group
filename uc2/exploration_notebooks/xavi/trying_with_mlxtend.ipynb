{
 "cells": [
  {
   "cell_type": "code",
   "execution_count": 14,
   "metadata": {},
   "outputs": [],
   "source": [
    "import pandas as pd\n",
    "from sklearn.datasets import load_boston\n",
    "from mlxtend.feature_selection import SequentialFeatureSelector as SFS\n",
    "from sklearn.linear_model import LinearRegression"
   ]
  },
  {
   "cell_type": "code",
   "execution_count": 15,
   "metadata": {},
   "outputs": [],
   "source": [
    "boston = load_boston()"
   ]
  },
  {
   "cell_type": "code",
   "execution_count": 16,
   "metadata": {},
   "outputs": [],
   "source": [
    "bos = pd.DataFrame(boston.data, columns=boston.feature_names)\n",
    "bos['PRICE'] = boston.target"
   ]
  },
  {
   "cell_type": "code",
   "execution_count": 17,
   "metadata": {},
   "outputs": [],
   "source": [
    "X = bos.drop('PRICE', axis=1)\n",
    "y = bos['PRICE']\n"
   ]
  },
  {
   "cell_type": "code",
   "execution_count": 10,
   "metadata": {},
   "outputs": [],
   "source": [
    "lm = LinearRegression()"
   ]
  },
  {
   "cell_type": "code",
   "execution_count": 58,
   "metadata": {},
   "outputs": [],
   "source": [
    "sfs1 = SFS(lm, \n",
    "           k_features='best', \n",
    "           forward=True, \n",
    "           floating=False,\n",
    "           cv=15)"
   ]
  },
  {
   "cell_type": "code",
   "execution_count": 59,
   "metadata": {},
   "outputs": [],
   "source": [
    "sfs1 = sfs1.fit(X, y)"
   ]
  },
  {
   "cell_type": "code",
   "execution_count": 60,
   "metadata": {},
   "outputs": [
    {
     "data": {
      "text/plain": [
       "('CHAS', 'RM', 'PTRATIO', 'B', 'LSTAT')"
      ]
     },
     "execution_count": 60,
     "metadata": {},
     "output_type": "execute_result"
    }
   ],
   "source": [
    "sfs1.k_feature_names_"
   ]
  },
  {
   "cell_type": "code",
   "execution_count": 48,
   "metadata": {},
   "outputs": [
    {
     "data": {
      "text/plain": [
       "LinearRegression(copy_X=True, fit_intercept=True, n_jobs=1, normalize=False)"
      ]
     },
     "execution_count": 48,
     "metadata": {},
     "output_type": "execute_result"
    }
   ],
   "source": [
    "lm.fit(X.loc[:,sfs1.k_feature_names_], y)"
   ]
  },
  {
   "cell_type": "code",
   "execution_count": 62,
   "metadata": {},
   "outputs": [
    {
     "data": {
      "text/plain": [
       "{1: {'feature_idx': (12,),\n",
       "  'cv_scores': array([ 0.3829744 ,  0.29625854,  0.22575178, -1.53430216,  0.52557461,\n",
       "         -0.00386038,  0.14049897,  0.13997663,  0.30462248, -1.92510127,\n",
       "          0.21444807, -1.08432697, -0.53024933,  0.18589926,  0.24099888]),\n",
       "  'avg_score': -0.16138910001164194,\n",
       "  'feature_names': ('LSTAT',)},\n",
       " 2: {'feature_idx': (10, 12),\n",
       "  'cv_scores': array([ 0.62821551,  0.32827064,  0.32275121, -1.15940599,  0.52226064,\n",
       "          0.16596716,  0.24931058,  0.45389108,  0.35232617, -1.18861223,\n",
       "          0.07634213, -0.59849543, -0.25674289,  0.51169915,  0.55523861]),\n",
       "  'avg_score': 0.06420109044652675,\n",
       "  'feature_names': ('PTRATIO', 'LSTAT')},\n",
       " 3: {'feature_idx': (5, 10, 12),\n",
       "  'cv_scores': array([ 0.7474162 ,  0.69969254,  0.69305693, -0.76264758,  0.72528529,\n",
       "          0.456575  ,  0.57628314,  0.76035328,  0.62181818,  0.0526782 ,\n",
       "         -0.39166465, -2.2749333 , -0.68079193, -0.29860349,  0.56210169]),\n",
       "  'avg_score': 0.09910796583540803,\n",
       "  'feature_names': ('RM', 'PTRATIO', 'LSTAT')},\n",
       " 4: {'feature_idx': (5, 10, 11, 12),\n",
       "  'cv_scores': array([ 0.73110145,  0.708765  ,  0.68448249, -0.48327834,  0.76163264,\n",
       "          0.47857458,  0.60708383,  0.76952498,  0.62736681,  0.02680047,\n",
       "         -0.48140539, -2.74671523, -0.34142523, -0.08186793,  0.56521535]),\n",
       "  'avg_score': 0.12172369954877037,\n",
       "  'feature_names': ('RM', 'PTRATIO', 'B', 'LSTAT')},\n",
       " 5: {'feature_idx': (3, 5, 10, 11, 12),\n",
       "  'cv_scores': array([ 0.74100611,  0.72909164,  0.70340882, -0.48199068,  0.72450851,\n",
       "          0.4432657 ,  0.5721952 ,  0.74485199,  0.69522016,  0.12503909,\n",
       "         -0.42686376, -2.60292437, -0.33203795, -0.01033419,  0.56887495]),\n",
       "  'avg_score': 0.14622074937640175,\n",
       "  'feature_names': ('CHAS', 'RM', 'PTRATIO', 'B', 'LSTAT')},\n",
       " 6: {'feature_idx': (1, 3, 5, 10, 11, 12),\n",
       "  'cv_scores': array([ 0.74032979,  0.73041045,  0.70086343, -0.50748353,  0.7230081 ,\n",
       "          0.43445883,  0.57340443,  0.7445972 ,  0.69651346,  0.06419571,\n",
       "         -0.42791552, -2.62154539, -0.34259606, -0.01557768,  0.56646054]),\n",
       "  'avg_score': 0.13727491729698746,\n",
       "  'feature_names': ('ZN', 'CHAS', 'RM', 'PTRATIO', 'B', 'LSTAT')},\n",
       " 7: {'feature_idx': (1, 3, 4, 5, 10, 11, 12),\n",
       "  'cv_scores': array([ 0.74214618,  0.71698865,  0.6689074 , -0.46889388,  0.71782998,\n",
       "          0.43863667,  0.57315186,  0.71796142,  0.68872936,  0.02845801,\n",
       "         -0.63496827, -2.62393195, -0.32858191,  0.01398527,  0.57477249]),\n",
       "  'avg_score': 0.12167941844228534,\n",
       "  'feature_names': ('ZN', 'CHAS', 'NOX', 'RM', 'PTRATIO', 'B', 'LSTAT')},\n",
       " 8: {'feature_idx': (1, 3, 4, 5, 7, 10, 11, 12),\n",
       "  'cv_scores': array([ 0.69489551,  0.6188457 ,  0.52660964, -0.91507417,  0.7788491 ,\n",
       "          0.55895793,  0.60668482,  0.72400412,  0.73156033,  0.24739369,\n",
       "         -0.47605852, -2.81559519, -0.18556188,  0.37358209,  0.46450362]),\n",
       "  'avg_score': 0.1289064535035243,\n",
       "  'feature_names': ('ZN',\n",
       "   'CHAS',\n",
       "   'NOX',\n",
       "   'RM',\n",
       "   'DIS',\n",
       "   'PTRATIO',\n",
       "   'B',\n",
       "   'LSTAT')},\n",
       " 9: {'feature_idx': (1, 3, 4, 5, 6, 7, 10, 11, 12),\n",
       "  'cv_scores': array([ 0.69401975,  0.61015408,  0.52579492, -0.9271734 ,  0.77873577,\n",
       "          0.55867605,  0.5897895 ,  0.72424511,  0.73048649,  0.24081056,\n",
       "         -0.57175056, -2.83187172, -0.19343129,  0.37533473,  0.44898769]),\n",
       "  'avg_score': 0.1168538447345694,\n",
       "  'feature_names': ('ZN',\n",
       "   'CHAS',\n",
       "   'NOX',\n",
       "   'RM',\n",
       "   'AGE',\n",
       "   'DIS',\n",
       "   'PTRATIO',\n",
       "   'B',\n",
       "   'LSTAT')},\n",
       " 10: {'feature_idx': (1, 2, 3, 4, 5, 6, 7, 10, 11, 12),\n",
       "  'cv_scores': array([ 0.69874606,  0.61027331,  0.53382403, -1.10664732,  0.76501814,\n",
       "          0.55890042,  0.58896299,  0.72697196,  0.73454394,  0.19540761,\n",
       "         -0.57247473, -2.81660706, -0.18866135,  0.36547232,  0.46089397]),\n",
       "  'avg_score': 0.1036416202748854,\n",
       "  'feature_names': ('ZN',\n",
       "   'INDUS',\n",
       "   'CHAS',\n",
       "   'NOX',\n",
       "   'RM',\n",
       "   'AGE',\n",
       "   'DIS',\n",
       "   'PTRATIO',\n",
       "   'B',\n",
       "   'LSTAT')},\n",
       " 11: {'feature_idx': (1, 2, 3, 4, 5, 6, 7, 9, 10, 11, 12),\n",
       "  'cv_scores': array([ 0.69884448,  0.61018614,  0.53305231, -1.31227942,  0.76506653,\n",
       "          0.55493206,  0.5876363 ,  0.72704918,  0.73458287,  0.19413562,\n",
       "         -0.72612147, -2.99559335, -0.18770778,  0.36664331,  0.45284546]),\n",
       "  'avg_score': 0.06688481731671676,\n",
       "  'feature_names': ('ZN',\n",
       "   'INDUS',\n",
       "   'CHAS',\n",
       "   'NOX',\n",
       "   'RM',\n",
       "   'AGE',\n",
       "   'DIS',\n",
       "   'TAX',\n",
       "   'PTRATIO',\n",
       "   'B',\n",
       "   'LSTAT')},\n",
       " 12: {'feature_idx': (1, 2, 3, 4, 5, 6, 7, 8, 9, 10, 11, 12),\n",
       "  'cv_scores': array([ 0.69957146,  0.61930866,  0.54251911, -0.28974611,  0.7153564 ,\n",
       "          0.57092598,  0.59057969,  0.72877003,  0.72363919,  0.26966018,\n",
       "         -0.66466339, -3.74052766, -0.21513674,  0.29333322,  0.41534636]),\n",
       "  'avg_score': 0.08392909098114121,\n",
       "  'feature_names': ('ZN',\n",
       "   'INDUS',\n",
       "   'CHAS',\n",
       "   'NOX',\n",
       "   'RM',\n",
       "   'AGE',\n",
       "   'DIS',\n",
       "   'RAD',\n",
       "   'TAX',\n",
       "   'PTRATIO',\n",
       "   'B',\n",
       "   'LSTAT')},\n",
       " 13: {'feature_idx': (0, 1, 2, 3, 4, 5, 6, 7, 8, 9, 10, 11, 12),\n",
       "  'cv_scores': array([ 0.70130496,  0.61336803,  0.54248458, -0.38988187,  0.70624163,\n",
       "          0.56971603,  0.59464525,  0.72354679,  0.71713356,  0.29553515,\n",
       "         -0.61557961, -3.77245443, -0.26241447,  0.17085158,  0.44075396]),\n",
       "  'avg_score': 0.06901674185305211,\n",
       "  'feature_names': ('CRIM',\n",
       "   'ZN',\n",
       "   'INDUS',\n",
       "   'CHAS',\n",
       "   'NOX',\n",
       "   'RM',\n",
       "   'AGE',\n",
       "   'DIS',\n",
       "   'RAD',\n",
       "   'TAX',\n",
       "   'PTRATIO',\n",
       "   'B',\n",
       "   'LSTAT')}}"
      ]
     },
     "execution_count": 62,
     "metadata": {},
     "output_type": "execute_result"
    }
   ],
   "source": [
    "sfs1.subsets_"
   ]
  },
  {
   "cell_type": "code",
   "execution_count": null,
   "metadata": {},
   "outputs": [],
   "source": []
  }
 ],
 "metadata": {
  "kernelspec": {
   "display_name": "Python 3",
   "language": "python",
   "name": "python3"
  },
  "language_info": {
   "codemirror_mode": {
    "name": "ipython",
    "version": 3
   },
   "file_extension": ".py",
   "mimetype": "text/x-python",
   "name": "python",
   "nbconvert_exporter": "python",
   "pygments_lexer": "ipython3",
   "version": "3.6.5"
  }
 },
 "nbformat": 4,
 "nbformat_minor": 2
}
