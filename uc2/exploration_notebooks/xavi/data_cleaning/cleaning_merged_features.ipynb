{
 "cells": [
  {
   "cell_type": "code",
   "execution_count": 1,
   "metadata": {},
   "outputs": [],
   "source": [
    "import pandas as pd\n",
    "import numpy as np"
   ]
  },
  {
   "cell_type": "code",
   "execution_count": 44,
   "metadata": {},
   "outputs": [],
   "source": [
    "df = pd.read_pickle(\"../../../data/Visual_well_being/merged_features.pickle\")"
   ]
  },
  {
   "cell_type": "markdown",
   "metadata": {},
   "source": [
    "We will remove those features that are no necessary or can be calculated by other variables.\n",
    "\n",
    "* 'percentage_animals' is calculated with 'Animal', 'Pet', 'Canine', 'Dog' and 'Cat'\n",
    "* P_1, P_2, ... , A_2, A_3, HAP, LON are variables to calculare P, E, R, M, A and PERMA\n",
    "* 'id', 'user_id', 'network_id', 'insta_user_id' are ids, so they will be removed\n",
    "* 'start_q' and 'end_q' are just dates where the survey was taken\n",
    "* 'private_account' and 'completed' are columns with the same value for all users"
   ]
  },
  {
   "cell_type": "code",
   "execution_count": 45,
   "metadata": {},
   "outputs": [],
   "source": [
    "drop_columns = ['A_2', 'N_1', 'P_1', 'E_1', 'A_1', 'H_1', 'M_1', 'R_1', 'M_2', 'E_2',\\\n",
    "        'H_2', 'P_2', 'N_2', 'A_3', 'N_3', 'E_3', 'H_3', 'R_2', 'M_3','R_3',\\\n",
    "        'P_3','N_EMO', 'P_EMO', 'HAP', 'LON',\\\n",
    "        'index', 'id', 'user_id', 'insta_user_id', 'network_id', 'start_q',\\\n",
    "        'end_q', 'private_account', 'completed', 'HAP',\\\n",
    "        'Animal', 'Pet', 'Canine', 'Dog', 'Cat']"
   ]
  },
  {
   "cell_type": "code",
   "execution_count": 46,
   "metadata": {},
   "outputs": [],
   "source": [
    "df = df.drop(drop_columns, axis=1)"
   ]
  },
  {
   "cell_type": "markdown",
   "metadata": {},
   "source": [
    "Trasnforming the categorical data to integers"
   ]
  },
  {
   "cell_type": "code",
   "execution_count": 48,
   "metadata": {},
   "outputs": [],
   "source": [
    "def convert_columns(df):\n",
    "    for col in df.columns:\n",
    "        if (df[col].dtype.__str__() == 'category'):\n",
    "            df[col] = df[col].cat.codes\n",
    "    return df\n",
    "\n",
    "df = convert_columns(df)"
   ]
  },
  {
   "cell_type": "code",
   "execution_count": 50,
   "metadata": {},
   "outputs": [
    {
     "name": "stdout",
     "output_type": "stream",
     "text": [
      "<class 'pandas.core.frame.DataFrame'>\n",
      "Int64Index: 159 entries, 0 to 158\n",
      "Data columns (total 90 columns):\n",
      "age                                           159 non-null float64\n",
      "user_followed_by                              159 non-null float64\n",
      "user_follows                                  159 non-null float64\n",
      "user_posted_photos                            159 non-null float64\n",
      "Person                                        159 non-null float64\n",
      "Plant                                         159 non-null float64\n",
      "Food                                          159 non-null float64\n",
      "Collage                                       159 non-null float64\n",
      "Outdoors                                      159 non-null float64\n",
      "Book                                          159 non-null float64\n",
      "Sky                                           159 non-null float64\n",
      "Alcohol                                       159 non-null float64\n",
      "Crowd                                         159 non-null float64\n",
      "Toy                                           159 non-null float64\n",
      "Coast                                         159 non-null float64\n",
      "Tree                                          159 non-null float64\n",
      "Beach                                         159 non-null float64\n",
      "Sport                                         159 non-null float64\n",
      "Teddy Bear                                    159 non-null float64\n",
      "Sunlight                                      159 non-null float64\n",
      "Light                                         159 non-null float64\n",
      "Drawing                                       159 non-null float64\n",
      "Sea Life                                      159 non-null float64\n",
      "TV                                            159 non-null float64\n",
      "Dusk                                          159 non-null float64\n",
      "Bikini                                        159 non-null float64\n",
      "Sunrise                                       159 non-null float64\n",
      "Sunset                                        159 non-null float64\n",
      "Swimwear                                      159 non-null float64\n",
      "Selfie                                        159 non-null float64\n",
      "Beard                                         159 non-null float64\n",
      "Woman                                         159 non-null float64\n",
      "Cocktail                                      159 non-null float64\n",
      "Pool                                          159 non-null float64\n",
      "Performer                                     159 non-null float64\n",
      "Coffee Cup                                    159 non-null float64\n",
      "Tattoo                                        159 non-null float64\n",
      "Downtown                                      159 non-null float64\n",
      "Musical Instrument                            159 non-null float64\n",
      "Festival                                      159 non-null float64\n",
      "City                                          159 non-null float64\n",
      "Laptop                                        159 non-null float64\n",
      "Pizza                                         159 non-null float64\n",
      "Cloud                                         159 non-null float64\n",
      "Beer Bottle                                   159 non-null float64\n",
      "Money                                         159 non-null float64\n",
      "Club                                          159 non-null float64\n",
      "Airplane                                      159 non-null float64\n",
      "Sketch                                        159 non-null float64\n",
      "Sandwich                                      159 non-null float64\n",
      "Cafeteria                                     159 non-null float64\n",
      "Breakfast                                     159 non-null float64\n",
      "Child                                         159 non-null float64\n",
      "avg_number_of_faces_over_images_with_faces    159 non-null float64\n",
      "avg_number_of_faces_over_all_images           159 non-null float64\n",
      "avg_likes                                     159 non-null float64\n",
      "avg_comments                                  159 non-null float64\n",
      "happy_flt_pct                                 159 non-null float64\n",
      "depressed_flt_pct                             159 non-null float64\n",
      "happy_to_depressed_flt_ratio                  159 non-null float64\n",
      "avg_posts_early_day                           159 non-null float64\n",
      "avg_posts_late_day                            159 non-null float64\n",
      "avg_posts_early_night                         159 non-null float64\n",
      "avg_posts_late_night                          159 non-null float64\n",
      "avg_posts_day                                 159 non-null float64\n",
      "avg_posts_night                               159 non-null float64\n",
      "avg_posts_whole_date                          159 non-null float64\n",
      "percentage_animals                            159 non-null float64\n",
      "ANGRY                                         159 non-null float64\n",
      "CALM                                          159 non-null float64\n",
      "CONFUSED                                      159 non-null float64\n",
      "DISGUSTED                                     159 non-null float64\n",
      "HAPPY                                         159 non-null float64\n",
      "SAD                                           159 non-null float64\n",
      "SURPRISED                                     159 non-null float64\n",
      "ratio_male                                    159 non-null float64\n",
      "ratio_female                                  159 non-null float64\n",
      "gender                                        159 non-null int8\n",
      "born                                          159 non-null int32\n",
      "education                                     159 non-null int8\n",
      "employed                                      159 non-null int8\n",
      "income                                        159 non-null int8\n",
      "participate                                   159 non-null int8\n",
      "P                                             159 non-null float64\n",
      "E                                             159 non-null float64\n",
      "R                                             159 non-null float64\n",
      "M                                             159 non-null float64\n",
      "A                                             159 non-null float64\n",
      "PERMA                                         158 non-null float64\n",
      "imagecount                                    159 non-null float64\n",
      "dtypes: float64(84), int32(1), int8(5)\n",
      "memory usage: 107.0 KB\n"
     ]
    }
   ],
   "source": [
    "df.info()"
   ]
  },
  {
   "cell_type": "code",
   "execution_count": 51,
   "metadata": {},
   "outputs": [
    {
     "data": {
      "text/plain": [
       "(159, 90)"
      ]
     },
     "execution_count": 51,
     "metadata": {},
     "output_type": "execute_result"
    }
   ],
   "source": [
    "df.shape"
   ]
  },
  {
   "cell_type": "code",
   "execution_count": 52,
   "metadata": {},
   "outputs": [],
   "source": [
    "df.to_pickle(\"../../../data/Visual_well_being/merged_features.pickle\")"
   ]
  },
  {
   "cell_type": "code",
   "execution_count": null,
   "metadata": {},
   "outputs": [],
   "source": []
  }
 ],
 "metadata": {
  "kernelspec": {
   "display_name": "Python 3",
   "language": "python",
   "name": "python3"
  },
  "language_info": {
   "codemirror_mode": {
    "name": "ipython",
    "version": 3
   },
   "file_extension": ".py",
   "mimetype": "text/x-python",
   "name": "python",
   "nbconvert_exporter": "python",
   "pygments_lexer": "ipython3",
   "version": "3.6.5"
  }
 },
 "nbformat": 4,
 "nbformat_minor": 2
}
