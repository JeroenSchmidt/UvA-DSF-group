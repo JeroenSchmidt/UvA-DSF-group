{
 "cells": [
  {
   "cell_type": "code",
   "execution_count": 1,
   "metadata": {},
   "outputs": [],
   "source": [
    "import pandas as pd"
   ]
  },
  {
   "cell_type": "code",
   "execution_count": 3,
   "metadata": {},
   "outputs": [],
   "source": [
    "m = pd.read_pickle(\"../../data/Visual_well_being/merged_features.pickle\")"
   ]
  },
  {
   "cell_type": "code",
   "execution_count": 4,
   "metadata": {},
   "outputs": [
    {
     "data": {
      "text/html": [
       "<div>\n",
       "<style scoped>\n",
       "    .dataframe tbody tr th:only-of-type {\n",
       "        vertical-align: middle;\n",
       "    }\n",
       "\n",
       "    .dataframe tbody tr th {\n",
       "        vertical-align: top;\n",
       "    }\n",
       "\n",
       "    .dataframe thead th {\n",
       "        text-align: right;\n",
       "    }\n",
       "</style>\n",
       "<table border=\"1\" class=\"dataframe\">\n",
       "  <thead>\n",
       "    <tr style=\"text-align: right;\">\n",
       "      <th></th>\n",
       "      <th>age</th>\n",
       "      <th>user_followed_by</th>\n",
       "      <th>user_follows</th>\n",
       "      <th>user_posted_photos</th>\n",
       "      <th>Person</th>\n",
       "      <th>Plant</th>\n",
       "      <th>Food</th>\n",
       "      <th>Collage</th>\n",
       "      <th>Outdoors</th>\n",
       "      <th>Book</th>\n",
       "      <th>...</th>\n",
       "      <th>employed</th>\n",
       "      <th>income</th>\n",
       "      <th>participate</th>\n",
       "      <th>P</th>\n",
       "      <th>E</th>\n",
       "      <th>R</th>\n",
       "      <th>M</th>\n",
       "      <th>A</th>\n",
       "      <th>PERMA</th>\n",
       "      <th>imagecount</th>\n",
       "    </tr>\n",
       "  </thead>\n",
       "  <tbody>\n",
       "    <tr>\n",
       "      <th>0</th>\n",
       "      <td>42</td>\n",
       "      <td>364.0</td>\n",
       "      <td>814.0</td>\n",
       "      <td>2037.0</td>\n",
       "      <td>0.024546</td>\n",
       "      <td>0.006382</td>\n",
       "      <td>0.000000</td>\n",
       "      <td>0.003927</td>\n",
       "      <td>0.005400</td>\n",
       "      <td>0.003927</td>\n",
       "      <td>...</td>\n",
       "      <td>0</td>\n",
       "      <td>5</td>\n",
       "      <td>1</td>\n",
       "      <td>3.000000</td>\n",
       "      <td>5.333333</td>\n",
       "      <td>3.666667</td>\n",
       "      <td>5.333333</td>\n",
       "      <td>5.333333</td>\n",
       "      <td>4.4375</td>\n",
       "      <td>1515.0</td>\n",
       "    </tr>\n",
       "    <tr>\n",
       "      <th>1</th>\n",
       "      <td>36</td>\n",
       "      <td>198.0</td>\n",
       "      <td>288.0</td>\n",
       "      <td>124.0</td>\n",
       "      <td>0.024194</td>\n",
       "      <td>0.000000</td>\n",
       "      <td>0.000000</td>\n",
       "      <td>0.008065</td>\n",
       "      <td>0.000000</td>\n",
       "      <td>0.000000</td>\n",
       "      <td>...</td>\n",
       "      <td>2</td>\n",
       "      <td>6</td>\n",
       "      <td>1</td>\n",
       "      <td>7.666667</td>\n",
       "      <td>8.333333</td>\n",
       "      <td>7.333333</td>\n",
       "      <td>7.666667</td>\n",
       "      <td>8.000000</td>\n",
       "      <td>7.8750</td>\n",
       "      <td>123.0</td>\n",
       "    </tr>\n",
       "    <tr>\n",
       "      <th>2</th>\n",
       "      <td>21</td>\n",
       "      <td>311.0</td>\n",
       "      <td>240.0</td>\n",
       "      <td>350.0</td>\n",
       "      <td>0.017143</td>\n",
       "      <td>0.000000</td>\n",
       "      <td>0.002857</td>\n",
       "      <td>0.000000</td>\n",
       "      <td>0.000000</td>\n",
       "      <td>0.000000</td>\n",
       "      <td>...</td>\n",
       "      <td>3</td>\n",
       "      <td>1</td>\n",
       "      <td>1</td>\n",
       "      <td>4.666667</td>\n",
       "      <td>8.000000</td>\n",
       "      <td>6.333333</td>\n",
       "      <td>4.666667</td>\n",
       "      <td>5.000000</td>\n",
       "      <td>5.6875</td>\n",
       "      <td>350.0</td>\n",
       "    </tr>\n",
       "    <tr>\n",
       "      <th>3</th>\n",
       "      <td>37</td>\n",
       "      <td>732.0</td>\n",
       "      <td>943.0</td>\n",
       "      <td>610.0</td>\n",
       "      <td>0.019672</td>\n",
       "      <td>0.000000</td>\n",
       "      <td>0.001639</td>\n",
       "      <td>0.001639</td>\n",
       "      <td>0.001639</td>\n",
       "      <td>0.000000</td>\n",
       "      <td>...</td>\n",
       "      <td>6</td>\n",
       "      <td>1</td>\n",
       "      <td>1</td>\n",
       "      <td>10.000000</td>\n",
       "      <td>9.333333</td>\n",
       "      <td>10.000000</td>\n",
       "      <td>9.333333</td>\n",
       "      <td>7.666667</td>\n",
       "      <td>9.2500</td>\n",
       "      <td>609.0</td>\n",
       "    </tr>\n",
       "    <tr>\n",
       "      <th>4</th>\n",
       "      <td>29</td>\n",
       "      <td>24.0</td>\n",
       "      <td>65.0</td>\n",
       "      <td>64.0</td>\n",
       "      <td>0.031250</td>\n",
       "      <td>0.031250</td>\n",
       "      <td>0.000000</td>\n",
       "      <td>0.000000</td>\n",
       "      <td>0.015625</td>\n",
       "      <td>0.000000</td>\n",
       "      <td>...</td>\n",
       "      <td>2</td>\n",
       "      <td>2</td>\n",
       "      <td>1</td>\n",
       "      <td>6.333333</td>\n",
       "      <td>4.666667</td>\n",
       "      <td>8.333333</td>\n",
       "      <td>5.666667</td>\n",
       "      <td>8.333333</td>\n",
       "      <td>6.6250</td>\n",
       "      <td>64.0</td>\n",
       "    </tr>\n",
       "  </tbody>\n",
       "</table>\n",
       "<p>5 rows × 106 columns</p>\n",
       "</div>"
      ],
      "text/plain": [
       "   age  user_followed_by  user_follows  user_posted_photos    Person  \\\n",
       "0   42             364.0         814.0              2037.0  0.024546   \n",
       "1   36             198.0         288.0               124.0  0.024194   \n",
       "2   21             311.0         240.0               350.0  0.017143   \n",
       "3   37             732.0         943.0               610.0  0.019672   \n",
       "4   29              24.0          65.0                64.0  0.031250   \n",
       "\n",
       "      Plant      Food   Collage  Outdoors      Book     ...      employed  \\\n",
       "0  0.006382  0.000000  0.003927  0.005400  0.003927     ...             0   \n",
       "1  0.000000  0.000000  0.008065  0.000000  0.000000     ...             2   \n",
       "2  0.000000  0.002857  0.000000  0.000000  0.000000     ...             3   \n",
       "3  0.000000  0.001639  0.001639  0.001639  0.000000     ...             6   \n",
       "4  0.031250  0.000000  0.000000  0.015625  0.000000     ...             2   \n",
       "\n",
       "   income  participate          P         E          R         M         A  \\\n",
       "0       5            1   3.000000  5.333333   3.666667  5.333333  5.333333   \n",
       "1       6            1   7.666667  8.333333   7.333333  7.666667  8.000000   \n",
       "2       1            1   4.666667  8.000000   6.333333  4.666667  5.000000   \n",
       "3       1            1  10.000000  9.333333  10.000000  9.333333  7.666667   \n",
       "4       2            1   6.333333  4.666667   8.333333  5.666667  8.333333   \n",
       "\n",
       "    PERMA  imagecount  \n",
       "0  4.4375      1515.0  \n",
       "1  7.8750       123.0  \n",
       "2  5.6875       350.0  \n",
       "3  9.2500       609.0  \n",
       "4  6.6250        64.0  \n",
       "\n",
       "[5 rows x 106 columns]"
      ]
     },
     "execution_count": 4,
     "metadata": {},
     "output_type": "execute_result"
    }
   ],
   "source": [
    "m.head()"
   ]
  },
  {
   "cell_type": "code",
   "execution_count": 5,
   "metadata": {
    "scrolled": true
   },
   "outputs": [
    {
     "data": {
      "text/plain": [
       "(158, 106)"
      ]
     },
     "execution_count": 5,
     "metadata": {},
     "output_type": "execute_result"
    }
   ],
   "source": [
    "m.shape"
   ]
  },
  {
   "cell_type": "code",
   "execution_count": null,
   "metadata": {},
   "outputs": [],
   "source": [
    "# split data"
   ]
  },
  {
   "cell_type": "code",
   "execution_count": null,
   "metadata": {},
   "outputs": [],
   "source": [
    "# gbm\n",
    "# linear modle\n",
    "# SVM linear Modle"
   ]
  },
  {
   "cell_type": "code",
   "execution_count": null,
   "metadata": {},
   "outputs": [],
   "source": [
    "for i in models():\n",
    "    # feature selection\n",
    "    "
   ]
  }
 ],
 "metadata": {
  "kernelspec": {
   "display_name": "UvA DS Fundementals",
   "language": "python",
   "name": "uva-ds-fundementals"
  },
  "language_info": {
   "codemirror_mode": {
    "name": "ipython",
    "version": 3
   },
   "file_extension": ".py",
   "mimetype": "text/x-python",
   "name": "python",
   "nbconvert_exporter": "python",
   "pygments_lexer": "ipython3",
   "version": "3.6.6"
  },
  "toc": {
   "base_numbering": 1,
   "nav_menu": {},
   "number_sections": true,
   "sideBar": true,
   "skip_h1_title": false,
   "title_cell": "Table of Contents",
   "title_sidebar": "Contents",
   "toc_cell": false,
   "toc_position": {},
   "toc_section_display": true,
   "toc_window_display": false
  },
  "varInspector": {
   "cols": {
    "lenName": 16,
    "lenType": 16,
    "lenVar": 40
   },
   "kernels_config": {
    "python": {
     "delete_cmd_postfix": "",
     "delete_cmd_prefix": "del ",
     "library": "var_list.py",
     "varRefreshCmd": "print(var_dic_list())"
    },
    "r": {
     "delete_cmd_postfix": ") ",
     "delete_cmd_prefix": "rm(",
     "library": "var_list.r",
     "varRefreshCmd": "cat(var_dic_list()) "
    }
   },
   "types_to_exclude": [
    "module",
    "function",
    "builtin_function_or_method",
    "instance",
    "_Feature"
   ],
   "window_display": false
  }
 },
 "nbformat": 4,
 "nbformat_minor": 2
}
